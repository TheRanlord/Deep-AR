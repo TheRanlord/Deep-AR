{
 "cells": [
  {
   "cell_type": "code",
   "execution_count": 1,
   "id": "6d7b5dc1-806e-4b5d-b3e2-3a423091871d",
   "metadata": {},
   "outputs": [
    {
     "name": "stdout",
     "output_type": "stream",
     "text": [
      "sagemaker.config INFO - Not applying SDK defaults from location: /etc/xdg/sagemaker/config.yaml\n",
      "sagemaker.config INFO - Not applying SDK defaults from location: /home/sagemaker-user/.config/sagemaker/config.yaml\n"
     ]
    }
   ],
   "source": [
    "from __future__ import print_function\n",
    "\n",
    "%matplotlib inline\n",
    "\n",
    "import sys\n",
    "import zipfile\n",
    "from dateutil.parser import parse\n",
    "import json\n",
    "from random import shuffle\n",
    "import random\n",
    "import datetime\n",
    "import os\n",
    "\n",
    "import boto3\n",
    "import sagemaker\n",
    "from sagemaker.model import Model\n",
    "import numpy as np\n",
    "import pandas as pd\n",
    "import matplotlib.pyplot as plt\n",
    "from datetime import timedelta\n",
    "\n",
    "from ipywidgets import interact, interactive, fixed, interact_manual\n",
    "import ipywidgets as widgets\n",
    "from ipywidgets import IntSlider, FloatSlider, Checkbox"
   ]
  },
  {
   "cell_type": "code",
   "execution_count": 2,
   "id": "0dbaf377-8358-4044-a420-38515eb1d895",
   "metadata": {},
   "outputs": [
    {
     "data": {
      "text/plain": [
       "'arn:aws:iam::975050089157:role/service-role/SageMaker-bpv-ml-dev'"
      ]
     },
     "execution_count": 2,
     "metadata": {},
     "output_type": "execute_result"
    }
   ],
   "source": [
    "sagemaker_session = sagemaker.Session()\n",
    "role = sagemaker.get_execution_role()\n",
    "image_name = sagemaker.image_uris.retrieve(\"forecasting-deepar\", 'us-east-1')\n",
    "role"
   ]
  },
  {
   "cell_type": "markdown",
   "id": "cbb572cc-bbf5-4a66-80f9-9a3e3a0f0263",
   "metadata": {},
   "source": [
    "# Athena connection"
   ]
  },
  {
   "cell_type": "code",
   "execution_count": 3,
   "id": "62421b72-378a-40e7-88bd-f6338b9a7e5a",
   "metadata": {},
   "outputs": [],
   "source": [
    "from pyathena import connect\n",
    "\n",
    "# Create a connection to Athena\n",
    "conn = connect(s3_staging_dir='s3://bpv-dl-qa-athena-query-results',\n",
    "               region_name='us-east-1',\n",
    "               schema_name='bpv-dl-qa-glue-db-technical')"
   ]
  },
  {
   "cell_type": "markdown",
   "id": "ee298d49-b37a-4e70-9b30-1f21ae176564",
   "metadata": {},
   "source": [
    "# Yahoo finance"
   ]
  },
  {
   "cell_type": "code",
   "execution_count": 4,
   "id": "5bf72f2e-a188-44e4-9964-8f3c948d268f",
   "metadata": {},
   "outputs": [
    {
     "name": "stderr",
     "output_type": "stream",
     "text": [
      "/tmp/ipykernel_143/1682436462.py:2: UserWarning: pandas only supports SQLAlchemy connectable (engine/connection) or database string URI or sqlite3 DBAPI2 connection. Other DBAPI2 objects are not tested. Please consider using SQLAlchemy.\n",
      "  df = pd.read_sql_query('SELECT * FROM \"bpv-dl-qa-glue-db-technical\".\"yf_spy_index\" ORDER BY \"date\" ASC;', conn)\n"
     ]
    }
   ],
   "source": [
    "# Execute the query and fetch the results into a pandas DataFrame\n",
    "df = pd.read_sql_query('SELECT * FROM \"bpv-dl-qa-glue-db-technical\".\"yf_spy_index\" ORDER BY \"date\" ASC;', conn)"
   ]
  },
  {
   "cell_type": "code",
   "execution_count": null,
   "id": "9f9e13da-55cd-4846-b00a-1ee9fa94f08b",
   "metadata": {},
   "outputs": [],
   "source": [
    "df"
   ]
  },
  {
   "cell_type": "markdown",
   "id": "6b0c2439-00c9-418b-96cf-d9dd9a070f3b",
   "metadata": {},
   "source": [
    "# Top 20 "
   ]
  },
  {
   "cell_type": "code",
   "execution_count": 5,
   "id": "a02b8ab9-453c-434b-b161-12ce7237781e",
   "metadata": {},
   "outputs": [
    {
     "name": "stderr",
     "output_type": "stream",
     "text": [
      "/tmp/ipykernel_143/1029822429.py:1: UserWarning: pandas only supports SQLAlchemy connectable (engine/connection) or database string URI or sqlite3 DBAPI2 connection. Other DBAPI2 objects are not tested. Please consider using SQLAlchemy.\n",
      "  top_20_df_og = pd.read_sql_query('SELECT * FROM \"bpv-dl-qa-glue-db-technical\".\"yf_top_20_tickers\" ORDER BY ticker;', conn)\n"
     ]
    }
   ],
   "source": [
    "top_20_df_og = pd.read_sql_query('SELECT * FROM \"bpv-dl-qa-glue-db-technical\".\"yf_top_20_tickers\" ORDER BY ticker;', conn)"
   ]
  },
  {
   "cell_type": "code",
   "execution_count": null,
   "id": "0488c172-1f34-459f-b169-2902ced08fc6",
   "metadata": {},
   "outputs": [],
   "source": [
    "top_20_df_og"
   ]
  },
  {
   "cell_type": "code",
   "execution_count": 6,
   "id": "b0317d43-fcf2-486d-9186-ad12d93b8de2",
   "metadata": {},
   "outputs": [],
   "source": [
    "# Create a copy of the DataFrame\n",
    "df_copy = top_20_df_og.copy()\n",
    "\n",
    "# Set the index\n",
    "df_copy.set_index(['date', 'ticker'], inplace=True)\n",
    "\n",
    "# Check for duplicate indices\n",
    "#assert not df_copy.index.duplicated().any(), \"DataFrame copy has duplicate indices\""
   ]
  },
  {
   "cell_type": "markdown",
   "id": "806d9fc6-2d2f-4570-a52c-620870ee6631",
   "metadata": {},
   "source": [
    "# Sentimental analysis"
   ]
  },
  {
   "cell_type": "markdown",
   "id": "45371e29-0146-48d4-8708-49e96d70bf5e",
   "metadata": {
    "jp-MarkdownHeadingCollapsed": true
   },
   "source": [
    "## financial_modeling_prep"
   ]
  },
  {
   "cell_type": "code",
   "execution_count": null,
   "id": "626323a9-2de0-4c5d-ac5f-8a18a14b0e3f",
   "metadata": {},
   "outputs": [],
   "source": [
    "sentimental_df_fmp_og = pd.read_sql_query('SELECT * FROM \"bpv-dl-qa-glue-db-news\".\"financial_modeling_prep\";', conn)"
   ]
  },
  {
   "cell_type": "code",
   "execution_count": null,
   "id": "031847be-1011-4ac2-89c3-04e05a54127d",
   "metadata": {},
   "outputs": [],
   "source": [
    "sentimental_df_fmp_og"
   ]
  },
  {
   "cell_type": "markdown",
   "id": "de53a530-116c-451d-b89b-e09122ffa9a9",
   "metadata": {},
   "source": [
    "## alphavantage"
   ]
  },
  {
   "cell_type": "code",
   "execution_count": 7,
   "id": "bfda925e-628b-42b5-8327-b5dcab02050d",
   "metadata": {},
   "outputs": [
    {
     "name": "stderr",
     "output_type": "stream",
     "text": [
      "/tmp/ipykernel_143/72030502.py:1: UserWarning: pandas only supports SQLAlchemy connectable (engine/connection) or database string URI or sqlite3 DBAPI2 connection. Other DBAPI2 objects are not tested. Please consider using SQLAlchemy.\n",
      "  sentimental_df_av_og = pd.read_sql_query('SELECT \"time_published\", \"title\", \"summary\", \"ticker\", \"source\", \"ticker_relevance_score\", \"ticker_sentiment_label\" FROM \"bpv-dl-qa-glue-db-news\".\"alphavantage\" ORDER BY \"time_published\";', conn)\n"
     ]
    }
   ],
   "source": [
    "sentimental_df_av_og = pd.read_sql_query('SELECT \"time_published\", \"title\", \"summary\", \"ticker\", \"source\", \"ticker_relevance_score\", \"ticker_sentiment_label\" FROM \"bpv-dl-qa-glue-db-news\".\"alphavantage\" ORDER BY \"time_published\";', conn)"
   ]
  },
  {
   "cell_type": "code",
   "execution_count": null,
   "id": "750c5513-99d6-40eb-9e8e-9bfabd71b11c",
   "metadata": {},
   "outputs": [],
   "source": [
    "sentimental_df_av_og.head()"
   ]
  },
  {
   "cell_type": "markdown",
   "id": "4d80eefe-b600-4746-8029-519bb0848a3c",
   "metadata": {},
   "source": [
    "# Global economic conditions"
   ]
  },
  {
   "cell_type": "code",
   "execution_count": 8,
   "id": "7e2dd25a-e9b5-4037-9c3c-7f8e3214aa11",
   "metadata": {},
   "outputs": [
    {
     "name": "stderr",
     "output_type": "stream",
     "text": [
      "/tmp/ipykernel_143/1626883350.py:1: UserWarning: pandas only supports SQLAlchemy connectable (engine/connection) or database string URI or sqlite3 DBAPI2 connection. Other DBAPI2 objects are not tested. Please consider using SQLAlchemy.\n",
      "  glob_econ_cond_og = pd.read_sql_query(f\"\"\"SELECT * FROM \"bpv-dl-qa-glue-db-fundamental\".\"global_economic_conditions\" WHERE \"unit\" = 'percent' ORDER BY \"date\" ASC\"\"\", conn)\n"
     ]
    }
   ],
   "source": [
    "glob_econ_cond_og = pd.read_sql_query(f\"\"\"SELECT * FROM \"bpv-dl-qa-glue-db-fundamental\".\"global_economic_conditions\" WHERE \"unit\" = 'percent' ORDER BY \"date\" ASC\"\"\", conn)"
   ]
  },
  {
   "cell_type": "code",
   "execution_count": null,
   "id": "565b44a2-7b90-4541-8270-655d6213b036",
   "metadata": {},
   "outputs": [],
   "source": [
    "glob_econ_cond_og.head()"
   ]
  },
  {
   "cell_type": "markdown",
   "id": "a5fdc758-3682-4555-a249-e50897901f95",
   "metadata": {},
   "source": [
    "# VIX"
   ]
  },
  {
   "cell_type": "code",
   "execution_count": 9,
   "id": "b80c8d3b-f6df-40d1-a0d6-20ec9a6e004a",
   "metadata": {},
   "outputs": [
    {
     "name": "stderr",
     "output_type": "stream",
     "text": [
      "/tmp/ipykernel_143/2320715156.py:1: UserWarning: pandas only supports SQLAlchemy connectable (engine/connection) or database string URI or sqlite3 DBAPI2 connection. Other DBAPI2 objects are not tested. Please consider using SQLAlchemy.\n",
      "  vix_og = pd.read_sql_query('SELECT \"date\", \"close\" FROM \"bpv-dl-qa-glue-db-technical\".\"yf_vix_index\" ORDER BY \"date\" DESC;', conn)\n"
     ]
    }
   ],
   "source": [
    "vix_og = pd.read_sql_query('SELECT \"date\", \"close\" FROM \"bpv-dl-qa-glue-db-technical\".\"yf_vix_index\" ORDER BY \"date\" DESC;', conn)"
   ]
  },
  {
   "cell_type": "code",
   "execution_count": null,
   "id": "a3d1597b-ffeb-4c91-b98a-e34d243e2ab7",
   "metadata": {},
   "outputs": [],
   "source": [
    "vix_og.tail()"
   ]
  },
  {
   "cell_type": "markdown",
   "id": "7984127f-39cf-4663-9408-fa95f5876993",
   "metadata": {},
   "source": [
    "# Small business confidence"
   ]
  },
  {
   "cell_type": "code",
   "execution_count": 10,
   "id": "777f3f24-f0cf-4b42-ad62-c32a7dfa988a",
   "metadata": {},
   "outputs": [
    {
     "name": "stderr",
     "output_type": "stream",
     "text": [
      "/tmp/ipykernel_143/2865663013.py:1: UserWarning: pandas only supports SQLAlchemy connectable (engine/connection) or database string URI or sqlite3 DBAPI2 connection. Other DBAPI2 objects are not tested. Please consider using SQLAlchemy.\n",
      "  small_bus_conf_og = pd.read_sql_query('SELECT \"monthyear\", \"opt_index\" FROM \"bpv-dl-qa-glue-db-fundamental\".\"nfib_small_business_confidence\" ORDER BY \"monthyear\" ASC;', conn)\n"
     ]
    }
   ],
   "source": [
    "small_bus_conf_og = pd.read_sql_query('SELECT \"monthyear\", \"opt_index\" FROM \"bpv-dl-qa-glue-db-fundamental\".\"nfib_small_business_confidence\" ORDER BY \"monthyear\" ASC;', conn)"
   ]
  },
  {
   "cell_type": "code",
   "execution_count": 11,
   "id": "4cc4e8f7-97d1-48d1-82a9-3edd0a5b5196",
   "metadata": {},
   "outputs": [],
   "source": [
    "small_bus_conf = small_bus_conf_og.copy()\n",
    "small_bus_conf = pd.DataFrame({\n",
    "    'date' : small_bus_conf['monthyear'],\n",
    "    'opt_index' : small_bus_conf['opt_index']\n",
    "})"
   ]
  },
  {
   "cell_type": "code",
   "execution_count": null,
   "id": "b903f438-273b-4613-8223-74eb00c55388",
   "metadata": {},
   "outputs": [],
   "source": [
    "small_bus_conf.head()"
   ]
  },
  {
   "cell_type": "markdown",
   "id": "9c284417-7348-453c-9f0e-a4eafaa73447",
   "metadata": {
    "jp-MarkdownHeadingCollapsed": true
   },
   "source": [
    "# Save datasets"
   ]
  },
  {
   "cell_type": "code",
   "execution_count": null,
   "id": "0e189d45-4744-4dc9-9014-69b3103031a8",
   "metadata": {},
   "outputs": [],
   "source": [
    "df.to_csv('yahoo_finance.csv', index=False)\n",
    "top_20_df_og.to_csv('top_20.csv', index=False)\n",
    "sentimental_df_fmp_og.to_csv('sentimental_analysis_financial_modeling_prep.csv', index=False)\n",
    "sentimental_df_av_og.to_csv('sentimental_analysis_a.csv', index=False)"
   ]
  },
  {
   "cell_type": "markdown",
   "id": "d31449af-0eec-4024-b3ea-e2c9639bbcdb",
   "metadata": {
    "jp-MarkdownHeadingCollapsed": true
   },
   "source": [
    "# Rating Top 20"
   ]
  },
  {
   "cell_type": "code",
   "execution_count": null,
   "id": "f8f6e409-5529-4757-a839-276807fed593",
   "metadata": {},
   "outputs": [],
   "source": [
    "rating_top_20 = top_20_df_og[['ticker', 'rating']].drop_duplicates().sort_values(by='rating')\n",
    "rating_top_20 = rating_top_20.reset_index()\n",
    "rating_top_20 = rating_top_20[['ticker','rating']]"
   ]
  },
  {
   "cell_type": "code",
   "execution_count": null,
   "id": "a0630759-67cd-4733-a9f4-e068200b6288",
   "metadata": {},
   "outputs": [],
   "source": [
    "rating_top_20"
   ]
  },
  {
   "cell_type": "markdown",
   "id": "6dd1ffbe-fb96-4e25-955b-30f134750a37",
   "metadata": {},
   "source": [
    "### Weighted average"
   ]
  },
  {
   "cell_type": "code",
   "execution_count": null,
   "id": "6e230f07-9b5a-4479-a962-87d2fc258453",
   "metadata": {},
   "outputs": [],
   "source": [
    "# Calculate weights and normalize\n",
    "rating_top_20['weights'] = 20/rating_top_20['rating']/20"
   ]
  },
  {
   "cell_type": "code",
   "execution_count": null,
   "id": "fd981ff6-ddb1-4822-91d1-800516f73e1e",
   "metadata": {},
   "outputs": [],
   "source": [
    "rating_top_20"
   ]
  },
  {
   "cell_type": "markdown",
   "id": "6f1093f2-71d6-43b6-8d57-95882bf9d7b0",
   "metadata": {},
   "source": [
    "# Turn dates into index"
   ]
  },
  {
   "cell_type": "code",
   "execution_count": 12,
   "id": "425d6ede-8be1-4252-8e4a-ce01b580c7d2",
   "metadata": {},
   "outputs": [],
   "source": [
    "data = df.copy()\n",
    "data['date'] = pd.to_datetime(data['date'])\n",
    "data = data.set_index('date')"
   ]
  },
  {
   "cell_type": "code",
   "execution_count": null,
   "id": "3db94266-70c7-4953-ade1-212feb281115",
   "metadata": {},
   "outputs": [],
   "source": [
    "data"
   ]
  },
  {
   "cell_type": "markdown",
   "id": "ffa16cd7-83ca-4bbb-9753-d6ee75bd32fc",
   "metadata": {},
   "source": [
    "## Add Top 20 companies to dataframe"
   ]
  },
  {
   "cell_type": "code",
   "execution_count": 13,
   "id": "7c6ae65a-0d5c-42ed-9895-733318098ebb",
   "metadata": {},
   "outputs": [],
   "source": [
    "# Set 'date' and 'ticker' as a multi-index\n",
    "top_20_df = top_20_df_og.copy()\n",
    "top_20_df.set_index(['date', 'ticker'], inplace=True)\n",
    "\n",
    "# Drop duplicate index entries\n",
    "top_20_df = top_20_df.loc[~top_20_df.index.duplicated(keep='first')]\n",
    "\n",
    "# Unstack the 'ticker' level of the index\n",
    "new_data = top_20_df['close'].unstack('ticker')\n",
    "new_data.index = pd.to_datetime(new_data.index)\n",
    "\n",
    "# Merge the dataframes on the index\n",
    "data = pd.concat([data, new_data], axis=1)"
   ]
  },
  {
   "cell_type": "code",
   "execution_count": null,
   "id": "f381543c-9c27-4d11-afe0-ad74f3a0588f",
   "metadata": {},
   "outputs": [],
   "source": [
    "data.tail()"
   ]
  },
  {
   "cell_type": "code",
   "execution_count": null,
   "id": "3c769a55-34bc-45a8-8d60-3f06b00fd5c0",
   "metadata": {},
   "outputs": [],
   "source": [
    "data.head()"
   ]
  },
  {
   "cell_type": "code",
   "execution_count": null,
   "id": "7930866e-4a6f-424b-ba92-a82898eb2900",
   "metadata": {},
   "outputs": [],
   "source": [
    "data.shape"
   ]
  },
  {
   "cell_type": "code",
   "execution_count": null,
   "id": "4500b6cb-e864-4ddb-a45c-6b61c10ce5e7",
   "metadata": {},
   "outputs": [],
   "source": [
    "data.columns"
   ]
  },
  {
   "cell_type": "markdown",
   "id": "f2fd2386-4fd0-4470-84eb-f984389ce8ad",
   "metadata": {},
   "source": [
    "# Date vs Close chart"
   ]
  },
  {
   "cell_type": "code",
   "execution_count": null,
   "id": "7d8c4db1-e41f-4d39-a458-267594ee6f02",
   "metadata": {},
   "outputs": [],
   "source": [
    "plt.plot(data.index, data['close'])\n",
    "plt.xlabel('Date')\n",
    "plt.ylabel('Close Price')\n",
    "plt.title('S&P 500 Close Price Over Time')\n",
    "plt.show()"
   ]
  },
  {
   "cell_type": "markdown",
   "id": "142bb747-041c-4e86-aaf2-913a52596f89",
   "metadata": {},
   "source": [
    "# Adding columns and other features"
   ]
  },
  {
   "cell_type": "markdown",
   "id": "727d6554-45cc-4064-bbfd-75989d6bdfdb",
   "metadata": {},
   "source": [
    "## Column Variables"
   ]
  },
  {
   "cell_type": "code",
   "execution_count": 14,
   "id": "86415156-06e5-47a8-9019-8e04d04b731c",
   "metadata": {},
   "outputs": [],
   "source": [
    "extras = ['sentiment', 'negative_sentiment', 'gec', 'vix','small_bus', 'all_features']\n",
    "target_column = 'close_log_returns'\n",
    "prediction_column = 'prediction_log_returns_top20'\n",
    "prediction_features_columns = [f'prediction_log_returns_top20_{column}' for column in extras]"
   ]
  },
  {
   "cell_type": "markdown",
   "id": "340fd29e-13f5-4981-b3cd-311bbfd2d098",
   "metadata": {},
   "source": [
    "## Logarithmic returns"
   ]
  },
  {
   "cell_type": "code",
   "execution_count": 15,
   "id": "72dedb46-7905-40e3-b841-c019591bf919",
   "metadata": {},
   "outputs": [],
   "source": [
    "data[target_column] = np.log(data['close']/data['close'].shift(1))"
   ]
  },
  {
   "cell_type": "code",
   "execution_count": null,
   "id": "7ae59a3c-27b9-4803-8d82-398d4211f83a",
   "metadata": {},
   "outputs": [],
   "source": [
    "data"
   ]
  },
  {
   "cell_type": "markdown",
   "id": "ccdbaf0d-e571-4952-8088-c46688099f71",
   "metadata": {
    "jp-MarkdownHeadingCollapsed": true
   },
   "source": [
    "## Cumulative returns"
   ]
  },
  {
   "cell_type": "code",
   "execution_count": null,
   "id": "b110e31e-876e-4ba5-865e-904cc0e2e615",
   "metadata": {},
   "outputs": [],
   "source": [
    "data['cumulative_log_returns'] = data[target_column].cumsum()"
   ]
  },
  {
   "cell_type": "code",
   "execution_count": null,
   "id": "456f19a3-17f1-4659-add3-73c89708ca4e",
   "metadata": {},
   "outputs": [],
   "source": [
    "data['cumulative_log_returns_prices'] = np.exp(data['cumulative_log_returns'])\n",
    "data['cumulative_log_returns_prices'] = data['close'].iloc[0] * data['cumulative_log_returns_prices']"
   ]
  },
  {
   "cell_type": "code",
   "execution_count": null,
   "id": "e9eb90f6-7e16-4ab5-bda8-1ef8b8ccfc65",
   "metadata": {},
   "outputs": [],
   "source": [
    "data"
   ]
  },
  {
   "cell_type": "code",
   "execution_count": null,
   "id": "119ff9da-dda3-42cc-a684-c7dc87c0a226",
   "metadata": {},
   "outputs": [],
   "source": [
    "plt.plot(data.index, data['cumulative_log_returns'])\n",
    "plt.xlabel('Date')\n",
    "plt.ylabel('Close Price')\n",
    "plt.title('S&P 500 Close Price Over Time - Log returns')\n",
    "plt.show()"
   ]
  },
  {
   "cell_type": "markdown",
   "id": "c3d0d435-336d-490e-b64a-1ae6d8633d2b",
   "metadata": {},
   "source": [
    "## Logarithmic returns of tickers"
   ]
  },
  {
   "cell_type": "code",
   "execution_count": 16,
   "id": "9cc017cf-9e45-4e26-af13-79c297da667e",
   "metadata": {},
   "outputs": [],
   "source": [
    "for ticker in top_20_df_og['ticker'].unique():\n",
    "    # Calculate the logarithmic returns for the current ticker\n",
    "    data[ticker + '_log_return'] = np.log(data[ticker] / data[ticker].shift(1))"
   ]
  },
  {
   "cell_type": "code",
   "execution_count": null,
   "id": "952c0a83-fec7-4d5d-8004-5fe7d1b87e23",
   "metadata": {},
   "outputs": [],
   "source": [
    "data"
   ]
  },
  {
   "cell_type": "markdown",
   "id": "9ff24773-8bb9-4141-9e09-0b7a77db2324",
   "metadata": {},
   "source": [
    "## Sentimental features"
   ]
  },
  {
   "cell_type": "markdown",
   "id": "2ec4fa43-c634-4414-bcfa-adaad579cf75",
   "metadata": {},
   "source": [
    "### Regular"
   ]
  },
  {
   "cell_type": "code",
   "execution_count": 17,
   "id": "d896bf00-70b2-404a-ac33-5430111c493d",
   "metadata": {},
   "outputs": [],
   "source": [
    "sentiment_to_value = {\n",
    "    \"Bearish\": int(-2),\n",
    "    \"Somewhat-Bearish\": int(-1),\n",
    "    \"Neutral\": int(0),\n",
    "    \"Somewhat-Bullish\": int(1),\n",
    "    \"Bullish\": int(2),\n",
    "}"
   ]
  },
  {
   "cell_type": "code",
   "execution_count": 18,
   "id": "3f568019-e506-4231-9148-5c17d13432e3",
   "metadata": {},
   "outputs": [],
   "source": [
    "sentimental_df_av = sentimental_df_av_og.copy()\n",
    "# Drop duplicates\n",
    "sentimental_df_av.drop_duplicates(inplace=True)\n",
    "sentimental_df_av['ticker_sentiment_numerical_label'] = sentimental_df_av['ticker_sentiment_label'].map(sentiment_to_value)\n",
    "# Convert 'time_published' to datetime and then to date\n",
    "sentimental_df_av['time_published'] = pd.to_datetime(sentimental_df_av['time_published']).dt.date\n",
    "\n",
    "# Convert 'ticker_sentiment_numerical_label' and 'ticker_relevance_score' to float\n",
    "sentimental_df_av['ticker_sentiment_numerical_label'] = sentimental_df_av['ticker_sentiment_numerical_label'].astype(float)\n",
    "sentimental_df_av['ticker_relevance_score'] = pd.to_numeric(sentimental_df_av['ticker_relevance_score'], errors='coerce')\n",
    "\n",
    "# Calculate weighted sentiment score\n",
    "sentimental_df_av['weighted_sentiment'] = sentimental_df_av['ticker_sentiment_numerical_label'] * sentimental_df_av['ticker_relevance_score']\n",
    "\n",
    "# Group by date and calculate sum of weighted sentiment scores and sum of relevance scores\n",
    "grouped = sentimental_df_av.groupby('time_published').agg({'weighted_sentiment': 'sum', 'ticker_relevance_score': 'sum'})\n",
    "\n",
    "# Reset the index\n",
    "grouped.reset_index(inplace=True)\n",
    "\n",
    "# Calculate average weighted sentiment score\n",
    "grouped['avg_weighted_sentiment'] = grouped['weighted_sentiment'] / grouped['ticker_relevance_score']\n",
    "\n",
    "# Create a new DataFrame\n",
    "sentimental_df_av = pd.DataFrame({\n",
    "    'date': grouped['time_published'],\n",
    "    'avg_weighted_sentiment': grouped['avg_weighted_sentiment'],\n",
    "})\n",
    "sentimental_df_av.set_index('date', inplace=True)"
   ]
  },
  {
   "cell_type": "code",
   "execution_count": 19,
   "id": "ee93ccdd-1479-46fc-a957-1137a12c1a7a",
   "metadata": {},
   "outputs": [],
   "source": [
    "# Merge the two dataframes on date\n",
    "data = pd.merge(data, sentimental_df_av['avg_weighted_sentiment'], left_index=True, right_index=True, how='left')\n",
    "data = data.fillna(0)\n",
    "\n",
    "# Fill missing values\n",
    "data.ffill(inplace=True)"
   ]
  },
  {
   "cell_type": "markdown",
   "id": "88f3c1e8-dfa2-43a4-93d4-2448e0abf860",
   "metadata": {},
   "source": [
    "### Negative"
   ]
  },
  {
   "cell_type": "code",
   "execution_count": 20,
   "id": "17c559be-df4f-435d-b1f7-6253f31ba358",
   "metadata": {},
   "outputs": [],
   "source": [
    "negative_sentiment_to_value = {\n",
    "    \"Bearish\": int(2),\n",
    "    \"Somewhat-Bearish\": int(1),\n",
    "    \"Neutral\": int(0),\n",
    "    \"Somewhat-Bullish\": int(-1),\n",
    "    \"Bullish\": int(-2),\n",
    "}"
   ]
  },
  {
   "cell_type": "code",
   "execution_count": 21,
   "id": "1d813754-8452-4537-853a-d84f9e7ce62f",
   "metadata": {},
   "outputs": [],
   "source": [
    "negative_sentimental_df_av = sentimental_df_av_og.copy()\n",
    "\n",
    "# Drop duplicates\n",
    "negative_sentimental_df_av.drop_duplicates(inplace=True)\n",
    "\n",
    "# Map sentiment labels to numerical values\n",
    "negative_sentimental_df_av['ticker_negative_sentiment_numerical_label'] = negative_sentimental_df_av['ticker_sentiment_label'].map(negative_sentiment_to_value)\n",
    "\n",
    "# Convert 'time_published' to datetime and then to date\n",
    "negative_sentimental_df_av['time_published'] = pd.to_datetime(negative_sentimental_df_av['time_published']).dt.date\n",
    "\n",
    "# Convert 'ticker_negative_sentiment_numerical_label' and 'ticker_relevance_score' to float\n",
    "negative_sentimental_df_av['ticker_negative_sentiment_numerical_label'] = negative_sentimental_df_av['ticker_negative_sentiment_numerical_label'].astype(float)\n",
    "negative_sentimental_df_av['ticker_relevance_score'] = pd.to_numeric(negative_sentimental_df_av['ticker_relevance_score'], errors='coerce')\n",
    "\n",
    "# Calculate weighted sentiment score\n",
    "negative_sentimental_df_av['negative_weighted_sentiment'] = negative_sentimental_df_av['ticker_negative_sentiment_numerical_label'] * negative_sentimental_df_av['ticker_relevance_score']\n",
    "\n",
    "# Group by date and calculate sum of weighted sentiment scores and sum of relevance scores\n",
    "grouped = negative_sentimental_df_av.groupby('time_published').agg({'negative_weighted_sentiment': 'sum', 'ticker_relevance_score': 'sum'})\n",
    "\n",
    "# Reset the index\n",
    "grouped.reset_index(inplace=True)\n",
    "\n",
    "# Calculate average weighted sentiment score\n",
    "grouped['avg_weighted_negative_sentiment'] = grouped['negative_weighted_sentiment'] / grouped['ticker_relevance_score']\n",
    "\n",
    "# Create a new DataFrame\n",
    "negative_sentimental_df_av = pd.DataFrame({\n",
    "    'date': grouped['time_published'],\n",
    "    'avg_weighted_negative_sentiment': grouped['avg_weighted_negative_sentiment'],\n",
    "})\n",
    "\n",
    "negative_sentimental_df_av.set_index('date', inplace=True)"
   ]
  },
  {
   "cell_type": "code",
   "execution_count": 22,
   "id": "9bd22011-4367-4097-a815-9d5b823d59bc",
   "metadata": {},
   "outputs": [],
   "source": [
    "# Merge the two dataframes on date\n",
    "data = pd.merge(data, negative_sentimental_df_av['avg_weighted_negative_sentiment'], left_index=True, right_index=True, how='left')\n",
    "data = data.fillna(0)\n",
    "\n",
    "# Fill missing values\n",
    "data.ffill(inplace=True)"
   ]
  },
  {
   "cell_type": "code",
   "execution_count": null,
   "id": "c8a8e3cb-f56d-417a-af73-31af9cd1b006",
   "metadata": {},
   "outputs": [],
   "source": [
    "data.head()"
   ]
  },
  {
   "cell_type": "markdown",
   "id": "892c28cc-4261-44aa-b994-b9a14064a189",
   "metadata": {
    "jp-MarkdownHeadingCollapsed": true
   },
   "source": [
    "## Add weights to log returns"
   ]
  },
  {
   "cell_type": "code",
   "execution_count": null,
   "id": "2da8b1a3-eb2c-4a1c-9d5f-acd7bf539cf9",
   "metadata": {},
   "outputs": [],
   "source": [
    "weighted_log_return_columns = [ticker + '_log_return_weighted' for ticker in top_20_df_og['ticker'].unique()]"
   ]
  },
  {
   "cell_type": "code",
   "execution_count": null,
   "id": "7e82eb27-eae1-4208-994b-8cc21b48a4b0",
   "metadata": {},
   "outputs": [],
   "source": [
    "for index, row in rating_top_20.iterrows():\n",
    "    ticker = row['ticker']\n",
    "    weight = row['weights']\n",
    "    data[ticker + '_log_return_weighted'] = data[ticker] * weight"
   ]
  },
  {
   "cell_type": "code",
   "execution_count": null,
   "id": "c811aa17-45af-406c-8172-0640f602a963",
   "metadata": {},
   "outputs": [],
   "source": [
    "data.columns"
   ]
  },
  {
   "cell_type": "markdown",
   "id": "4875937b-5ff1-435d-b109-ce4ce4307de2",
   "metadata": {},
   "source": [
    "## Add GEC"
   ]
  },
  {
   "cell_type": "code",
   "execution_count": 23,
   "id": "e0cf6e29-588f-45a3-8004-2a51dd8bf310",
   "metadata": {},
   "outputs": [],
   "source": [
    "glob_econ_cond = glob_econ_cond_og.copy()\n",
    "glob_econ_cond['date'] = pd.to_datetime(glob_econ_cond['date'])\n",
    "glob_econ_cond = glob_econ_cond.set_index('date')\n",
    "glob_econ_cond = glob_econ_cond[['value', 'unit', 'interval', 'function']]"
   ]
  },
  {
   "cell_type": "code",
   "execution_count": null,
   "id": "e4928ee2-7209-4580-b494-a92880038913",
   "metadata": {},
   "outputs": [],
   "source": [
    "glob_econ_cond"
   ]
  },
  {
   "cell_type": "markdown",
   "id": "49bc6364-e861-4eac-9c69-1d9538af7382",
   "metadata": {},
   "source": [
    "### Unemployment percentage"
   ]
  },
  {
   "cell_type": "code",
   "execution_count": 24,
   "id": "59a49d0c-cfe2-4b65-bb42-b82a68013b96",
   "metadata": {},
   "outputs": [],
   "source": [
    "# Filter rows where 'function' is 'UNEMPLOYMENT'\n",
    "unemployment = glob_econ_cond[glob_econ_cond['function'] == 'UNEMPLOYMENT']\n",
    "\n",
    "# Resample to monthly frequency and forward fill missing values\n",
    "unemployment = unemployment.resample('D').ffill()"
   ]
  },
  {
   "cell_type": "code",
   "execution_count": null,
   "id": "8b06dca3-1d20-4926-aa0f-3a28c85685eb",
   "metadata": {},
   "outputs": [],
   "source": [
    "unemployment"
   ]
  },
  {
   "cell_type": "code",
   "execution_count": 25,
   "id": "d8361fcf-6a95-460e-bd47-5465a6be9730",
   "metadata": {},
   "outputs": [],
   "source": [
    "data['unemployment_percent'] = unemployment['value']"
   ]
  },
  {
   "cell_type": "markdown",
   "id": "01d352e2-b415-4626-92f7-334ea43cc287",
   "metadata": {},
   "source": [
    "### Inflation"
   ]
  },
  {
   "cell_type": "code",
   "execution_count": 26,
   "id": "b9830bd5-492b-458b-b02c-632e0aeb7f34",
   "metadata": {},
   "outputs": [],
   "source": [
    "inflation = glob_econ_cond[glob_econ_cond['function'] == 'INFLATION']\n",
    "inflation = inflation.resample('D').ffill()"
   ]
  },
  {
   "cell_type": "code",
   "execution_count": null,
   "id": "95391d82-454f-4caf-a540-9f2a9f3a106b",
   "metadata": {},
   "outputs": [],
   "source": [
    "inflation"
   ]
  },
  {
   "cell_type": "code",
   "execution_count": 27,
   "id": "e8951f87-7c80-4499-9388-c3b50d2908f8",
   "metadata": {},
   "outputs": [],
   "source": [
    "data['inflation_percent'] = inflation['value']"
   ]
  },
  {
   "cell_type": "markdown",
   "id": "58d9f670-c431-4f5d-a010-860acb3450f9",
   "metadata": {},
   "source": [
    "# Add Log return of VIX"
   ]
  },
  {
   "cell_type": "code",
   "execution_count": 28,
   "id": "1907b94d-79ad-40b2-85fa-82078b8da887",
   "metadata": {},
   "outputs": [],
   "source": [
    "vix = vix_og.copy()\n",
    "vix = vix.drop_duplicates()\n",
    "vix['date'] = pd.to_datetime(vix['date'])\n",
    "vix = vix.set_index('date')\n",
    "vix['log_return_vix'] = np.log(vix['close']/vix['close'].shift(1))"
   ]
  },
  {
   "cell_type": "code",
   "execution_count": 29,
   "id": "aac4d9af-8905-465f-8c07-036529467df8",
   "metadata": {},
   "outputs": [],
   "source": [
    "data['log_return_vix'] = vix['log_return_vix']"
   ]
  },
  {
   "cell_type": "code",
   "execution_count": null,
   "id": "9d0bb698-1333-4d98-8b07-707cb3595aab",
   "metadata": {},
   "outputs": [],
   "source": [
    "data.head()"
   ]
  },
  {
   "cell_type": "markdown",
   "id": "abc183fb-b856-423b-acc7-13ba42e59c92",
   "metadata": {},
   "source": [
    "# Add small business confidence"
   ]
  },
  {
   "cell_type": "code",
   "execution_count": 30,
   "id": "9feb9cdd-2ecf-45d4-90d2-3a1014845dc4",
   "metadata": {},
   "outputs": [],
   "source": [
    "small_bus_conf['date'] = pd.to_datetime(small_bus_conf['date'])\n",
    "small_bus_conf = small_bus_conf.set_index('date')"
   ]
  },
  {
   "cell_type": "code",
   "execution_count": 31,
   "id": "89621349-82bb-4b98-bcf1-6d6518c06b64",
   "metadata": {},
   "outputs": [],
   "source": [
    "small_bus_conf = small_bus_conf.resample('D').ffill()\n",
    "data['small_bus'] = small_bus_conf['opt_index']"
   ]
  },
  {
   "cell_type": "markdown",
   "id": "27d0b176-feab-4425-8089-c455ae6aa086",
   "metadata": {},
   "source": [
    "# Remove Nan"
   ]
  },
  {
   "cell_type": "code",
   "execution_count": 32,
   "id": "b0f3d63d-e1ee-4601-b6e7-759881ec0bf0",
   "metadata": {},
   "outputs": [],
   "source": [
    "data.fillna(0, inplace=True)"
   ]
  },
  {
   "cell_type": "code",
   "execution_count": null,
   "id": "e55c00f1-001f-40fb-8912-828af8cecd35",
   "metadata": {
    "scrolled": true
   },
   "outputs": [],
   "source": [
    "data"
   ]
  },
  {
   "cell_type": "markdown",
   "id": "d01c75bc-ef42-4d2e-8686-4fe7e62449e6",
   "metadata": {},
   "source": [
    "# Feature Column"
   ]
  },
  {
   "cell_type": "code",
   "execution_count": 33,
   "id": "9605b08a-baad-42e0-8cae-7b7282d3ee8e",
   "metadata": {},
   "outputs": [],
   "source": [
    "# List of names for features\n",
    "log_return_columns = [ticker + '_log_return' for ticker in top_20_df_og['ticker'].unique()]\n",
    "models_feature_columns = [log_return_columns.copy() for i in range(7)]\n",
    "\n",
    "feature_columns_name = ['avg_weighted_sentiment', 'avg_weighted_negative_sentiment', 'inflation_percent', 'unemployment_percent', 'log_return_vix', 'small_bus']\n",
    "\n",
    "\n",
    "assignments = [\n",
    "    (1, [0]),\n",
    "    (2, [1]),\n",
    "    (3, [2, 3]),\n",
    "    (4, [4]),\n",
    "    (5, [5]),\n",
    "    (6, [0, 1, 2, 3, 4, 5])\n",
    "]\n",
    "\n",
    "for model_index, column_indices in assignments:\n",
    "    for column_index in column_indices:\n",
    "        models_feature_columns[model_index].append(feature_columns_name[column_index])"
   ]
  },
  {
   "cell_type": "code",
   "execution_count": null,
   "id": "9ab0f076-1e01-4ddd-804e-031ad3ef407e",
   "metadata": {
    "scrolled": true
   },
   "outputs": [],
   "source": [
    "data.columns"
   ]
  },
  {
   "cell_type": "code",
   "execution_count": null,
   "id": "9c7e9dfd-e668-4892-8808-4905307854f4",
   "metadata": {},
   "outputs": [],
   "source": [
    "selected_feature_index = 5"
   ]
  },
  {
   "cell_type": "markdown",
   "id": "21a5f418-4623-4daf-a728-72df71c4cb69",
   "metadata": {},
   "source": [
    "# Separate dataframes for models"
   ]
  },
  {
   "cell_type": "code",
   "execution_count": 34,
   "id": "ade5f558-62f1-4f7b-a8d7-23180c3fe66f",
   "metadata": {},
   "outputs": [],
   "source": [
    "df_features = [data.copy() for i in range(7)]\n",
    "start_years = [\"2000\", \"2000\", \"2022\", \"2022\", \"2000\", \"2000\", \"2000\"]"
   ]
  },
  {
   "cell_type": "markdown",
   "id": "62fc1cf3-0fcd-4b3b-ad3e-5cd3c705b975",
   "metadata": {},
   "source": [
    "# Size of partitions"
   ]
  },
  {
   "cell_type": "code",
   "execution_count": 35,
   "id": "2c73da69-b7b3-4cf1-8161-f6b9b8441423",
   "metadata": {},
   "outputs": [],
   "source": [
    "# Business days frequency\n",
    "freq = \"B\"\n",
    "\n",
    "\n",
    "def prepare_data(data, year, window_size=10, train_ratio=0.95, test_year=None):\n",
    "    # Filter data from the selected year onwards\n",
    "    data = data.loc[year:]\n",
    "    \n",
    "    # Check if test_year is provided\n",
    "    if test_year is not None:\n",
    "        # Split the data at the start of test_year\n",
    "        num_test_days = len(data.loc[test_year:])\n",
    "        num_train_days = len(data) - num_test_days\n",
    "    else:\n",
    "        # Calculate the number of days\n",
    "        total_days = len(data)\n",
    "        num_train_days = int(total_days * train_ratio)\n",
    "        num_test_days = total_days - num_train_days\n",
    "    \n",
    "    # Calculate the number of test windows\n",
    "    num_test_windows = num_test_days // window_size\n",
    "    \n",
    "    # Get the start date of the dataset and the end dates of the training and test periods\n",
    "    start_dataset = data.index[0]\n",
    "    end_training = data.index[num_train_days - 1]\n",
    "    end_test = data.index[-1]\n",
    "    \n",
    "    return start_dataset, end_training, end_test, num_train_days, num_test_days, num_test_windows, data"
   ]
  },
  {
   "cell_type": "markdown",
   "id": "53e37dbf-4ad5-413f-8f29-ef08c145192b",
   "metadata": {},
   "source": [
    "## New models partitions"
   ]
  },
  {
   "cell_type": "code",
   "execution_count": 36,
   "id": "4662c45e-ab4a-4c0a-82f6-fa47a2146a2e",
   "metadata": {},
   "outputs": [],
   "source": [
    "window_size = 10\n",
    "results = [prepare_data(data=df_features[i], year=start_years[i], window_size=window_size, train_ratio=0.95, test_year=\"2024\") for i in range(7)]\n",
    "start_datasets, end_trainings, end_tests, num_train_days, num_test_days, num_test_windows, new_dfs = zip(*results)"
   ]
  },
  {
   "cell_type": "code",
   "execution_count": null,
   "id": "ec97a457-3b91-4edd-8270-671f0cdd0ca2",
   "metadata": {},
   "outputs": [],
   "source": [
    "training_date_ranges = []\n",
    "all_training_data = []\n",
    "all_test_data = []\n",
    "\n",
    "for i in range(7):\n",
    "    training_date_range = pd.date_range(start=start_datasets[i], end=end_trainings[i], freq=freq)\n",
    "    filtered_training_date_range = [date for date in training_date_range if date in new_dfs[i].index]\n",
    "    training_date_ranges.append(filtered_training_date_range)\n",
    "\n",
    "    training_data = [\n",
    "        {\n",
    "            \"start\": str(filtered_training_date_range[0]),\n",
    "            \"target\": new_dfs[i].loc[filtered_training_date_range[0]:filtered_training_date_range[-1], target_column].tolist(),\n",
    "            \"dynamic_feat\": [new_dfs[i].loc[filtered_training_date_range[0]:filtered_training_date_range[-1], col].tolist() for col in models_feature_columns[i]]\n",
    "        }\n",
    "    ]\n",
    "    all_training_data.append(training_data)\n",
    "\n",
    "    test_date_range = pd.date_range(start=end_trainings[i] + pd.DateOffset(days=1), end=end_tests[i], freq=freq)\n",
    "    filtered_test_date_range = [date for date in test_date_range if date in new_dfs[i].index]\n",
    "\n",
    "    test_data = [\n",
    "        {\n",
    "            \"start\": str(date - pd.DateOffset(days=window_size)),\n",
    "            \"target\": new_dfs[i].loc[date - pd.DateOffset(days=window_size):date, target_column].tolist(),\n",
    "            \"dynamic_feat\": [new_dfs[i].loc[date - pd.DateOffset(days=window_size):date, col].tolist() for col in models_feature_columns[i]]\n",
    "        }\n",
    "        for date in filtered_test_date_range\n",
    "    ]\n",
    "    all_test_data.append(test_data)"
   ]
  },
  {
   "cell_type": "code",
   "execution_count": null,
   "id": "d24dfa46-c30a-47e3-baac-06096c60816c",
   "metadata": {},
   "outputs": [],
   "source": [
    "for i in range(7):\n",
    "    print(f\"Dataset {i+1}:\")\n",
    "    print(f\"Training data length: {len(all_training_data[i])}\")\n",
    "    print(f\"Test data length: {len(all_test_data[i])}\")"
   ]
  },
  {
   "cell_type": "markdown",
   "id": "83407ac9-c53f-48c1-9537-24ccc7fc8166",
   "metadata": {
    "jp-MarkdownHeadingCollapsed": true
   },
   "source": [
    "## Standard models"
   ]
  },
  {
   "cell_type": "code",
   "execution_count": null,
   "id": "241433c6-7f41-4671-90f2-65f4e5ce09cc",
   "metadata": {},
   "outputs": [],
   "source": [
    "# Usage:\n",
    "window_size = 10\n",
    "start_dataset, end_training, end_test, num_train_days, num_test_days, num_test_windows, data = prepare_data(data=data, year='2000', window_size=window_size, test_year='2024')"
   ]
  },
  {
   "cell_type": "code",
   "execution_count": null,
   "id": "40c4ded8-386b-4c04-915e-e774faea60dc",
   "metadata": {},
   "outputs": [],
   "source": [
    "data.head()"
   ]
  },
  {
   "cell_type": "code",
   "execution_count": null,
   "id": "c6c25c2e-e486-407a-824a-f8769351b935",
   "metadata": {},
   "outputs": [],
   "source": [
    "data.head()"
   ]
  },
  {
   "cell_type": "markdown",
   "id": "a6e8ece3-5817-42f7-a8b2-50427256c2f0",
   "metadata": {},
   "source": [
    "### Train"
   ]
  },
  {
   "cell_type": "code",
   "execution_count": null,
   "id": "b69ae5af-4932-4bb3-9881-829024c060e7",
   "metadata": {},
   "outputs": [],
   "source": [
    "# Create a date range from start to end of training\n",
    "training_date_range = pd.date_range(start=start_dataset, end=end_training, freq=freq)\n",
    "# Filter out dates that are not in the DataFrame's index\n",
    "training_date_range = [date for date in training_date_range if date in data.index]"
   ]
  },
  {
   "cell_type": "markdown",
   "id": "c5fa2a6b-7d9c-46d1-abb9-6731d8fd5b67",
   "metadata": {},
   "source": [
    "##### Training with log returns from tickers"
   ]
  },
  {
   "cell_type": "code",
   "execution_count": null,
   "id": "58a23180-7534-47da-ab9b-5932a8b187d9",
   "metadata": {},
   "outputs": [],
   "source": [
    "# Convert DataFrame to list of dictionaries for training data\n",
    "training_data = [\n",
    "    {\n",
    "        \"start\": str(training_date_range[0]),\n",
    "        \"target\": data.loc[training_date_range[0]:training_date_range[-1], target_column].tolist(),\n",
    "        \"dynamic_feat\": [data.loc[training_date_range[0]:training_date_range[-1], col].tolist() for col in models_feature_columns[selected_feature_index]]\n",
    "    }\n",
    "]\n",
    "print(len(training_data))"
   ]
  },
  {
   "cell_type": "markdown",
   "id": "ddee6622-5365-4f42-a362-0fb97af28b60",
   "metadata": {},
   "source": [
    "### Test"
   ]
  },
  {
   "cell_type": "code",
   "execution_count": null,
   "id": "03c68dcd-470e-4a2f-89f9-27f74ebb6b97",
   "metadata": {},
   "outputs": [],
   "source": [
    "# Create a date range from start to end of training\n",
    "test_date_range = pd.date_range(start=end_training + pd.DateOffset(days=1), end=end_test, freq=freq)\n",
    "# Filter out dates that are not in the DataFrame's index\n",
    "test_date_range = [date for date in test_date_range if date in data.index]"
   ]
  },
  {
   "cell_type": "markdown",
   "id": "10ad1826-8993-4b1a-9ae7-1fb80083ffc7",
   "metadata": {},
   "source": [
    "##### Test with log returns from tickers"
   ]
  },
  {
   "cell_type": "code",
   "execution_count": null,
   "id": "620dd22d-02a6-4717-a127-a98bb9df17b0",
   "metadata": {},
   "outputs": [],
   "source": [
    "# Convert DataFrame to list of dictionaries for test data\n",
    "test_data = [\n",
    "    {\n",
    "        \"start\": str(date - pd.DateOffset(days=window_size)),\n",
    "        \"target\": data.loc[date - pd.DateOffset(days=window_size):date, target_column].tolist(),\n",
    "        \"dynamic_feat\": [data.loc[date - pd.DateOffset(days=window_size):date, col].tolist() for col in models_feature_columns[selected_feature_index]]\n",
    "    }\n",
    "    for date in test_date_range\n",
    "]\n",
    "print(len(test_data))"
   ]
  },
  {
   "cell_type": "markdown",
   "id": "7523a3df-ae2b-4304-b543-67baca7c8177",
   "metadata": {},
   "source": [
    "# Write partitions to JSON and upload to S3"
   ]
  },
  {
   "cell_type": "code",
   "execution_count": null,
   "id": "af87277a-3398-4352-a493-cd6ccd3579d7",
   "metadata": {},
   "outputs": [],
   "source": [
    "def write_json_dataset(filename, data):\n",
    "    with open(filename, 'wb') as f:\n",
    "        for d in data:\n",
    "            f.write(json.dumps(d).encode(\"utf-8\"))\n",
    "            f.write(\"\\n\".encode('utf-8'))"
   ]
  },
  {
   "cell_type": "code",
   "execution_count": null,
   "id": "5a5edc85-b3c0-4c5d-bc54-a9e3970fe361",
   "metadata": {},
   "outputs": [],
   "source": [
    "s3 = boto3.resource(\"s3\")\n",
    "\n",
    "s3_bucket = 'bpv-dl-qa-analytics-s3'\n",
    "s3_prefix = 'time_series/deep_ar'\n",
    "s3_output_path = f\"s3://{s3_bucket}/{s3_prefix}/output\"\n",
    "s3_data_path = f\"s3://{s3_bucket}/{s3_prefix}\"\n",
    "\n",
    "\n",
    "def copy_to_s3(local_file, s3_path, override=False):\n",
    "    assert s3_path.startswith(\"s3://\")\n",
    "    split = s3_path.split(\"/\")\n",
    "    bucket = split[2]\n",
    "    path = \"/\".join(split[3:])\n",
    "\n",
    "    with open(local_file, \"rb\") as data:\n",
    "        print(\"Uploading file to {}\".format(s3_path))\n",
    "        s3.Bucket(bucket).put_object(Key=path, Body=data)"
   ]
  },
  {
   "cell_type": "markdown",
   "id": "add3d5ef-da19-47c7-9e76-63cd1e86639f",
   "metadata": {},
   "source": [
    "## Ensures each dynamic feature in the training and test datasets has the same length as the corresponding target"
   ]
  },
  {
   "cell_type": "markdown",
   "id": "0e0c9ed6-5cff-4ae3-bfc4-f3adc41e2057",
   "metadata": {
    "jp-MarkdownHeadingCollapsed": true
   },
   "source": [
    "### Standard"
   ]
  },
  {
   "cell_type": "code",
   "execution_count": null,
   "id": "ed6c0dbd-f70e-430e-b5c9-16d219a319a6",
   "metadata": {},
   "outputs": [],
   "source": [
    "for dataset in [training_data, test_data]:\n",
    "    for sample in dataset:\n",
    "        if sample['target'] is not None:\n",
    "            target_length = len(sample['target'])\n",
    "            for i, feat in enumerate(sample['dynamic_feat']):\n",
    "                # If the dynamic feature is shorter than the target, extend it with the last value\n",
    "                if len(feat) < target_length:\n",
    "                    sample['dynamic_feat'][i] += [feat[-1]] * (target_length - len(feat))\n",
    "                # If the dynamic feature is longer than the target, truncate it\n",
    "                elif len(feat) > target_length:\n",
    "                    sample['dynamic_feat'][i] = feat[:target_length]"
   ]
  },
  {
   "cell_type": "markdown",
   "id": "9bdef4d9-b0ab-4c2d-bb8f-88887e86a0f7",
   "metadata": {},
   "source": [
    "### New models"
   ]
  },
  {
   "cell_type": "code",
   "execution_count": null,
   "id": "92e0a883-48c6-430d-8f24-e249ac3e0366",
   "metadata": {},
   "outputs": [],
   "source": [
    "for dataset in [all_training_data, all_test_data]:\n",
    "    for data in dataset:\n",
    "        for sample in data:\n",
    "            if sample['target'] is not None:\n",
    "                target_length = len(sample['target'])\n",
    "                for i, feat in enumerate(sample['dynamic_feat']):\n",
    "                    # Si la característica dinámica es más corta que el objetivo, extiéndela con el último valor\n",
    "                    if len(feat) < target_length:\n",
    "                        sample['dynamic_feat'][i] += [feat[-1]] * (target_length - len(feat))\n",
    "                    # Si la característica dinámica es más larga que el objetivo, trúncala\n",
    "                    elif len(feat) > target_length:\n",
    "                        sample['dynamic_feat'][i] = feat[:target_length]"
   ]
  },
  {
   "cell_type": "markdown",
   "id": "eefef854-ed00-441a-b799-c6a4bf9b8b03",
   "metadata": {
    "jp-MarkdownHeadingCollapsed": true
   },
   "source": [
    "## Check consistency to train/test"
   ]
  },
  {
   "cell_type": "code",
   "execution_count": null,
   "id": "ba8d8e4c-ed75-4c0f-b8b9-2614679ba7ac",
   "metadata": {},
   "outputs": [],
   "source": [
    "def check_dataset_consistency(train_dataset, test_dataset=None):\n",
    "    d = train_dataset[0]\n",
    "    has_dynamic_feat = \"dynamic_feat\" in d\n",
    "    if has_dynamic_feat:\n",
    "        num_dynamic_feat = len(d[\"dynamic_feat\"])\n",
    "    has_cat = \"cat\" in d\n",
    "    if has_cat:\n",
    "        num_cat = len(d[\"cat\"])\n",
    "\n",
    "    def check_ds(ds):\n",
    "        for i, d in enumerate(ds):\n",
    "            if has_dynamic_feat:\n",
    "                assert \"dynamic_feat\" in d\n",
    "                assert num_dynamic_feat == len(d[\"dynamic_feat\"])\n",
    "                for f in d[\"dynamic_feat\"]:\n",
    "                    if d[\"target\"] is not None:\n",
    "                        assert len(d[\"target\"]) == len(f)\n",
    "            if has_cat:\n",
    "                assert \"cat\" in d\n",
    "                assert len(d[\"cat\"]) == num_cat\n",
    "\n",
    "    check_ds(train_dataset)\n",
    "    if test_dataset is not None:\n",
    "        check_ds(test_dataset)"
   ]
  },
  {
   "cell_type": "code",
   "execution_count": null,
   "id": "1e3b1314-1cd7-4291-b29f-be5f7c923fb9",
   "metadata": {},
   "outputs": [],
   "source": [
    "for i in range(7):\n",
    "    print(f\"Checking dataset {i+1}\")\n",
    "    check_dataset_consistency(all_training_data[i], all_test_data[i])"
   ]
  },
  {
   "cell_type": "code",
   "execution_count": null,
   "id": "72363d36-9fce-4502-a8c0-a0c7b512b69b",
   "metadata": {},
   "outputs": [],
   "source": [
    "training_data[0]['dynamic_feat'][-2]"
   ]
  },
  {
   "cell_type": "markdown",
   "id": "2680f639-f363-4892-a1c3-19ea75feb15c",
   "metadata": {},
   "source": [
    "### Transform to JSON"
   ]
  },
  {
   "cell_type": "code",
   "execution_count": null,
   "id": "bd7a4b8b-91e2-4f08-886d-ac6640484e83",
   "metadata": {},
   "outputs": [],
   "source": [
    "write_json_dataset(\"train.json\", training_data)\n",
    "write_json_dataset(\"test.json\", test_data)"
   ]
  },
  {
   "cell_type": "markdown",
   "id": "00bf953b-6e43-4792-b84e-ac7f7e21a4f6",
   "metadata": {},
   "source": [
    "### Upload partitions to S3"
   ]
  },
  {
   "cell_type": "code",
   "execution_count": null,
   "id": "b946c369-382e-4697-bffe-9e986f6c4e86",
   "metadata": {},
   "outputs": [],
   "source": [
    "copy_to_s3(\"train.json\", s3_data_path + \"/train/train.json\")\n",
    "copy_to_s3(\"test.json\", s3_data_path + \"/test/test.json\")"
   ]
  },
  {
   "cell_type": "markdown",
   "id": "0fa18017-84f7-4b55-84fb-f548abfa571c",
   "metadata": {
    "jp-MarkdownHeadingCollapsed": true
   },
   "source": [
    "## Transform to JSON and upload to S3"
   ]
  },
  {
   "cell_type": "code",
   "execution_count": null,
   "id": "17866487-0e68-4528-97da-921a5e9739d8",
   "metadata": {},
   "outputs": [],
   "source": [
    "for i in range(7):\n",
    "    train_filename = f\"train_{i+1}.json\"\n",
    "    test_filename = f\"test_{i+1}.json\"\n",
    "    \n",
    "    # Escribir el conjunto de datos de entrenamiento y prueba a archivos JSON\n",
    "    write_json_dataset(train_filename, all_training_data[i])\n",
    "    write_json_dataset(test_filename, all_test_data[i])\n",
    "    \n",
    "    # Copiar los archivos JSON a S3\n",
    "    copy_to_s3(train_filename, f\"{s3_data_path}/train/{i+1}/train.json\")\n",
    "    copy_to_s3(test_filename, f\"{s3_data_path}/test/{i+1}/test.json\")"
   ]
  },
  {
   "cell_type": "markdown",
   "id": "b78596aa-8a38-4aec-a33c-8ef07a39e038",
   "metadata": {
    "jp-MarkdownHeadingCollapsed": true
   },
   "source": [
    "# Estimator "
   ]
  },
  {
   "cell_type": "code",
   "execution_count": null,
   "id": "cb97c9ac-00a1-4159-ada1-eb71d8e300e0",
   "metadata": {},
   "outputs": [],
   "source": [
    "estimator = sagemaker.estimator.Estimator(\n",
    "    image_uri=image_name,\n",
    "    sagemaker_session=sagemaker_session,\n",
    "    role=role,\n",
    "    instance_count=1,\n",
    "    instance_type=\"ml.g4dn.xlarge\",\n",
    "    base_job_name=\"bpv-deepar-yfinance-deepar-small-bus-job\",\n",
    "    output_path=s3_output_path,\n",
    ")"
   ]
  },
  {
   "cell_type": "markdown",
   "id": "28faf3b2-bfc9-40eb-a178-6eb7dac1dffa",
   "metadata": {},
   "source": [
    "# Estimators"
   ]
  },
  {
   "cell_type": "code",
   "execution_count": 41,
   "id": "3072bdc8-3ece-416a-b2ae-6c0bf8e03a50",
   "metadata": {},
   "outputs": [
    {
     "data": {
      "text/plain": [
       "['base', 'sentiment', 'nega-sentiment', 'gec', 'vix', 'small-bus', 'all-feat']"
      ]
     },
     "execution_count": 41,
     "metadata": {},
     "output_type": "execute_result"
    }
   ],
   "source": [
    "model_job_names = []\n",
    "model_job_names = [\"base\"] + extras\n",
    "model_job_names[2] = \"nega-sentiment\"\n",
    "model_job_names[5] = \"small-bus\"\n",
    "model_job_names[6] = \"all-feat\"\n",
    "model_job_names"
   ]
  },
  {
   "cell_type": "code",
   "execution_count": null,
   "id": "59976412-52a2-4101-b9a6-4d6e140cd5b0",
   "metadata": {},
   "outputs": [],
   "source": [
    "s3_output_paths = []\n",
    "s3_output_paths = [f\"s3://{s3_bucket}/{s3_prefix}/{i+1}/output\" for i in range(len(model_job_names))]"
   ]
  },
  {
   "cell_type": "code",
   "execution_count": null,
   "id": "4137016b-971b-4dca-9db3-da0a949a0e40",
   "metadata": {},
   "outputs": [],
   "source": [
    "estimators = [\n",
    "    sagemaker.estimator.Estimator(\n",
    "    image_uri=image_name,\n",
    "    sagemaker_session=sagemaker_session,\n",
    "    role=role,\n",
    "    instance_count=1,\n",
    "    instance_type=\"ml.g4dn.xlarge\",\n",
    "    base_job_name=f\"bpv-deepar-yfinance-deepar-{model_job_names[i]}-job\",\n",
    "    output_path=s3_output_paths[i],\n",
    ") for i in range(len(model_job_names))\n",
    "]"
   ]
  },
  {
   "cell_type": "markdown",
   "id": "17ddc9c8-df71-4ea0-ba10-9a1a3d00ef63",
   "metadata": {},
   "source": [
    "## Hyperparameters and training for new models"
   ]
  },
  {
   "cell_type": "code",
   "execution_count": null,
   "id": "4ec1b2c4-083e-43b2-913c-b39183d941ab",
   "metadata": {},
   "outputs": [],
   "source": [
    "context_length = window_size\n",
    "prediction_length = 1"
   ]
  },
  {
   "cell_type": "code",
   "execution_count": null,
   "id": "30e276f4-6957-4662-9f31-e2570bfc6aa8",
   "metadata": {},
   "outputs": [],
   "source": [
    "hyperparameters = {\n",
    "    \"time_freq\": 'D',\n",
    "    \"epochs\": \"300\",\n",
    "    \"early_stopping_patience\": \"40\",\n",
    "    \"mini_batch_size\": \"64\",\n",
    "    \"learning_rate\": \"5E-4\",\n",
    "    \"context_length\": str(context_length),\n",
    "    \"prediction_length\": str(prediction_length),\n",
    "    \"dropout_rate\": 0.1,\n",
    "}"
   ]
  },
  {
   "cell_type": "code",
   "execution_count": null,
   "id": "d08818bc-0e85-4cb3-894a-969121abb69a",
   "metadata": {},
   "outputs": [],
   "source": [
    "for estimator in estimators:\n",
    "    estimator.set_hyperparameters(**hyperparameters)"
   ]
  },
  {
   "cell_type": "code",
   "execution_count": null,
   "id": "5530b230-2f72-49ab-9dfa-bf1fd93e457e",
   "metadata": {},
   "outputs": [],
   "source": [
    "data_channels_new_models = [{\"train\": f\"{s3_data_path}/train/{i+1}/\", \"test\": f\"{s3_data_path}/test/{i+1}/\"} for i in range(7)]"
   ]
  },
  {
   "cell_type": "code",
   "execution_count": null,
   "id": "5a113236-c51b-4974-8a1f-947d19493d96",
   "metadata": {},
   "outputs": [],
   "source": [
    "def fit_estimator(estimator, data_channels):\n",
    "    estimator.fit(inputs=data_channels, wait=True)\n",
    "    return estimator"
   ]
  },
  {
   "cell_type": "code",
   "execution_count": null,
   "id": "936a117c-c662-47a3-8fd3-bd3d451e2d43",
   "metadata": {},
   "outputs": [],
   "source": [
    "for i in range(5, len(estimators)):\n",
    "    fit_estimator(estimators[i], data_channels_new_models[i])"
   ]
  },
  {
   "cell_type": "markdown",
   "id": "fdf0f253-beb6-4910-8873-162299c63d8e",
   "metadata": {
    "jp-MarkdownHeadingCollapsed": true
   },
   "source": [
    "# Hyperparameters and training for old models"
   ]
  },
  {
   "cell_type": "code",
   "execution_count": null,
   "id": "f168fa33-45dc-40cd-bb95-7a3e121f534b",
   "metadata": {},
   "outputs": [],
   "source": [
    "context_length = window_size\n",
    "prediction_length = 1"
   ]
  },
  {
   "cell_type": "code",
   "execution_count": null,
   "id": "fb6c50c3-28e9-4b08-9f79-7956c7024f77",
   "metadata": {},
   "outputs": [],
   "source": [
    "hyperparameters = {\n",
    "    \"time_freq\": 'D',\n",
    "    \"epochs\": \"300\",\n",
    "    \"early_stopping_patience\": \"40\",\n",
    "    \"mini_batch_size\": \"64\",\n",
    "    \"learning_rate\": \"5E-4\",\n",
    "    \"context_length\": str(context_length),\n",
    "    \"prediction_length\": str(prediction_length),\n",
    "    \"dropout_rate\": 0.1,\n",
    "}"
   ]
  },
  {
   "cell_type": "code",
   "execution_count": null,
   "id": "70126ace-c73a-4511-920c-6a0ad6079e49",
   "metadata": {},
   "outputs": [],
   "source": [
    "estimator.set_hyperparameters(**hyperparameters)"
   ]
  },
  {
   "cell_type": "code",
   "execution_count": null,
   "id": "927724f5-6207-4e08-a4f9-06859691dbe0",
   "metadata": {},
   "outputs": [],
   "source": [
    "%%time\n",
    "data_channels = {\"train\": \"{}/train/\".format(s3_data_path), \"test\": \"{}/test/\".format(s3_data_path)}\n",
    "\n",
    "estimator.fit(inputs=data_channels, wait=True)"
   ]
  },
  {
   "cell_type": "markdown",
   "id": "e57b77f0-d4fa-4114-a3d3-59ce77dd9594",
   "metadata": {
    "jp-MarkdownHeadingCollapsed": true
   },
   "source": [
    "# Training Analytics"
   ]
  },
  {
   "cell_type": "code",
   "execution_count": null,
   "id": "33f4a963-ba18-4741-8b56-8f834d849cad",
   "metadata": {},
   "outputs": [],
   "source": [
    "from sagemaker import TrainingJobAnalytics\n",
    "\n",
    "# Specify the training job name\n",
    "job_name = 'bpv-deepar-yfinance-deepar-i9-job-2024-04-22-13-57-43-252'\n",
    "\n",
    "# Create a TrainingJobAnalytics object for the training job\n",
    "metrics_dataframe = TrainingJobAnalytics(training_job_name=job_name).dataframe()"
   ]
  },
  {
   "cell_type": "code",
   "execution_count": null,
   "id": "f911ae9e-221e-4f75-bd4c-2d62fc0e991e",
   "metadata": {},
   "outputs": [],
   "source": [
    "metrics_dataframe"
   ]
  },
  {
   "cell_type": "code",
   "execution_count": null,
   "id": "77b40ccf-ef1c-47fe-bf32-bba1c15fd246",
   "metadata": {},
   "outputs": [],
   "source": [
    "metrics_dataframe['metric_name'].unique()"
   ]
  },
  {
   "cell_type": "code",
   "execution_count": null,
   "id": "8ce487e7-d18f-452e-bfa9-f99830c97b33",
   "metadata": {},
   "outputs": [],
   "source": [
    "import matplotlib.pyplot as plt\n",
    "\n",
    "# Assuming metrics_dataframe is your DataFrame with the metrics.\n",
    "\n",
    "# Filter the DataFrame by metric names\n",
    "training_loss_df = metrics_dataframe[metrics_dataframe['metric_name'].isin(['train:loss:batch', 'train:loss'])]\n",
    "validation_metrics_df = metrics_dataframe[metrics_dataframe['metric_name'].isin(['test:mean_wQuantileLoss', 'test:RMSE'])]\n",
    "\n",
    "# Plot training loss\n",
    "plt.figure(figsize=(12, 6))\n",
    "for metric in ['train:loss:batch', 'train:loss']:\n",
    "    subset = training_loss_df[training_loss_df['metric_name'] == metric]\n",
    "    plt.plot(subset['timestamp'], subset['value'], label=metric)\n",
    "plt.title('Training Loss Metrics')\n",
    "plt.xlabel('Timestamp')\n",
    "plt.ylabel('Loss Value')\n",
    "plt.legend()\n",
    "plt.grid(True)\n",
    "plt.show()\n",
    "\n",
    "print(f\"Quantile loss: {metrics_dataframe['value'].iloc[0]}\")\n",
    "print(f\"RMSE: {metrics_dataframe['value'].iloc[-1]}\")"
   ]
  },
  {
   "cell_type": "markdown",
   "id": "41d03cca-e9c3-4dc8-b8fc-be68ff47ca88",
   "metadata": {},
   "source": [
    "# DeepAR predictor class\n",
    "\n",
    "This class transforms the JSON response from the model into more readable data"
   ]
  },
  {
   "cell_type": "code",
   "execution_count": 37,
   "id": "695b7b90-e40a-44cc-92b1-ed4b1950a9af",
   "metadata": {},
   "outputs": [],
   "source": [
    "from sagemaker.serializers import IdentitySerializer\n",
    "\n",
    "\n",
    "class DeepARPredictor(sagemaker.predictor.Predictor):\n",
    "    def __init__(self, *args, **kwargs):\n",
    "        super().__init__(\n",
    "            *args,\n",
    "            #serializer=JSONSerializer(),\n",
    "            serializer=IdentitySerializer(content_type=\"application/json\"),\n",
    "            **kwargs,\n",
    "        )\n",
    "\n",
    "    def predict(\n",
    "        self,\n",
    "        ts,\n",
    "        cat=None,\n",
    "        dynamic_feat=None,\n",
    "        num_samples=100,\n",
    "        return_samples=False,\n",
    "        quantiles=[\"0.1\", \"0.5\", \"0.9\"],\n",
    "    ):\n",
    "        \"\"\"Requests the prediction of for the time series listed in `ts`, each with the (optional)\n",
    "        corresponding category listed in `cat`.\n",
    "\n",
    "        ts -- `pandas.Series` object, the time series to predict\n",
    "        cat -- integer, the group associated to the time series (default: None)\n",
    "        num_samples -- integer, number of samples to compute at prediction time (default: 100)\n",
    "        return_samples -- boolean indicating whether to include samples in the response (default: False)\n",
    "        quantiles -- list of strings specifying the quantiles to compute (default: [\"0.1\", \"0.5\", \"0.9\"])\n",
    "\n",
    "        Return value: list of `pandas.DataFrame` objects, each containing the predictions\n",
    "        \"\"\"\n",
    "        prediction_time = ts.index[-1] + ts.index.freq\n",
    "        quantiles = [str(q) for q in quantiles]\n",
    "        req = self.__encode_request(ts, cat, dynamic_feat, num_samples, return_samples, quantiles)\n",
    "        res = super(DeepARPredictor, self).predict(req)\n",
    "        return self.__decode_response(res, ts.index.freq, prediction_time, return_samples)\n",
    "\n",
    "    def __encode_request(self, ts, cat, dynamic_feat, num_samples, return_samples, quantiles):\n",
    "        instance = series_to_dict(\n",
    "            ts, cat if cat is not None else None, dynamic_feat if dynamic_feat else None\n",
    "        )\n",
    "\n",
    "        configuration = {\n",
    "            \"num_samples\": num_samples,\n",
    "            \"output_types\": [\"quantiles\", \"samples\"] if return_samples else [\"quantiles\"],\n",
    "            \"quantiles\": quantiles,\n",
    "        }\n",
    "\n",
    "        http_request_data = {\"instances\": [instance], \"configuration\": configuration}\n",
    "\n",
    "        return json.dumps(http_request_data).encode(\"utf-8\")\n",
    "\n",
    "    def __decode_response(self, response, freq, prediction_time, return_samples):\n",
    "        # we only sent one time series so we only receive one in return\n",
    "        # however, if possible one will pass multiple time series as predictions will then be faster\n",
    "        predictions = json.loads(response.decode(\"utf-8\"))[\"predictions\"][0]\n",
    "        prediction_length = len(next(iter(predictions[\"quantiles\"].values())))\n",
    "        prediction_index = pd.date_range(\n",
    "            start=prediction_time, freq=freq, periods=prediction_length\n",
    "        )\n",
    "        if return_samples:\n",
    "            dict_of_samples = {\"sample_\" + str(i): s for i, s in enumerate(predictions[\"samples\"])}\n",
    "        else:\n",
    "            dict_of_samples = {}\n",
    "        return pd.DataFrame(\n",
    "            data={**predictions[\"quantiles\"], **dict_of_samples}, index=prediction_index\n",
    "        )\n",
    "\n",
    "    def set_frequency(self, freq):\n",
    "        self.freq = freq\n",
    "\n",
    "\n",
    "def encode_target(ts):\n",
    "        return [x if np.isfinite(x) else \"NaN\" for x in ts]\n",
    "\n",
    "def series_to_dict(ts, cat=None, dynamic_feat=None):\n",
    "    \"\"\"Given a pandas.Series object, returns a dictionary encoding the time series.\n",
    "\n",
    "    ts -- a pands.Series object with the target time series\n",
    "    cat -- an integer indicating the time series category\n",
    "\n",
    "    Return value: a dictionary\n",
    "    \"\"\"\n",
    "    obj = {\"start\": str(ts.index[0]), \"target\": encode_target(ts)}\n",
    "    if cat is not None:\n",
    "        obj[\"cat\"] = cat\n",
    "    if dynamic_feat is not None:\n",
    "        obj[\"dynamic_feat\"] = dynamic_feat\n",
    "    return obj"
   ]
  },
  {
   "cell_type": "markdown",
   "id": "c010a8c8-3191-4b69-9bd7-5e3dc4a95c3e",
   "metadata": {
    "jp-MarkdownHeadingCollapsed": true
   },
   "source": [
    "### Training made on previous step"
   ]
  },
  {
   "cell_type": "code",
   "execution_count": null,
   "id": "044d3ecd-3ee5-43c6-9054-c3823afd543a",
   "metadata": {},
   "outputs": [],
   "source": [
    "predictor_small_bus = estimator.deploy(\n",
    "    initial_instance_count=1, instance_type=\"ml.t2.medium\", predictor_cls=DeepARPredictor\n",
    ")"
   ]
  },
  {
   "cell_type": "markdown",
   "id": "ae683c95-11ea-4824-a52e-532c4fc94c3b",
   "metadata": {},
   "source": [
    "### Create endpoints for new models"
   ]
  },
  {
   "cell_type": "code",
   "execution_count": 38,
   "id": "6958506a-76b9-43a3-a2c4-9ac51a3ccd46",
   "metadata": {},
   "outputs": [],
   "source": [
    "finished_training_job_names = [\"bpv-deepar-yfinance-deepar-base-job-2024-07-25-15-13-56-960\", \n",
    "                               \"bpv-deepar-yfinance-deepar-sentiment-jo-2024-07-25-16-25-10-653\",\n",
    "                               \"bpv-deepar-yfinance-deepar-nega-sentime-2024-07-25-18-21-06-781\",\n",
    "                               \"bpv-deepar-yfinance-deepar-gec-job-2024-07-25-18-34-26-694\",\n",
    "                               \"bpv-deepar-yfinance-deepar-vix-job-2024-07-25-18-47-46-176\",\n",
    "                               \"bpv-deepar-yfinance-deepar-small-bus-jo-2024-07-25-20-38-18-031\",\n",
    "                               \"bpv-deepar-yfinance-deepar-all-feat-job-2024-07-25-21-43-56-042\"]"
   ]
  },
  {
   "cell_type": "code",
   "execution_count": 42,
   "id": "02980922-74ca-421a-8b2a-1a072b46eab4",
   "metadata": {},
   "outputs": [],
   "source": [
    "def deploy_model_from_training_job(training_job_name, endpoint_name_prefix, iteration):\n",
    "    sagemaker_session = sagemaker.Session()\n",
    "    \n",
    "    # Retrieve the model artifact from the completed training job\n",
    "    training_job_info = sagemaker_session.sagemaker_client.describe_training_job(TrainingJobName=training_job_name)\n",
    "    model_data = training_job_info['ModelArtifacts']['S3ModelArtifacts']\n",
    "    \n",
    "    # Create a model object\n",
    "    model = Model(\n",
    "        model_data=model_data,\n",
    "        role=sagemaker.get_execution_role(),\n",
    "        image_uri=image_name,\n",
    "        sagemaker_session=sagemaker_session,\n",
    "        predictor_cls=DeepARPredictor\n",
    "    )\n",
    "    \n",
    "    # Deploy the model to create an endpoint\n",
    "    endpoint_name = f\"{endpoint_name_prefix}-i{iteration}\"\n",
    "    predictor = model.deploy(\n",
    "        initial_instance_count=1,\n",
    "        instance_type=\"ml.t2.medium\",\n",
    "        endpoint_name=endpoint_name\n",
    "    )\n",
    "    \n",
    "    return predictor"
   ]
  },
  {
   "cell_type": "code",
   "execution_count": 43,
   "id": "02695c42-8d1d-4f14-8312-fba9ff46dab0",
   "metadata": {},
   "outputs": [],
   "source": [
    "endpoint_name_prefixes = model_job_names.copy()"
   ]
  },
  {
   "cell_type": "code",
   "execution_count": 44,
   "id": "9c014a84-9aa7-4ea4-9a5b-03fe8ab52b5f",
   "metadata": {},
   "outputs": [
    {
     "name": "stdout",
     "output_type": "stream",
     "text": [
      "------------------------!----------------------!-------------------!----------------------!----------------------!------------------------!--------------------!"
     ]
    }
   ],
   "source": [
    "deployed_endpoints = []\n",
    "for i in range(7):\n",
    "    predictor = deploy_model_from_training_job(finished_training_job_names[i], endpoint_name_prefixes[i], 1)\n",
    "    deployed_endpoints.append(predictor)"
   ]
  },
  {
   "cell_type": "code",
   "execution_count": 45,
   "id": "47ede838-a65d-4ba2-b49c-c071d649310d",
   "metadata": {},
   "outputs": [],
   "source": [
    "predictor_market = deployed_endpoints[0]\n",
    "predictor_sentiment = deployed_endpoints[1]\n",
    "predictor_negative_sentiment = deployed_endpoints[2]\n",
    "predictor_gec = deployed_endpoints[3]\n",
    "predictor_vix = deployed_endpoints[4]\n",
    "predictor_small_bus = deployed_endpoints[5]\n",
    "predictor_all_feat = deployed_endpoints[6]"
   ]
  },
  {
   "cell_type": "markdown",
   "id": "3abf6263-7c19-42a6-a9a8-cca895366125",
   "metadata": {
    "jp-MarkdownHeadingCollapsed": true
   },
   "source": [
    "### Endpoint already created"
   ]
  },
  {
   "cell_type": "code",
   "execution_count": null,
   "id": "408ffdca-9fbc-49f4-a5c8-8d15d5f7e16f",
   "metadata": {},
   "outputs": [],
   "source": [
    "endpoint_market = \"base\"\n",
    "# Top20 model\n",
    "# Create a DeepARPredictor object\n",
    "predictor_market = DeepARPredictor(\n",
    "    endpoint_name=endpoint_market,\n",
    "    sagemaker_session=sagemaker.Session(),\n",
    ")"
   ]
  },
  {
   "cell_type": "code",
   "execution_count": null,
   "id": "5b159a44-6ac3-4a1d-aa0d-e18ef142454a",
   "metadata": {},
   "outputs": [],
   "source": [
    "endpoint_sentiment = \"sentiment\"\n",
    "\n",
    "#Top20 and sentiment model\n",
    "# Create a DeepARPredictor object\n",
    "predictor_sentiment = DeepARPredictor(\n",
    "    endpoint_name=endpoint_sentiment,\n",
    "    sagemaker_session=sagemaker.Session(),\n",
    ")"
   ]
  },
  {
   "cell_type": "code",
   "execution_count": null,
   "id": "86fcd5f6-84b9-4d4e-b70a-2b6bde140d88",
   "metadata": {},
   "outputs": [],
   "source": [
    "endpoint_negative_sentiment = \"nega-sentiment\"\n",
    "\n",
    "predictor_negative_sentiment = DeepARPredictor(\n",
    "    endpoint_name=endpoint_negative_sentiment,\n",
    "    sagemaker_session=sagemaker.Session(),\n",
    ")"
   ]
  },
  {
   "cell_type": "code",
   "execution_count": null,
   "id": "14591d90-6de7-4d96-881e-8a82e46d41b6",
   "metadata": {},
   "outputs": [],
   "source": [
    "endpoint_gec = \"gec\"\n",
    "\n",
    "predictor_gec = DeepARPredictor(\n",
    "    endpoint_name=endpoint_gec,\n",
    "    sagemaker_session=sagemaker.Session(),\n",
    ")"
   ]
  },
  {
   "cell_type": "code",
   "execution_count": null,
   "id": "f019d9fd-a292-40d4-912d-16a52a49c37d",
   "metadata": {},
   "outputs": [],
   "source": [
    "endpoint_vix = \"vix\"\n",
    "\n",
    "predictor_vix = DeepARPredictor(\n",
    "    endpoint_name=endpoint_vix,\n",
    "    sagemaker_session=sagemaker.Session(),\n",
    ")"
   ]
  },
  {
   "cell_type": "code",
   "execution_count": null,
   "id": "5b7dd796-1632-4b1c-b791-2e552926d090",
   "metadata": {},
   "outputs": [],
   "source": [
    "endpoint_small_bus = \"small-bus\"\n",
    "\n",
    "predictor_small_bus = DeepARPredictor(\n",
    "    endpoint_name=endpoint_small_bus,\n",
    "    sagemaker_session=sagemaker.Session(),\n",
    ")"
   ]
  },
  {
   "cell_type": "code",
   "execution_count": null,
   "id": "fc3c3178-3320-4a6c-8887-8e65e0767377",
   "metadata": {},
   "outputs": [],
   "source": [
    "endpoint_all_feat = \"all-feat\"\n",
    "\n",
    "predictor_all_feat = DeepARPredictor(\n",
    "    endpoint_name=endpoint_all_feat,\n",
    "    sagemaker_session=sagemaker.Session(),\n",
    ")"
   ]
  },
  {
   "cell_type": "markdown",
   "id": "329be2aa-da7c-4c6d-a938-acebf1a0ae70",
   "metadata": {},
   "source": [
    "### Predictors"
   ]
  },
  {
   "cell_type": "code",
   "execution_count": 49,
   "id": "880b8280-660f-47fa-8b79-cb8a3b6c743c",
   "metadata": {},
   "outputs": [],
   "source": [
    "predictors = []\n",
    "predictors = [predictor_market, predictor_sentiment, predictor_negative_sentiment, predictor_gec, predictor_vix, predictor_small_bus, predictor_all_feat]"
   ]
  },
  {
   "cell_type": "markdown",
   "id": "00737dbc-e985-40bf-b5c3-10c28236c2cf",
   "metadata": {},
   "source": [
    "### Append predictions to dataset"
   ]
  },
  {
   "cell_type": "code",
   "execution_count": null,
   "id": "7f0a4508-3569-46a1-ba88-628e0aa0e142",
   "metadata": {},
   "outputs": [],
   "source": [
    "data.tail()"
   ]
  },
  {
   "cell_type": "code",
   "execution_count": 46,
   "id": "79dcb4c4-5f88-42c9-beaf-ee2944748638",
   "metadata": {},
   "outputs": [
    {
     "data": {
      "text/plain": [
       "['prediction_log_returns_top20',\n",
       " 'prediction_log_returns_top20_sentiment',\n",
       " 'prediction_log_returns_top20_negative_sentiment',\n",
       " 'prediction_log_returns_top20_gec',\n",
       " 'prediction_log_returns_top20_vix',\n",
       " 'prediction_log_returns_top20_small_bus',\n",
       " 'prediction_log_returns_top20_all_features']"
      ]
     },
     "execution_count": 46,
     "metadata": {},
     "output_type": "execute_result"
    }
   ],
   "source": [
    "prediction_columns = [prediction_column]\n",
    "prediction_columns.extend(prediction_features_columns)\n",
    "prediction_columns"
   ]
  },
  {
   "cell_type": "code",
   "execution_count": 47,
   "id": "2e89403e-d376-4afa-a2a8-0a5765feefa3",
   "metadata": {},
   "outputs": [],
   "source": [
    "new_dfs = list(new_dfs)"
   ]
  },
  {
   "cell_type": "code",
   "execution_count": 52,
   "id": "7e328a72-83cc-4c57-ac8b-babf3a692270",
   "metadata": {},
   "outputs": [],
   "source": [
    "for prediction_column in prediction_columns:\n",
    "    data[prediction_column] = np.nan"
   ]
  },
  {
   "cell_type": "markdown",
   "id": "3ffd76d8-be41-454f-9c29-757aaca85c30",
   "metadata": {},
   "source": [
    "#### Predictions for test only"
   ]
  },
  {
   "cell_type": "code",
   "execution_count": null,
   "id": "049916fd-f8f0-496a-a727-d991649d0f62",
   "metadata": {},
   "outputs": [],
   "source": [
    "for i in range(7):\n",
    "    df = new_dfs[i]\n",
    "    end_training = end_trainings[i]\n",
    "    prediction_column = prediction_columns[i]\n",
    "\n",
    "    for j in range(len(df.loc[:end_training]), len(df)):\n",
    "        last_value = df.loc[df.index[j-1], target_column]\n",
    "        ts = pd.Series(data=[last_value], index=pd.DatetimeIndex([df.index[j-1]], freq='D'))\n",
    "\n",
    "        dynamic_feats = [\n",
    "            df.loc[df.index[j-window_size]:df.index[j-1], col].tolist() for col in models_feature_columns[i]\n",
    "        ]\n",
    "\n",
    "        prediction = predictors[i].predict(ts=ts, dynamic_feat=dynamic_feats, quantiles=[0.5])['0.5'].iloc[0]\n",
    "\n",
    "        data.at[df.index[j], prediction_column] = prediction"
   ]
  },
  {
   "cell_type": "markdown",
   "id": "2e11d89b-9c8e-4bad-affd-854c0c73e056",
   "metadata": {},
   "source": [
    "#### Prediction from the beginning"
   ]
  },
  {
   "cell_type": "code",
   "execution_count": 55,
   "id": "c371459b-33e9-483f-8be1-0013f3ab3932",
   "metadata": {},
   "outputs": [],
   "source": [
    "def predict_from_start(df, start_idx, end_idx, target_column, prediction_column, model_idx):\n",
    "    for j in range(start_idx + window_size, end_idx):\n",
    "        last_value = df.loc[df.index[j-1], target_column]\n",
    "        ts = pd.Series(data=[last_value], index=pd.DatetimeIndex([df.index[j-1]], freq='D'))\n",
    "\n",
    "        dynamic_feats = [\n",
    "            df.loc[df.index[j-window_size]:df.index[j-1], col].tolist() for col in models_feature_columns[model_idx]\n",
    "        ]\n",
    "\n",
    "        prediction = predictors[model_idx].predict(ts=ts, dynamic_feat=dynamic_feats, quantiles=[0.5])['0.5'].iloc[0]\n",
    "\n",
    "        data.at[df.index[j], prediction_column] = prediction"
   ]
  },
  {
   "cell_type": "code",
   "execution_count": 56,
   "id": "d355ed01-06b3-4850-b7cd-41d5e2b3d856",
   "metadata": {},
   "outputs": [],
   "source": [
    "for i in range(7):\n",
    "    df = new_dfs[i]\n",
    "    end_training = end_trainings[i]\n",
    "    end_test = end_tests[i]\n",
    "    prediction_column = prediction_columns[i]\n",
    "\n",
    "    df = df.loc[~df.index.duplicated(keep='first')]\n",
    "\n",
    "    predict_from_start(df, len(df.loc[:start_datasets[i]]), len(df.loc[:end_test]), target_column, prediction_column, i)"
   ]
  },
  {
   "cell_type": "code",
   "execution_count": null,
   "id": "075bed93-4490-46f4-880b-a753328052ce",
   "metadata": {},
   "outputs": [],
   "source": [
    "len(models_feature_columns[0])"
   ]
  },
  {
   "cell_type": "code",
   "execution_count": 57,
   "id": "2d181624-25a6-41e4-8c4f-577d6ad79758",
   "metadata": {},
   "outputs": [
    {
     "data": {
      "text/html": [
       "<div>\n",
       "<style scoped>\n",
       "    .dataframe tbody tr th:only-of-type {\n",
       "        vertical-align: middle;\n",
       "    }\n",
       "\n",
       "    .dataframe tbody tr th {\n",
       "        vertical-align: top;\n",
       "    }\n",
       "\n",
       "    .dataframe thead th {\n",
       "        text-align: right;\n",
       "    }\n",
       "</style>\n",
       "<table border=\"1\" class=\"dataframe\">\n",
       "  <thead>\n",
       "    <tr style=\"text-align: right;\">\n",
       "      <th></th>\n",
       "      <th>open</th>\n",
       "      <th>high</th>\n",
       "      <th>low</th>\n",
       "      <th>close</th>\n",
       "      <th>adj close</th>\n",
       "      <th>volume</th>\n",
       "      <th>load_date_stage</th>\n",
       "      <th>ticker</th>\n",
       "      <th>dividends</th>\n",
       "      <th>stock splits</th>\n",
       "      <th>...</th>\n",
       "      <th>inflation_percent</th>\n",
       "      <th>log_return_vix</th>\n",
       "      <th>small_bus</th>\n",
       "      <th>prediction_log_returns_top20</th>\n",
       "      <th>prediction_log_returns_top20_sentiment</th>\n",
       "      <th>prediction_log_returns_top20_negative_sentiment</th>\n",
       "      <th>prediction_log_returns_top20_gec</th>\n",
       "      <th>prediction_log_returns_top20_vix</th>\n",
       "      <th>prediction_log_returns_top20_small_bus</th>\n",
       "      <th>prediction_log_returns_top20_all_features</th>\n",
       "    </tr>\n",
       "    <tr>\n",
       "      <th>date</th>\n",
       "      <th></th>\n",
       "      <th></th>\n",
       "      <th></th>\n",
       "      <th></th>\n",
       "      <th></th>\n",
       "      <th></th>\n",
       "      <th></th>\n",
       "      <th></th>\n",
       "      <th></th>\n",
       "      <th></th>\n",
       "      <th></th>\n",
       "      <th></th>\n",
       "      <th></th>\n",
       "      <th></th>\n",
       "      <th></th>\n",
       "      <th></th>\n",
       "      <th></th>\n",
       "      <th></th>\n",
       "      <th></th>\n",
       "      <th></th>\n",
       "      <th></th>\n",
       "    </tr>\n",
       "  </thead>\n",
       "  <tbody>\n",
       "    <tr>\n",
       "      <th>2024-04-24</th>\n",
       "      <td>506.559998</td>\n",
       "      <td>507.359985</td>\n",
       "      <td>503.135010</td>\n",
       "      <td>505.410004</td>\n",
       "      <td>505.410004</td>\n",
       "      <td>55394670</td>\n",
       "      <td>2024-04-24 21:47:00.885</td>\n",
       "      <td>SPY</td>\n",
       "      <td>0.0</td>\n",
       "      <td>0.0</td>\n",
       "      <td>...</td>\n",
       "      <td>0.0</td>\n",
       "      <td>0.038294</td>\n",
       "      <td>0.0</td>\n",
       "      <td>0.004982</td>\n",
       "      <td>0.006054</td>\n",
       "      <td>0.004242</td>\n",
       "      <td>0.009788</td>\n",
       "      <td>0.010198</td>\n",
       "      <td>-0.028921</td>\n",
       "      <td>-0.010193</td>\n",
       "    </tr>\n",
       "    <tr>\n",
       "      <th>2024-04-25</th>\n",
       "      <td>499.179993</td>\n",
       "      <td>504.269989</td>\n",
       "      <td>497.489990</td>\n",
       "      <td>503.489990</td>\n",
       "      <td>503.489990</td>\n",
       "      <td>68517479</td>\n",
       "      <td>2024-04-25 21:47:00.343</td>\n",
       "      <td>SPY</td>\n",
       "      <td>0.0</td>\n",
       "      <td>0.0</td>\n",
       "      <td>...</td>\n",
       "      <td>0.0</td>\n",
       "      <td>0.022369</td>\n",
       "      <td>0.0</td>\n",
       "      <td>-0.001330</td>\n",
       "      <td>-0.000993</td>\n",
       "      <td>-0.000798</td>\n",
       "      <td>-0.000371</td>\n",
       "      <td>-0.000878</td>\n",
       "      <td>-0.001419</td>\n",
       "      <td>-0.000810</td>\n",
       "    </tr>\n",
       "    <tr>\n",
       "      <th>2024-04-26</th>\n",
       "      <td>506.350006</td>\n",
       "      <td>509.880005</td>\n",
       "      <td>505.709991</td>\n",
       "      <td>508.260010</td>\n",
       "      <td>508.260010</td>\n",
       "      <td>64099172</td>\n",
       "      <td>2024-04-26 21:47:02.363</td>\n",
       "      <td>SPY</td>\n",
       "      <td>0.0</td>\n",
       "      <td>0.0</td>\n",
       "      <td>...</td>\n",
       "      <td>0.0</td>\n",
       "      <td>0.024244</td>\n",
       "      <td>0.0</td>\n",
       "      <td>-0.008423</td>\n",
       "      <td>-0.007425</td>\n",
       "      <td>-0.005515</td>\n",
       "      <td>-0.002389</td>\n",
       "      <td>-0.005465</td>\n",
       "      <td>-0.011211</td>\n",
       "      <td>-0.006819</td>\n",
       "    </tr>\n",
       "    <tr>\n",
       "      <th>2024-04-26</th>\n",
       "      <td>506.350006</td>\n",
       "      <td>509.880005</td>\n",
       "      <td>505.709991</td>\n",
       "      <td>508.260010</td>\n",
       "      <td>508.260010</td>\n",
       "      <td>64099172</td>\n",
       "      <td>2024-04-27 21:46:54.270</td>\n",
       "      <td>SPY</td>\n",
       "      <td>0.0</td>\n",
       "      <td>0.0</td>\n",
       "      <td>...</td>\n",
       "      <td>0.0</td>\n",
       "      <td>0.024244</td>\n",
       "      <td>0.0</td>\n",
       "      <td>-0.008423</td>\n",
       "      <td>-0.007425</td>\n",
       "      <td>-0.005515</td>\n",
       "      <td>-0.002389</td>\n",
       "      <td>-0.005465</td>\n",
       "      <td>-0.011211</td>\n",
       "      <td>-0.006819</td>\n",
       "    </tr>\n",
       "    <tr>\n",
       "      <th>2024-04-29</th>\n",
       "      <td>510.089996</td>\n",
       "      <td>510.750000</td>\n",
       "      <td>507.250000</td>\n",
       "      <td>510.059998</td>\n",
       "      <td>510.059998</td>\n",
       "      <td>40479293</td>\n",
       "      <td>2024-04-29 21:47:02.540</td>\n",
       "      <td>SPY</td>\n",
       "      <td>0.0</td>\n",
       "      <td>0.0</td>\n",
       "      <td>...</td>\n",
       "      <td>0.0</td>\n",
       "      <td>-0.064666</td>\n",
       "      <td>0.0</td>\n",
       "      <td>-0.009916</td>\n",
       "      <td>-0.005881</td>\n",
       "      <td>-0.004917</td>\n",
       "      <td>0.001712</td>\n",
       "      <td>-0.004534</td>\n",
       "      <td>-0.026660</td>\n",
       "      <td>-0.009067</td>\n",
       "    </tr>\n",
       "  </tbody>\n",
       "</table>\n",
       "<p>5 rows × 65 columns</p>\n",
       "</div>"
      ],
      "text/plain": [
       "                  open        high         low       close   adj close  \\\n",
       "date                                                                     \n",
       "2024-04-24  506.559998  507.359985  503.135010  505.410004  505.410004   \n",
       "2024-04-25  499.179993  504.269989  497.489990  503.489990  503.489990   \n",
       "2024-04-26  506.350006  509.880005  505.709991  508.260010  508.260010   \n",
       "2024-04-26  506.350006  509.880005  505.709991  508.260010  508.260010   \n",
       "2024-04-29  510.089996  510.750000  507.250000  510.059998  510.059998   \n",
       "\n",
       "              volume         load_date_stage ticker  dividends  stock splits  \\\n",
       "date                                                                           \n",
       "2024-04-24  55394670 2024-04-24 21:47:00.885    SPY        0.0           0.0   \n",
       "2024-04-25  68517479 2024-04-25 21:47:00.343    SPY        0.0           0.0   \n",
       "2024-04-26  64099172 2024-04-26 21:47:02.363    SPY        0.0           0.0   \n",
       "2024-04-26  64099172 2024-04-27 21:46:54.270    SPY        0.0           0.0   \n",
       "2024-04-29  40479293 2024-04-29 21:47:02.540    SPY        0.0           0.0   \n",
       "\n",
       "            ...  inflation_percent  log_return_vix  small_bus  \\\n",
       "date        ...                                                 \n",
       "2024-04-24  ...                0.0        0.038294        0.0   \n",
       "2024-04-25  ...                0.0        0.022369        0.0   \n",
       "2024-04-26  ...                0.0        0.024244        0.0   \n",
       "2024-04-26  ...                0.0        0.024244        0.0   \n",
       "2024-04-29  ...                0.0       -0.064666        0.0   \n",
       "\n",
       "            prediction_log_returns_top20  \\\n",
       "date                                       \n",
       "2024-04-24                      0.004982   \n",
       "2024-04-25                     -0.001330   \n",
       "2024-04-26                     -0.008423   \n",
       "2024-04-26                     -0.008423   \n",
       "2024-04-29                     -0.009916   \n",
       "\n",
       "            prediction_log_returns_top20_sentiment  \\\n",
       "date                                                 \n",
       "2024-04-24                                0.006054   \n",
       "2024-04-25                               -0.000993   \n",
       "2024-04-26                               -0.007425   \n",
       "2024-04-26                               -0.007425   \n",
       "2024-04-29                               -0.005881   \n",
       "\n",
       "            prediction_log_returns_top20_negative_sentiment  \\\n",
       "date                                                          \n",
       "2024-04-24                                         0.004242   \n",
       "2024-04-25                                        -0.000798   \n",
       "2024-04-26                                        -0.005515   \n",
       "2024-04-26                                        -0.005515   \n",
       "2024-04-29                                        -0.004917   \n",
       "\n",
       "            prediction_log_returns_top20_gec  \\\n",
       "date                                           \n",
       "2024-04-24                          0.009788   \n",
       "2024-04-25                         -0.000371   \n",
       "2024-04-26                         -0.002389   \n",
       "2024-04-26                         -0.002389   \n",
       "2024-04-29                          0.001712   \n",
       "\n",
       "            prediction_log_returns_top20_vix  \\\n",
       "date                                           \n",
       "2024-04-24                          0.010198   \n",
       "2024-04-25                         -0.000878   \n",
       "2024-04-26                         -0.005465   \n",
       "2024-04-26                         -0.005465   \n",
       "2024-04-29                         -0.004534   \n",
       "\n",
       "            prediction_log_returns_top20_small_bus  \\\n",
       "date                                                 \n",
       "2024-04-24                               -0.028921   \n",
       "2024-04-25                               -0.001419   \n",
       "2024-04-26                               -0.011211   \n",
       "2024-04-26                               -0.011211   \n",
       "2024-04-29                               -0.026660   \n",
       "\n",
       "            prediction_log_returns_top20_all_features  \n",
       "date                                                   \n",
       "2024-04-24                                  -0.010193  \n",
       "2024-04-25                                  -0.000810  \n",
       "2024-04-26                                  -0.006819  \n",
       "2024-04-26                                  -0.006819  \n",
       "2024-04-29                                  -0.009067  \n",
       "\n",
       "[5 rows x 65 columns]"
      ]
     },
     "execution_count": 57,
     "metadata": {},
     "output_type": "execute_result"
    }
   ],
   "source": [
    "data.tail()"
   ]
  },
  {
   "cell_type": "code",
   "execution_count": 58,
   "id": "821e2654-6663-4119-ad1d-e861f171c42f",
   "metadata": {},
   "outputs": [
    {
     "data": {
      "text/html": [
       "<div>\n",
       "<style scoped>\n",
       "    .dataframe tbody tr th:only-of-type {\n",
       "        vertical-align: middle;\n",
       "    }\n",
       "\n",
       "    .dataframe tbody tr th {\n",
       "        vertical-align: top;\n",
       "    }\n",
       "\n",
       "    .dataframe thead th {\n",
       "        text-align: right;\n",
       "    }\n",
       "</style>\n",
       "<table border=\"1\" class=\"dataframe\">\n",
       "  <thead>\n",
       "    <tr style=\"text-align: right;\">\n",
       "      <th></th>\n",
       "      <th>open</th>\n",
       "      <th>high</th>\n",
       "      <th>low</th>\n",
       "      <th>close</th>\n",
       "      <th>adj close</th>\n",
       "      <th>volume</th>\n",
       "      <th>load_date_stage</th>\n",
       "      <th>ticker</th>\n",
       "      <th>dividends</th>\n",
       "      <th>stock splits</th>\n",
       "      <th>...</th>\n",
       "      <th>inflation_percent</th>\n",
       "      <th>log_return_vix</th>\n",
       "      <th>small_bus</th>\n",
       "      <th>prediction_log_returns_top20</th>\n",
       "      <th>prediction_log_returns_top20_sentiment</th>\n",
       "      <th>prediction_log_returns_top20_negative_sentiment</th>\n",
       "      <th>prediction_log_returns_top20_gec</th>\n",
       "      <th>prediction_log_returns_top20_vix</th>\n",
       "      <th>prediction_log_returns_top20_small_bus</th>\n",
       "      <th>prediction_log_returns_top20_all_features</th>\n",
       "    </tr>\n",
       "    <tr>\n",
       "      <th>date</th>\n",
       "      <th></th>\n",
       "      <th></th>\n",
       "      <th></th>\n",
       "      <th></th>\n",
       "      <th></th>\n",
       "      <th></th>\n",
       "      <th></th>\n",
       "      <th></th>\n",
       "      <th></th>\n",
       "      <th></th>\n",
       "      <th></th>\n",
       "      <th></th>\n",
       "      <th></th>\n",
       "      <th></th>\n",
       "      <th></th>\n",
       "      <th></th>\n",
       "      <th></th>\n",
       "      <th></th>\n",
       "      <th></th>\n",
       "      <th></th>\n",
       "      <th></th>\n",
       "    </tr>\n",
       "  </thead>\n",
       "  <tbody>\n",
       "    <tr>\n",
       "      <th>2000-01-03</th>\n",
       "      <td>95.401049</td>\n",
       "      <td>95.401049</td>\n",
       "      <td>92.585672</td>\n",
       "      <td>93.591164</td>\n",
       "      <td>0.0</td>\n",
       "      <td>8164300</td>\n",
       "      <td>2024-04-23 15:44:49.015</td>\n",
       "      <td>SPY</td>\n",
       "      <td>0.0</td>\n",
       "      <td>0.0</td>\n",
       "      <td>...</td>\n",
       "      <td>3.376857</td>\n",
       "      <td>-0.109441</td>\n",
       "      <td>103.288</td>\n",
       "      <td>NaN</td>\n",
       "      <td>NaN</td>\n",
       "      <td>NaN</td>\n",
       "      <td>NaN</td>\n",
       "      <td>NaN</td>\n",
       "      <td>NaN</td>\n",
       "      <td>NaN</td>\n",
       "    </tr>\n",
       "    <tr>\n",
       "      <th>2000-01-04</th>\n",
       "      <td>92.364442</td>\n",
       "      <td>92.706309</td>\n",
       "      <td>89.860768</td>\n",
       "      <td>89.931152</td>\n",
       "      <td>0.0</td>\n",
       "      <td>8089800</td>\n",
       "      <td>2024-04-23 15:44:49.015</td>\n",
       "      <td>SPY</td>\n",
       "      <td>0.0</td>\n",
       "      <td>0.0</td>\n",
       "      <td>...</td>\n",
       "      <td>3.376857</td>\n",
       "      <td>0.022464</td>\n",
       "      <td>103.288</td>\n",
       "      <td>NaN</td>\n",
       "      <td>NaN</td>\n",
       "      <td>NaN</td>\n",
       "      <td>NaN</td>\n",
       "      <td>NaN</td>\n",
       "      <td>NaN</td>\n",
       "      <td>NaN</td>\n",
       "    </tr>\n",
       "    <tr>\n",
       "      <th>2000-01-05</th>\n",
       "      <td>90.051829</td>\n",
       "      <td>91.077430</td>\n",
       "      <td>88.322383</td>\n",
       "      <td>90.092049</td>\n",
       "      <td>0.0</td>\n",
       "      <td>12177900</td>\n",
       "      <td>2024-04-23 15:44:49.015</td>\n",
       "      <td>SPY</td>\n",
       "      <td>0.0</td>\n",
       "      <td>0.0</td>\n",
       "      <td>...</td>\n",
       "      <td>3.376857</td>\n",
       "      <td>0.026085</td>\n",
       "      <td>103.288</td>\n",
       "      <td>NaN</td>\n",
       "      <td>NaN</td>\n",
       "      <td>NaN</td>\n",
       "      <td>NaN</td>\n",
       "      <td>NaN</td>\n",
       "      <td>NaN</td>\n",
       "      <td>NaN</td>\n",
       "    </tr>\n",
       "    <tr>\n",
       "      <th>2000-01-06</th>\n",
       "      <td>89.850678</td>\n",
       "      <td>91.057267</td>\n",
       "      <td>88.644089</td>\n",
       "      <td>88.644089</td>\n",
       "      <td>0.0</td>\n",
       "      <td>6227200</td>\n",
       "      <td>2024-04-23 15:44:49.015</td>\n",
       "      <td>SPY</td>\n",
       "      <td>0.0</td>\n",
       "      <td>0.0</td>\n",
       "      <td>...</td>\n",
       "      <td>3.376857</td>\n",
       "      <td>0.169424</td>\n",
       "      <td>103.288</td>\n",
       "      <td>NaN</td>\n",
       "      <td>NaN</td>\n",
       "      <td>NaN</td>\n",
       "      <td>NaN</td>\n",
       "      <td>NaN</td>\n",
       "      <td>NaN</td>\n",
       "      <td>NaN</td>\n",
       "    </tr>\n",
       "    <tr>\n",
       "      <th>2000-01-07</th>\n",
       "      <td>90.293104</td>\n",
       "      <td>93.792213</td>\n",
       "      <td>90.132226</td>\n",
       "      <td>93.792213</td>\n",
       "      <td>0.0</td>\n",
       "      <td>8066500</td>\n",
       "      <td>2024-04-23 15:44:49.015</td>\n",
       "      <td>SPY</td>\n",
       "      <td>0.0</td>\n",
       "      <td>0.0</td>\n",
       "      <td>...</td>\n",
       "      <td>3.376857</td>\n",
       "      <td>0.000461</td>\n",
       "      <td>103.288</td>\n",
       "      <td>NaN</td>\n",
       "      <td>NaN</td>\n",
       "      <td>NaN</td>\n",
       "      <td>NaN</td>\n",
       "      <td>NaN</td>\n",
       "      <td>NaN</td>\n",
       "      <td>NaN</td>\n",
       "    </tr>\n",
       "  </tbody>\n",
       "</table>\n",
       "<p>5 rows × 65 columns</p>\n",
       "</div>"
      ],
      "text/plain": [
       "                 open       high        low      close  adj close    volume  \\\n",
       "date                                                                          \n",
       "2000-01-03  95.401049  95.401049  92.585672  93.591164        0.0   8164300   \n",
       "2000-01-04  92.364442  92.706309  89.860768  89.931152        0.0   8089800   \n",
       "2000-01-05  90.051829  91.077430  88.322383  90.092049        0.0  12177900   \n",
       "2000-01-06  89.850678  91.057267  88.644089  88.644089        0.0   6227200   \n",
       "2000-01-07  90.293104  93.792213  90.132226  93.792213        0.0   8066500   \n",
       "\n",
       "                   load_date_stage ticker  dividends  stock splits  ...  \\\n",
       "date                                                                ...   \n",
       "2000-01-03 2024-04-23 15:44:49.015    SPY        0.0           0.0  ...   \n",
       "2000-01-04 2024-04-23 15:44:49.015    SPY        0.0           0.0  ...   \n",
       "2000-01-05 2024-04-23 15:44:49.015    SPY        0.0           0.0  ...   \n",
       "2000-01-06 2024-04-23 15:44:49.015    SPY        0.0           0.0  ...   \n",
       "2000-01-07 2024-04-23 15:44:49.015    SPY        0.0           0.0  ...   \n",
       "\n",
       "            inflation_percent  log_return_vix  small_bus  \\\n",
       "date                                                       \n",
       "2000-01-03           3.376857       -0.109441    103.288   \n",
       "2000-01-04           3.376857        0.022464    103.288   \n",
       "2000-01-05           3.376857        0.026085    103.288   \n",
       "2000-01-06           3.376857        0.169424    103.288   \n",
       "2000-01-07           3.376857        0.000461    103.288   \n",
       "\n",
       "            prediction_log_returns_top20  \\\n",
       "date                                       \n",
       "2000-01-03                           NaN   \n",
       "2000-01-04                           NaN   \n",
       "2000-01-05                           NaN   \n",
       "2000-01-06                           NaN   \n",
       "2000-01-07                           NaN   \n",
       "\n",
       "            prediction_log_returns_top20_sentiment  \\\n",
       "date                                                 \n",
       "2000-01-03                                     NaN   \n",
       "2000-01-04                                     NaN   \n",
       "2000-01-05                                     NaN   \n",
       "2000-01-06                                     NaN   \n",
       "2000-01-07                                     NaN   \n",
       "\n",
       "            prediction_log_returns_top20_negative_sentiment  \\\n",
       "date                                                          \n",
       "2000-01-03                                              NaN   \n",
       "2000-01-04                                              NaN   \n",
       "2000-01-05                                              NaN   \n",
       "2000-01-06                                              NaN   \n",
       "2000-01-07                                              NaN   \n",
       "\n",
       "            prediction_log_returns_top20_gec  \\\n",
       "date                                           \n",
       "2000-01-03                               NaN   \n",
       "2000-01-04                               NaN   \n",
       "2000-01-05                               NaN   \n",
       "2000-01-06                               NaN   \n",
       "2000-01-07                               NaN   \n",
       "\n",
       "            prediction_log_returns_top20_vix  \\\n",
       "date                                           \n",
       "2000-01-03                               NaN   \n",
       "2000-01-04                               NaN   \n",
       "2000-01-05                               NaN   \n",
       "2000-01-06                               NaN   \n",
       "2000-01-07                               NaN   \n",
       "\n",
       "            prediction_log_returns_top20_small_bus  \\\n",
       "date                                                 \n",
       "2000-01-03                                     NaN   \n",
       "2000-01-04                                     NaN   \n",
       "2000-01-05                                     NaN   \n",
       "2000-01-06                                     NaN   \n",
       "2000-01-07                                     NaN   \n",
       "\n",
       "            prediction_log_returns_top20_all_features  \n",
       "date                                                   \n",
       "2000-01-03                                        NaN  \n",
       "2000-01-04                                        NaN  \n",
       "2000-01-05                                        NaN  \n",
       "2000-01-06                                        NaN  \n",
       "2000-01-07                                        NaN  \n",
       "\n",
       "[5 rows x 65 columns]"
      ]
     },
     "execution_count": 58,
     "metadata": {},
     "output_type": "execute_result"
    }
   ],
   "source": [
    "data.head()"
   ]
  },
  {
   "cell_type": "markdown",
   "id": "568f503b-ea54-4a56-9611-008c86e265f5",
   "metadata": {},
   "source": [
    "# Add 'market' to extras list"
   ]
  },
  {
   "cell_type": "code",
   "execution_count": 59,
   "id": "59e893a4-f4d1-4d69-952b-2752fcddf8ed",
   "metadata": {},
   "outputs": [],
   "source": [
    "extras = ['market'] + extras"
   ]
  },
  {
   "cell_type": "code",
   "execution_count": 60,
   "id": "028a72f2-e509-42c9-835d-6338ef25c27d",
   "metadata": {},
   "outputs": [
    {
     "data": {
      "text/plain": [
       "['market',\n",
       " 'sentiment',\n",
       " 'negative_sentiment',\n",
       " 'gec',\n",
       " 'vix',\n",
       " 'small_bus',\n",
       " 'all_features']"
      ]
     },
     "execution_count": 60,
     "metadata": {},
     "output_type": "execute_result"
    }
   ],
   "source": [
    "extras"
   ]
  },
  {
   "cell_type": "markdown",
   "id": "3c0ef682-5d4c-4a24-a1f5-67844e3d04da",
   "metadata": {},
   "source": [
    "# Plot test results\n",
    "This was for 2 models"
   ]
  },
  {
   "cell_type": "markdown",
   "id": "7c04d8bf-c94a-4e75-8c16-73727f8c7ae0",
   "metadata": {},
   "source": [
    "### Test only"
   ]
  },
  {
   "cell_type": "code",
   "execution_count": null,
   "id": "ed55a083-b39d-47c7-8926-aed22af2fc1c",
   "metadata": {},
   "outputs": [],
   "source": [
    "import matplotlib.pyplot as plt\n",
    "from pandas.tseries.offsets import DateOffset\n",
    "\n",
    "\n",
    "# Select the data from the day after the end of the training period to the end of the dataset\n",
    "actual_data = data[target_column][end_training + DateOffset(days=1):]\n",
    "\n",
    "for i in range(7):\n",
    "    predicted_data = data[prediction_columns[i]][end_training + DateOffset(days=1):]\n",
    "\n",
    "    plt.figure()  # Create a new figure\n",
    "    plt.plot(actual_data.index, actual_data, label='Actual Log Close')\n",
    "    plt.plot(predicted_data.index, predicted_data, label=f'Predicted Log Close({extras[i]})')\n",
    "    plt.xlabel('Date')\n",
    "    plt.ylabel('Log Close')\n",
    "    plt.legend()\n",
    "    plt.xticks(rotation=45)  # Optional: rotate x-axis labels for better visibility\n",
    "    plt.show()"
   ]
  },
  {
   "cell_type": "markdown",
   "id": "e8dada87-ea97-44e3-a780-420941ed1b62",
   "metadata": {},
   "source": [
    "### From the beginning"
   ]
  },
  {
   "cell_type": "code",
   "execution_count": 62,
   "id": "c16eae32-e34d-43fa-8a00-ca36efcc0258",
   "metadata": {},
   "outputs": [
    {
     "data": {
      "image/png": "[encoded data removed]",
      "text/plain": [
       "<Figure size 640x480 with 1 Axes>"
      ]
     },
     "metadata": {},
     "output_type": "display_data"
    },
    {
     "data": {
      "image/png": "[encoded data removed]",
      "text/plain": [
       "<Figure size 640x480 with 1 Axes>"
      ]
     },
     "metadata": {},
     "output_type": "display_data"
    },
    {
     "data": {
      "image/png": "[encoded data removed]",
      "text/plain": [
       "<Figure size 640x480 with 1 Axes>"
      ]
     },
     "metadata": {},
     "output_type": "display_data"
    },
    {
     "data": {
      "image/png": "[encoded data removed]",
      "text/plain": [
       "<Figure size 640x480 with 1 Axes>"
      ]
     },
     "metadata": {},
     "output_type": "display_data"
    },
    {
     "data": {
      "image/png": "[encoded data removed]",
      "text/plain": [
       "<Figure size 640x480 with 1 Axes>"
      ]
     },
     "metadata": {},
     "output_type": "display_data"
    },
    {
     "data": {
      "image/png": "[encoded data removed]",
      "text/plain": [
       "<Figure size 640x480 with 1 Axes>"
      ]
     },
     "metadata": {},
     "output_type": "display_data"
    },
    {
     "data": {
      "image/png": "[encoded data removed]",
      "text/plain": [
       "<Figure size 640x480 with 1 Axes>"
      ]
     },
     "metadata": {},
     "output_type": "display_data"
    }
   ],
   "source": [
    "import matplotlib.pyplot as plt\n",
    "from pandas.tseries.offsets import DateOffset\n",
    "\n",
    "# Select the data from the start of the dataset\n",
    "actual_data = data[target_column]\n",
    "\n",
    "for i in range(7):\n",
    "    predicted_data = data[prediction_columns[i]]\n",
    "\n",
    "    plt.figure()  # Create a new figure\n",
    "    plt.plot(actual_data.index, actual_data, label='Actual Log Close')\n",
    "    plt.plot(predicted_data.index, predicted_data, label=f'Predicted Log Close({extras[i]})')\n",
    "    plt.xlabel('Date')\n",
    "    plt.ylabel('Log Close')\n",
    "    plt.legend()\n",
    "    plt.xticks(rotation=45)  # Optional: rotate x-axis labels for better visibility\n",
    "    plt.show()"
   ]
  },
  {
   "cell_type": "markdown",
   "id": "ccd5a2a9-ac09-47ab-abde-66b7ea68e16d",
   "metadata": {},
   "source": [
    "# Reshape and organize dataframe"
   ]
  },
  {
   "cell_type": "code",
   "execution_count": 86,
   "id": "68ca9429-757c-4a61-80dc-647574705a68",
   "metadata": {},
   "outputs": [],
   "source": [
    "predicted_df = data.copy()\n",
    "\n",
    "# If 'date' is the index, reset the index first\n",
    "predicted_df = predicted_df.reset_index()"
   ]
  },
  {
   "cell_type": "code",
   "execution_count": 65,
   "id": "341b5b07-d771-447e-ba6d-75ae1fb72ccd",
   "metadata": {},
   "outputs": [
    {
     "data": {
      "text/html": [
       "<div>\n",
       "<style scoped>\n",
       "    .dataframe tbody tr th:only-of-type {\n",
       "        vertical-align: middle;\n",
       "    }\n",
       "\n",
       "    .dataframe tbody tr th {\n",
       "        vertical-align: top;\n",
       "    }\n",
       "\n",
       "    .dataframe thead th {\n",
       "        text-align: right;\n",
       "    }\n",
       "</style>\n",
       "<table border=\"1\" class=\"dataframe\">\n",
       "  <thead>\n",
       "    <tr style=\"text-align: right;\">\n",
       "      <th></th>\n",
       "      <th>date</th>\n",
       "      <th>open</th>\n",
       "      <th>high</th>\n",
       "      <th>low</th>\n",
       "      <th>close</th>\n",
       "      <th>adj close</th>\n",
       "      <th>volume</th>\n",
       "      <th>load_date_stage</th>\n",
       "      <th>ticker</th>\n",
       "      <th>dividends</th>\n",
       "      <th>...</th>\n",
       "      <th>inflation_percent</th>\n",
       "      <th>log_return_vix</th>\n",
       "      <th>small_bus</th>\n",
       "      <th>prediction_log_returns_top20</th>\n",
       "      <th>prediction_log_returns_top20_sentiment</th>\n",
       "      <th>prediction_log_returns_top20_negative_sentiment</th>\n",
       "      <th>prediction_log_returns_top20_gec</th>\n",
       "      <th>prediction_log_returns_top20_vix</th>\n",
       "      <th>prediction_log_returns_top20_small_bus</th>\n",
       "      <th>prediction_log_returns_top20_all_features</th>\n",
       "    </tr>\n",
       "  </thead>\n",
       "  <tbody>\n",
       "    <tr>\n",
       "      <th>6115</th>\n",
       "      <td>2024-04-24</td>\n",
       "      <td>506.559998</td>\n",
       "      <td>507.359985</td>\n",
       "      <td>503.135010</td>\n",
       "      <td>505.410004</td>\n",
       "      <td>505.410004</td>\n",
       "      <td>55394670</td>\n",
       "      <td>2024-04-24 21:47:00.885</td>\n",
       "      <td>SPY</td>\n",
       "      <td>0.0</td>\n",
       "      <td>...</td>\n",
       "      <td>0.0</td>\n",
       "      <td>0.038294</td>\n",
       "      <td>0.0</td>\n",
       "      <td>0.004982</td>\n",
       "      <td>0.006054</td>\n",
       "      <td>0.004242</td>\n",
       "      <td>0.009788</td>\n",
       "      <td>0.010198</td>\n",
       "      <td>-0.028921</td>\n",
       "      <td>-0.010193</td>\n",
       "    </tr>\n",
       "    <tr>\n",
       "      <th>6116</th>\n",
       "      <td>2024-04-25</td>\n",
       "      <td>499.179993</td>\n",
       "      <td>504.269989</td>\n",
       "      <td>497.489990</td>\n",
       "      <td>503.489990</td>\n",
       "      <td>503.489990</td>\n",
       "      <td>68517479</td>\n",
       "      <td>2024-04-25 21:47:00.343</td>\n",
       "      <td>SPY</td>\n",
       "      <td>0.0</td>\n",
       "      <td>...</td>\n",
       "      <td>0.0</td>\n",
       "      <td>0.022369</td>\n",
       "      <td>0.0</td>\n",
       "      <td>-0.001330</td>\n",
       "      <td>-0.000993</td>\n",
       "      <td>-0.000798</td>\n",
       "      <td>-0.000371</td>\n",
       "      <td>-0.000878</td>\n",
       "      <td>-0.001419</td>\n",
       "      <td>-0.000810</td>\n",
       "    </tr>\n",
       "    <tr>\n",
       "      <th>6117</th>\n",
       "      <td>2024-04-26</td>\n",
       "      <td>506.350006</td>\n",
       "      <td>509.880005</td>\n",
       "      <td>505.709991</td>\n",
       "      <td>508.260010</td>\n",
       "      <td>508.260010</td>\n",
       "      <td>64099172</td>\n",
       "      <td>2024-04-26 21:47:02.363</td>\n",
       "      <td>SPY</td>\n",
       "      <td>0.0</td>\n",
       "      <td>...</td>\n",
       "      <td>0.0</td>\n",
       "      <td>0.024244</td>\n",
       "      <td>0.0</td>\n",
       "      <td>-0.008423</td>\n",
       "      <td>-0.007425</td>\n",
       "      <td>-0.005515</td>\n",
       "      <td>-0.002389</td>\n",
       "      <td>-0.005465</td>\n",
       "      <td>-0.011211</td>\n",
       "      <td>-0.006819</td>\n",
       "    </tr>\n",
       "    <tr>\n",
       "      <th>6118</th>\n",
       "      <td>2024-04-26</td>\n",
       "      <td>506.350006</td>\n",
       "      <td>509.880005</td>\n",
       "      <td>505.709991</td>\n",
       "      <td>508.260010</td>\n",
       "      <td>508.260010</td>\n",
       "      <td>64099172</td>\n",
       "      <td>2024-04-27 21:46:54.270</td>\n",
       "      <td>SPY</td>\n",
       "      <td>0.0</td>\n",
       "      <td>...</td>\n",
       "      <td>0.0</td>\n",
       "      <td>0.024244</td>\n",
       "      <td>0.0</td>\n",
       "      <td>-0.008423</td>\n",
       "      <td>-0.007425</td>\n",
       "      <td>-0.005515</td>\n",
       "      <td>-0.002389</td>\n",
       "      <td>-0.005465</td>\n",
       "      <td>-0.011211</td>\n",
       "      <td>-0.006819</td>\n",
       "    </tr>\n",
       "    <tr>\n",
       "      <th>6119</th>\n",
       "      <td>2024-04-29</td>\n",
       "      <td>510.089996</td>\n",
       "      <td>510.750000</td>\n",
       "      <td>507.250000</td>\n",
       "      <td>510.059998</td>\n",
       "      <td>510.059998</td>\n",
       "      <td>40479293</td>\n",
       "      <td>2024-04-29 21:47:02.540</td>\n",
       "      <td>SPY</td>\n",
       "      <td>0.0</td>\n",
       "      <td>...</td>\n",
       "      <td>0.0</td>\n",
       "      <td>-0.064666</td>\n",
       "      <td>0.0</td>\n",
       "      <td>-0.009916</td>\n",
       "      <td>-0.005881</td>\n",
       "      <td>-0.004917</td>\n",
       "      <td>0.001712</td>\n",
       "      <td>-0.004534</td>\n",
       "      <td>-0.026660</td>\n",
       "      <td>-0.009067</td>\n",
       "    </tr>\n",
       "  </tbody>\n",
       "</table>\n",
       "<p>5 rows × 66 columns</p>\n",
       "</div>"
      ],
      "text/plain": [
       "           date        open        high         low       close   adj close  \\\n",
       "6115 2024-04-24  506.559998  507.359985  503.135010  505.410004  505.410004   \n",
       "6116 2024-04-25  499.179993  504.269989  497.489990  503.489990  503.489990   \n",
       "6117 2024-04-26  506.350006  509.880005  505.709991  508.260010  508.260010   \n",
       "6118 2024-04-26  506.350006  509.880005  505.709991  508.260010  508.260010   \n",
       "6119 2024-04-29  510.089996  510.750000  507.250000  510.059998  510.059998   \n",
       "\n",
       "        volume         load_date_stage ticker  dividends  ...  \\\n",
       "6115  55394670 2024-04-24 21:47:00.885    SPY        0.0  ...   \n",
       "6116  68517479 2024-04-25 21:47:00.343    SPY        0.0  ...   \n",
       "6117  64099172 2024-04-26 21:47:02.363    SPY        0.0  ...   \n",
       "6118  64099172 2024-04-27 21:46:54.270    SPY        0.0  ...   \n",
       "6119  40479293 2024-04-29 21:47:02.540    SPY        0.0  ...   \n",
       "\n",
       "      inflation_percent  log_return_vix  small_bus  \\\n",
       "6115                0.0        0.038294        0.0   \n",
       "6116                0.0        0.022369        0.0   \n",
       "6117                0.0        0.024244        0.0   \n",
       "6118                0.0        0.024244        0.0   \n",
       "6119                0.0       -0.064666        0.0   \n",
       "\n",
       "      prediction_log_returns_top20  prediction_log_returns_top20_sentiment  \\\n",
       "6115                      0.004982                                0.006054   \n",
       "6116                     -0.001330                               -0.000993   \n",
       "6117                     -0.008423                               -0.007425   \n",
       "6118                     -0.008423                               -0.007425   \n",
       "6119                     -0.009916                               -0.005881   \n",
       "\n",
       "      prediction_log_returns_top20_negative_sentiment  \\\n",
       "6115                                         0.004242   \n",
       "6116                                        -0.000798   \n",
       "6117                                        -0.005515   \n",
       "6118                                        -0.005515   \n",
       "6119                                        -0.004917   \n",
       "\n",
       "      prediction_log_returns_top20_gec  prediction_log_returns_top20_vix  \\\n",
       "6115                          0.009788                          0.010198   \n",
       "6116                         -0.000371                         -0.000878   \n",
       "6117                         -0.002389                         -0.005465   \n",
       "6118                         -0.002389                         -0.005465   \n",
       "6119                          0.001712                         -0.004534   \n",
       "\n",
       "      prediction_log_returns_top20_small_bus  \\\n",
       "6115                               -0.028921   \n",
       "6116                               -0.001419   \n",
       "6117                               -0.011211   \n",
       "6118                               -0.011211   \n",
       "6119                               -0.026660   \n",
       "\n",
       "      prediction_log_returns_top20_all_features  \n",
       "6115                                  -0.010193  \n",
       "6116                                  -0.000810  \n",
       "6117                                  -0.006819  \n",
       "6118                                  -0.006819  \n",
       "6119                                  -0.009067  \n",
       "\n",
       "[5 rows x 66 columns]"
      ]
     },
     "execution_count": 65,
     "metadata": {},
     "output_type": "execute_result"
    }
   ],
   "source": [
    "predicted_df.tail()"
   ]
  },
  {
   "cell_type": "code",
   "execution_count": 66,
   "id": "701351b7-8124-487b-9a85-926148694fe9",
   "metadata": {},
   "outputs": [
    {
     "data": {
      "text/html": [
       "<div>\n",
       "<style scoped>\n",
       "    .dataframe tbody tr th:only-of-type {\n",
       "        vertical-align: middle;\n",
       "    }\n",
       "\n",
       "    .dataframe tbody tr th {\n",
       "        vertical-align: top;\n",
       "    }\n",
       "\n",
       "    .dataframe thead th {\n",
       "        text-align: right;\n",
       "    }\n",
       "</style>\n",
       "<table border=\"1\" class=\"dataframe\">\n",
       "  <thead>\n",
       "    <tr style=\"text-align: right;\">\n",
       "      <th></th>\n",
       "      <th>date</th>\n",
       "      <th>open</th>\n",
       "      <th>high</th>\n",
       "      <th>low</th>\n",
       "      <th>close</th>\n",
       "      <th>adj close</th>\n",
       "      <th>volume</th>\n",
       "      <th>load_date_stage</th>\n",
       "      <th>ticker</th>\n",
       "      <th>dividends</th>\n",
       "      <th>...</th>\n",
       "      <th>inflation_percent</th>\n",
       "      <th>log_return_vix</th>\n",
       "      <th>small_bus</th>\n",
       "      <th>prediction_log_returns_top20</th>\n",
       "      <th>prediction_log_returns_top20_sentiment</th>\n",
       "      <th>prediction_log_returns_top20_negative_sentiment</th>\n",
       "      <th>prediction_log_returns_top20_gec</th>\n",
       "      <th>prediction_log_returns_top20_vix</th>\n",
       "      <th>prediction_log_returns_top20_small_bus</th>\n",
       "      <th>prediction_log_returns_top20_all_features</th>\n",
       "    </tr>\n",
       "  </thead>\n",
       "  <tbody>\n",
       "    <tr>\n",
       "      <th>0</th>\n",
       "      <td>2000-01-03</td>\n",
       "      <td>95.401049</td>\n",
       "      <td>95.401049</td>\n",
       "      <td>92.585672</td>\n",
       "      <td>93.591164</td>\n",
       "      <td>0.0</td>\n",
       "      <td>8164300</td>\n",
       "      <td>2024-04-23 15:44:49.015</td>\n",
       "      <td>SPY</td>\n",
       "      <td>0.0</td>\n",
       "      <td>...</td>\n",
       "      <td>3.376857</td>\n",
       "      <td>-0.109441</td>\n",
       "      <td>103.288</td>\n",
       "      <td>NaN</td>\n",
       "      <td>NaN</td>\n",
       "      <td>NaN</td>\n",
       "      <td>NaN</td>\n",
       "      <td>NaN</td>\n",
       "      <td>NaN</td>\n",
       "      <td>NaN</td>\n",
       "    </tr>\n",
       "    <tr>\n",
       "      <th>1</th>\n",
       "      <td>2000-01-04</td>\n",
       "      <td>92.364442</td>\n",
       "      <td>92.706309</td>\n",
       "      <td>89.860768</td>\n",
       "      <td>89.931152</td>\n",
       "      <td>0.0</td>\n",
       "      <td>8089800</td>\n",
       "      <td>2024-04-23 15:44:49.015</td>\n",
       "      <td>SPY</td>\n",
       "      <td>0.0</td>\n",
       "      <td>...</td>\n",
       "      <td>3.376857</td>\n",
       "      <td>0.022464</td>\n",
       "      <td>103.288</td>\n",
       "      <td>NaN</td>\n",
       "      <td>NaN</td>\n",
       "      <td>NaN</td>\n",
       "      <td>NaN</td>\n",
       "      <td>NaN</td>\n",
       "      <td>NaN</td>\n",
       "      <td>NaN</td>\n",
       "    </tr>\n",
       "    <tr>\n",
       "      <th>2</th>\n",
       "      <td>2000-01-05</td>\n",
       "      <td>90.051829</td>\n",
       "      <td>91.077430</td>\n",
       "      <td>88.322383</td>\n",
       "      <td>90.092049</td>\n",
       "      <td>0.0</td>\n",
       "      <td>12177900</td>\n",
       "      <td>2024-04-23 15:44:49.015</td>\n",
       "      <td>SPY</td>\n",
       "      <td>0.0</td>\n",
       "      <td>...</td>\n",
       "      <td>3.376857</td>\n",
       "      <td>0.026085</td>\n",
       "      <td>103.288</td>\n",
       "      <td>NaN</td>\n",
       "      <td>NaN</td>\n",
       "      <td>NaN</td>\n",
       "      <td>NaN</td>\n",
       "      <td>NaN</td>\n",
       "      <td>NaN</td>\n",
       "      <td>NaN</td>\n",
       "    </tr>\n",
       "    <tr>\n",
       "      <th>3</th>\n",
       "      <td>2000-01-06</td>\n",
       "      <td>89.850678</td>\n",
       "      <td>91.057267</td>\n",
       "      <td>88.644089</td>\n",
       "      <td>88.644089</td>\n",
       "      <td>0.0</td>\n",
       "      <td>6227200</td>\n",
       "      <td>2024-04-23 15:44:49.015</td>\n",
       "      <td>SPY</td>\n",
       "      <td>0.0</td>\n",
       "      <td>...</td>\n",
       "      <td>3.376857</td>\n",
       "      <td>0.169424</td>\n",
       "      <td>103.288</td>\n",
       "      <td>NaN</td>\n",
       "      <td>NaN</td>\n",
       "      <td>NaN</td>\n",
       "      <td>NaN</td>\n",
       "      <td>NaN</td>\n",
       "      <td>NaN</td>\n",
       "      <td>NaN</td>\n",
       "    </tr>\n",
       "    <tr>\n",
       "      <th>4</th>\n",
       "      <td>2000-01-07</td>\n",
       "      <td>90.293104</td>\n",
       "      <td>93.792213</td>\n",
       "      <td>90.132226</td>\n",
       "      <td>93.792213</td>\n",
       "      <td>0.0</td>\n",
       "      <td>8066500</td>\n",
       "      <td>2024-04-23 15:44:49.015</td>\n",
       "      <td>SPY</td>\n",
       "      <td>0.0</td>\n",
       "      <td>...</td>\n",
       "      <td>3.376857</td>\n",
       "      <td>0.000461</td>\n",
       "      <td>103.288</td>\n",
       "      <td>NaN</td>\n",
       "      <td>NaN</td>\n",
       "      <td>NaN</td>\n",
       "      <td>NaN</td>\n",
       "      <td>NaN</td>\n",
       "      <td>NaN</td>\n",
       "      <td>NaN</td>\n",
       "    </tr>\n",
       "  </tbody>\n",
       "</table>\n",
       "<p>5 rows × 66 columns</p>\n",
       "</div>"
      ],
      "text/plain": [
       "        date       open       high        low      close  adj close    volume  \\\n",
       "0 2000-01-03  95.401049  95.401049  92.585672  93.591164        0.0   8164300   \n",
       "1 2000-01-04  92.364442  92.706309  89.860768  89.931152        0.0   8089800   \n",
       "2 2000-01-05  90.051829  91.077430  88.322383  90.092049        0.0  12177900   \n",
       "3 2000-01-06  89.850678  91.057267  88.644089  88.644089        0.0   6227200   \n",
       "4 2000-01-07  90.293104  93.792213  90.132226  93.792213        0.0   8066500   \n",
       "\n",
       "          load_date_stage ticker  dividends  ...  inflation_percent  \\\n",
       "0 2024-04-23 15:44:49.015    SPY        0.0  ...           3.376857   \n",
       "1 2024-04-23 15:44:49.015    SPY        0.0  ...           3.376857   \n",
       "2 2024-04-23 15:44:49.015    SPY        0.0  ...           3.376857   \n",
       "3 2024-04-23 15:44:49.015    SPY        0.0  ...           3.376857   \n",
       "4 2024-04-23 15:44:49.015    SPY        0.0  ...           3.376857   \n",
       "\n",
       "   log_return_vix  small_bus  prediction_log_returns_top20  \\\n",
       "0       -0.109441    103.288                           NaN   \n",
       "1        0.022464    103.288                           NaN   \n",
       "2        0.026085    103.288                           NaN   \n",
       "3        0.169424    103.288                           NaN   \n",
       "4        0.000461    103.288                           NaN   \n",
       "\n",
       "   prediction_log_returns_top20_sentiment  \\\n",
       "0                                     NaN   \n",
       "1                                     NaN   \n",
       "2                                     NaN   \n",
       "3                                     NaN   \n",
       "4                                     NaN   \n",
       "\n",
       "   prediction_log_returns_top20_negative_sentiment  \\\n",
       "0                                              NaN   \n",
       "1                                              NaN   \n",
       "2                                              NaN   \n",
       "3                                              NaN   \n",
       "4                                              NaN   \n",
       "\n",
       "   prediction_log_returns_top20_gec  prediction_log_returns_top20_vix  \\\n",
       "0                               NaN                               NaN   \n",
       "1                               NaN                               NaN   \n",
       "2                               NaN                               NaN   \n",
       "3                               NaN                               NaN   \n",
       "4                               NaN                               NaN   \n",
       "\n",
       "   prediction_log_returns_top20_small_bus  \\\n",
       "0                                     NaN   \n",
       "1                                     NaN   \n",
       "2                                     NaN   \n",
       "3                                     NaN   \n",
       "4                                     NaN   \n",
       "\n",
       "   prediction_log_returns_top20_all_features  \n",
       "0                                        NaN  \n",
       "1                                        NaN  \n",
       "2                                        NaN  \n",
       "3                                        NaN  \n",
       "4                                        NaN  \n",
       "\n",
       "[5 rows x 66 columns]"
      ]
     },
     "execution_count": 66,
     "metadata": {},
     "output_type": "execute_result"
    }
   ],
   "source": [
    "predicted_df.head()"
   ]
  },
  {
   "cell_type": "markdown",
   "id": "e6fe8681-9fc6-419f-b3c9-8dc7a3f72570",
   "metadata": {},
   "source": [
    "## Concatenate Dataframes"
   ]
  },
  {
   "cell_type": "code",
   "execution_count": 87,
   "id": "ea8ae0be-9dad-4b75-a144-aa41c9d0bf0a",
   "metadata": {},
   "outputs": [],
   "source": [
    "dfs = []\n",
    "\n",
    "for i in range(len(extras)):\n",
    "    # Create a DataFrame for predictions from prediction_column\n",
    "    dfs.append(pd.DataFrame({\n",
    "        'dates': predicted_df['date'],\n",
    "        'actual_close': predicted_df['close'],\n",
    "        'actual_log_close': predicted_df[target_column],\n",
    "        'predicted_log_close': predicted_df[prediction_columns[i]],\n",
    "        extras[i]: 1 \n",
    "    }))\n",
    "\n",
    "# Concatenate the DataFrames\n",
    "predicted_df = pd.concat(dfs)"
   ]
  },
  {
   "cell_type": "code",
   "execution_count": 88,
   "id": "3bb05509-c53a-4e4b-bced-bb6a6eb423b4",
   "metadata": {},
   "outputs": [
    {
     "data": {
      "text/html": [
       "<div>\n",
       "<style scoped>\n",
       "    .dataframe tbody tr th:only-of-type {\n",
       "        vertical-align: middle;\n",
       "    }\n",
       "\n",
       "    .dataframe tbody tr th {\n",
       "        vertical-align: top;\n",
       "    }\n",
       "\n",
       "    .dataframe thead th {\n",
       "        text-align: right;\n",
       "    }\n",
       "</style>\n",
       "<table border=\"1\" class=\"dataframe\">\n",
       "  <thead>\n",
       "    <tr style=\"text-align: right;\">\n",
       "      <th></th>\n",
       "      <th>dates</th>\n",
       "      <th>actual_close</th>\n",
       "      <th>actual_log_close</th>\n",
       "      <th>predicted_log_close</th>\n",
       "      <th>market</th>\n",
       "      <th>sentiment</th>\n",
       "      <th>negative_sentiment</th>\n",
       "      <th>gec</th>\n",
       "      <th>vix</th>\n",
       "      <th>small_bus</th>\n",
       "      <th>all_features</th>\n",
       "    </tr>\n",
       "  </thead>\n",
       "  <tbody>\n",
       "    <tr>\n",
       "      <th>6115</th>\n",
       "      <td>2024-04-24</td>\n",
       "      <td>505.410004</td>\n",
       "      <td>-0.000475</td>\n",
       "      <td>-0.010193</td>\n",
       "      <td>NaN</td>\n",
       "      <td>NaN</td>\n",
       "      <td>NaN</td>\n",
       "      <td>NaN</td>\n",
       "      <td>NaN</td>\n",
       "      <td>NaN</td>\n",
       "      <td>1.000000</td>\n",
       "    </tr>\n",
       "    <tr>\n",
       "      <th>6116</th>\n",
       "      <td>2024-04-25</td>\n",
       "      <td>503.489990</td>\n",
       "      <td>-0.003806</td>\n",
       "      <td>-0.000810</td>\n",
       "      <td>NaN</td>\n",
       "      <td>NaN</td>\n",
       "      <td>NaN</td>\n",
       "      <td>NaN</td>\n",
       "      <td>NaN</td>\n",
       "      <td>NaN</td>\n",
       "      <td>1.000000</td>\n",
       "    </tr>\n",
       "    <tr>\n",
       "      <th>6117</th>\n",
       "      <td>2024-04-26</td>\n",
       "      <td>508.260010</td>\n",
       "      <td>0.009429</td>\n",
       "      <td>-0.006819</td>\n",
       "      <td>NaN</td>\n",
       "      <td>NaN</td>\n",
       "      <td>NaN</td>\n",
       "      <td>NaN</td>\n",
       "      <td>NaN</td>\n",
       "      <td>NaN</td>\n",
       "      <td>1.000000</td>\n",
       "    </tr>\n",
       "    <tr>\n",
       "      <th>6118</th>\n",
       "      <td>2024-04-26</td>\n",
       "      <td>508.260010</td>\n",
       "      <td>0.000000</td>\n",
       "      <td>-0.006819</td>\n",
       "      <td>NaN</td>\n",
       "      <td>NaN</td>\n",
       "      <td>NaN</td>\n",
       "      <td>NaN</td>\n",
       "      <td>NaN</td>\n",
       "      <td>NaN</td>\n",
       "      <td>1.000000</td>\n",
       "    </tr>\n",
       "    <tr>\n",
       "      <th>6119</th>\n",
       "      <td>2024-04-29</td>\n",
       "      <td>510.059998</td>\n",
       "      <td>0.003535</td>\n",
       "      <td>-0.009067</td>\n",
       "      <td>NaN</td>\n",
       "      <td>NaN</td>\n",
       "      <td>NaN</td>\n",
       "      <td>NaN</td>\n",
       "      <td>NaN</td>\n",
       "      <td>NaN</td>\n",
       "      <td>1.000000</td>\n",
       "    </tr>\n",
       "  </tbody>\n",
       "</table>\n",
       "</div>"
      ],
      "text/plain": [
       "          dates  actual_close  actual_log_close  predicted_log_close  market  \\\n",
       "6115 2024-04-24    505.410004         -0.000475            -0.010193     NaN   \n",
       "6116 2024-04-25    503.489990         -0.003806            -0.000810     NaN   \n",
       "6117 2024-04-26    508.260010          0.009429            -0.006819     NaN   \n",
       "6118 2024-04-26    508.260010          0.000000            -0.006819     NaN   \n",
       "6119 2024-04-29    510.059998          0.003535            -0.009067     NaN   \n",
       "\n",
       "      sentiment  negative_sentiment  gec  vix  small_bus  all_features  \n",
       "6115        NaN                 NaN  NaN  NaN        NaN      1.000000  \n",
       "6116        NaN                 NaN  NaN  NaN        NaN      1.000000  \n",
       "6117        NaN                 NaN  NaN  NaN        NaN      1.000000  \n",
       "6118        NaN                 NaN  NaN  NaN        NaN      1.000000  \n",
       "6119        NaN                 NaN  NaN  NaN        NaN      1.000000  "
      ]
     },
     "execution_count": 88,
     "metadata": {},
     "output_type": "execute_result"
    }
   ],
   "source": [
    "predicted_df.tail()"
   ]
  },
  {
   "cell_type": "code",
   "execution_count": 89,
   "id": "aa6aede3-a3f3-4b96-a691-54490ee5d5cc",
   "metadata": {},
   "outputs": [
    {
     "data": {
      "text/html": [
       "<div>\n",
       "<style scoped>\n",
       "    .dataframe tbody tr th:only-of-type {\n",
       "        vertical-align: middle;\n",
       "    }\n",
       "\n",
       "    .dataframe tbody tr th {\n",
       "        vertical-align: top;\n",
       "    }\n",
       "\n",
       "    .dataframe thead th {\n",
       "        text-align: right;\n",
       "    }\n",
       "</style>\n",
       "<table border=\"1\" class=\"dataframe\">\n",
       "  <thead>\n",
       "    <tr style=\"text-align: right;\">\n",
       "      <th></th>\n",
       "      <th>dates</th>\n",
       "      <th>actual_close</th>\n",
       "      <th>actual_log_close</th>\n",
       "      <th>predicted_log_close</th>\n",
       "      <th>market</th>\n",
       "      <th>sentiment</th>\n",
       "      <th>negative_sentiment</th>\n",
       "      <th>gec</th>\n",
       "      <th>vix</th>\n",
       "      <th>small_bus</th>\n",
       "      <th>all_features</th>\n",
       "    </tr>\n",
       "  </thead>\n",
       "  <tbody>\n",
       "    <tr>\n",
       "      <th>0</th>\n",
       "      <td>2000-01-03</td>\n",
       "      <td>93.591164</td>\n",
       "      <td>0.000000</td>\n",
       "      <td>NaN</td>\n",
       "      <td>1.000000</td>\n",
       "      <td>NaN</td>\n",
       "      <td>NaN</td>\n",
       "      <td>NaN</td>\n",
       "      <td>NaN</td>\n",
       "      <td>NaN</td>\n",
       "      <td>NaN</td>\n",
       "    </tr>\n",
       "    <tr>\n",
       "      <th>1</th>\n",
       "      <td>2000-01-04</td>\n",
       "      <td>89.931152</td>\n",
       "      <td>-0.039892</td>\n",
       "      <td>NaN</td>\n",
       "      <td>1.000000</td>\n",
       "      <td>NaN</td>\n",
       "      <td>NaN</td>\n",
       "      <td>NaN</td>\n",
       "      <td>NaN</td>\n",
       "      <td>NaN</td>\n",
       "      <td>NaN</td>\n",
       "    </tr>\n",
       "    <tr>\n",
       "      <th>2</th>\n",
       "      <td>2000-01-05</td>\n",
       "      <td>90.092049</td>\n",
       "      <td>0.001788</td>\n",
       "      <td>NaN</td>\n",
       "      <td>1.000000</td>\n",
       "      <td>NaN</td>\n",
       "      <td>NaN</td>\n",
       "      <td>NaN</td>\n",
       "      <td>NaN</td>\n",
       "      <td>NaN</td>\n",
       "      <td>NaN</td>\n",
       "    </tr>\n",
       "    <tr>\n",
       "      <th>3</th>\n",
       "      <td>2000-01-06</td>\n",
       "      <td>88.644089</td>\n",
       "      <td>-0.016203</td>\n",
       "      <td>NaN</td>\n",
       "      <td>1.000000</td>\n",
       "      <td>NaN</td>\n",
       "      <td>NaN</td>\n",
       "      <td>NaN</td>\n",
       "      <td>NaN</td>\n",
       "      <td>NaN</td>\n",
       "      <td>NaN</td>\n",
       "    </tr>\n",
       "    <tr>\n",
       "      <th>4</th>\n",
       "      <td>2000-01-07</td>\n",
       "      <td>93.792213</td>\n",
       "      <td>0.056452</td>\n",
       "      <td>NaN</td>\n",
       "      <td>1.000000</td>\n",
       "      <td>NaN</td>\n",
       "      <td>NaN</td>\n",
       "      <td>NaN</td>\n",
       "      <td>NaN</td>\n",
       "      <td>NaN</td>\n",
       "      <td>NaN</td>\n",
       "    </tr>\n",
       "  </tbody>\n",
       "</table>\n",
       "</div>"
      ],
      "text/plain": [
       "       dates  actual_close  actual_log_close  predicted_log_close   market  \\\n",
       "0 2000-01-03     93.591164          0.000000                  NaN 1.000000   \n",
       "1 2000-01-04     89.931152         -0.039892                  NaN 1.000000   \n",
       "2 2000-01-05     90.092049          0.001788                  NaN 1.000000   \n",
       "3 2000-01-06     88.644089         -0.016203                  NaN 1.000000   \n",
       "4 2000-01-07     93.792213          0.056452                  NaN 1.000000   \n",
       "\n",
       "   sentiment  negative_sentiment  gec  vix  small_bus  all_features  \n",
       "0        NaN                 NaN  NaN  NaN        NaN           NaN  \n",
       "1        NaN                 NaN  NaN  NaN        NaN           NaN  \n",
       "2        NaN                 NaN  NaN  NaN        NaN           NaN  \n",
       "3        NaN                 NaN  NaN  NaN        NaN           NaN  \n",
       "4        NaN                 NaN  NaN  NaN        NaN           NaN  "
      ]
     },
     "execution_count": 89,
     "metadata": {},
     "output_type": "execute_result"
    }
   ],
   "source": [
    "predicted_df.head()"
   ]
  },
  {
   "cell_type": "code",
   "execution_count": 90,
   "id": "58b6270e-42aa-4f00-86bc-d7ea93b0c142",
   "metadata": {},
   "outputs": [],
   "source": [
    "#predicted_df = predicted_df.dropna(subset=['predicted_log_close'])\n",
    "predicted_df = predicted_df.sort_values('dates')\n",
    "predicted_df.fillna(0, inplace=True)"
   ]
  },
  {
   "cell_type": "code",
   "execution_count": 91,
   "id": "740396b2-704a-45bd-be11-8ff3cbb092a2",
   "metadata": {},
   "outputs": [
    {
     "data": {
      "text/html": [
       "<div>\n",
       "<style scoped>\n",
       "    .dataframe tbody tr th:only-of-type {\n",
       "        vertical-align: middle;\n",
       "    }\n",
       "\n",
       "    .dataframe tbody tr th {\n",
       "        vertical-align: top;\n",
       "    }\n",
       "\n",
       "    .dataframe thead th {\n",
       "        text-align: right;\n",
       "    }\n",
       "</style>\n",
       "<table border=\"1\" class=\"dataframe\">\n",
       "  <thead>\n",
       "    <tr style=\"text-align: right;\">\n",
       "      <th></th>\n",
       "      <th>dates</th>\n",
       "      <th>actual_close</th>\n",
       "      <th>actual_log_close</th>\n",
       "      <th>predicted_log_close</th>\n",
       "      <th>market</th>\n",
       "      <th>sentiment</th>\n",
       "      <th>negative_sentiment</th>\n",
       "      <th>gec</th>\n",
       "      <th>vix</th>\n",
       "      <th>small_bus</th>\n",
       "      <th>all_features</th>\n",
       "    </tr>\n",
       "  </thead>\n",
       "  <tbody>\n",
       "    <tr>\n",
       "      <th>6119</th>\n",
       "      <td>2024-04-29</td>\n",
       "      <td>510.059998</td>\n",
       "      <td>0.003535</td>\n",
       "      <td>0.001712</td>\n",
       "      <td>0.000000</td>\n",
       "      <td>0.000000</td>\n",
       "      <td>0.000000</td>\n",
       "      <td>1.000000</td>\n",
       "      <td>0.000000</td>\n",
       "      <td>0.000000</td>\n",
       "      <td>0.000000</td>\n",
       "    </tr>\n",
       "    <tr>\n",
       "      <th>6119</th>\n",
       "      <td>2024-04-29</td>\n",
       "      <td>510.059998</td>\n",
       "      <td>0.003535</td>\n",
       "      <td>-0.009916</td>\n",
       "      <td>1.000000</td>\n",
       "      <td>0.000000</td>\n",
       "      <td>0.000000</td>\n",
       "      <td>0.000000</td>\n",
       "      <td>0.000000</td>\n",
       "      <td>0.000000</td>\n",
       "      <td>0.000000</td>\n",
       "    </tr>\n",
       "    <tr>\n",
       "      <th>6119</th>\n",
       "      <td>2024-04-29</td>\n",
       "      <td>510.059998</td>\n",
       "      <td>0.003535</td>\n",
       "      <td>-0.026660</td>\n",
       "      <td>0.000000</td>\n",
       "      <td>0.000000</td>\n",
       "      <td>0.000000</td>\n",
       "      <td>0.000000</td>\n",
       "      <td>0.000000</td>\n",
       "      <td>1.000000</td>\n",
       "      <td>0.000000</td>\n",
       "    </tr>\n",
       "    <tr>\n",
       "      <th>6119</th>\n",
       "      <td>2024-04-29</td>\n",
       "      <td>510.059998</td>\n",
       "      <td>0.003535</td>\n",
       "      <td>-0.004534</td>\n",
       "      <td>0.000000</td>\n",
       "      <td>0.000000</td>\n",
       "      <td>0.000000</td>\n",
       "      <td>0.000000</td>\n",
       "      <td>1.000000</td>\n",
       "      <td>0.000000</td>\n",
       "      <td>0.000000</td>\n",
       "    </tr>\n",
       "    <tr>\n",
       "      <th>6119</th>\n",
       "      <td>2024-04-29</td>\n",
       "      <td>510.059998</td>\n",
       "      <td>0.003535</td>\n",
       "      <td>-0.009067</td>\n",
       "      <td>0.000000</td>\n",
       "      <td>0.000000</td>\n",
       "      <td>0.000000</td>\n",
       "      <td>0.000000</td>\n",
       "      <td>0.000000</td>\n",
       "      <td>0.000000</td>\n",
       "      <td>1.000000</td>\n",
       "    </tr>\n",
       "  </tbody>\n",
       "</table>\n",
       "</div>"
      ],
      "text/plain": [
       "          dates  actual_close  actual_log_close  predicted_log_close   market  \\\n",
       "6119 2024-04-29    510.059998          0.003535             0.001712 0.000000   \n",
       "6119 2024-04-29    510.059998          0.003535            -0.009916 1.000000   \n",
       "6119 2024-04-29    510.059998          0.003535            -0.026660 0.000000   \n",
       "6119 2024-04-29    510.059998          0.003535            -0.004534 0.000000   \n",
       "6119 2024-04-29    510.059998          0.003535            -0.009067 0.000000   \n",
       "\n",
       "      sentiment  negative_sentiment      gec      vix  small_bus  all_features  \n",
       "6119   0.000000            0.000000 1.000000 0.000000   0.000000      0.000000  \n",
       "6119   0.000000            0.000000 0.000000 0.000000   0.000000      0.000000  \n",
       "6119   0.000000            0.000000 0.000000 0.000000   1.000000      0.000000  \n",
       "6119   0.000000            0.000000 0.000000 1.000000   0.000000      0.000000  \n",
       "6119   0.000000            0.000000 0.000000 0.000000   0.000000      1.000000  "
      ]
     },
     "execution_count": 91,
     "metadata": {},
     "output_type": "execute_result"
    }
   ],
   "source": [
    "predicted_df.tail()"
   ]
  },
  {
   "cell_type": "code",
   "execution_count": 92,
   "id": "c907c1e4-5b24-4243-ba7f-a69360826e7e",
   "metadata": {},
   "outputs": [
    {
     "data": {
      "text/html": [
       "<div>\n",
       "<style scoped>\n",
       "    .dataframe tbody tr th:only-of-type {\n",
       "        vertical-align: middle;\n",
       "    }\n",
       "\n",
       "    .dataframe tbody tr th {\n",
       "        vertical-align: top;\n",
       "    }\n",
       "\n",
       "    .dataframe thead th {\n",
       "        text-align: right;\n",
       "    }\n",
       "</style>\n",
       "<table border=\"1\" class=\"dataframe\">\n",
       "  <thead>\n",
       "    <tr style=\"text-align: right;\">\n",
       "      <th></th>\n",
       "      <th>dates</th>\n",
       "      <th>actual_close</th>\n",
       "      <th>actual_log_close</th>\n",
       "      <th>predicted_log_close</th>\n",
       "      <th>market</th>\n",
       "      <th>sentiment</th>\n",
       "      <th>negative_sentiment</th>\n",
       "      <th>gec</th>\n",
       "      <th>vix</th>\n",
       "      <th>small_bus</th>\n",
       "      <th>all_features</th>\n",
       "    </tr>\n",
       "  </thead>\n",
       "  <tbody>\n",
       "    <tr>\n",
       "      <th>0</th>\n",
       "      <td>2000-01-03</td>\n",
       "      <td>93.591164</td>\n",
       "      <td>0.000000</td>\n",
       "      <td>0.000000</td>\n",
       "      <td>1.000000</td>\n",
       "      <td>0.000000</td>\n",
       "      <td>0.000000</td>\n",
       "      <td>0.000000</td>\n",
       "      <td>0.000000</td>\n",
       "      <td>0.000000</td>\n",
       "      <td>0.000000</td>\n",
       "    </tr>\n",
       "    <tr>\n",
       "      <th>0</th>\n",
       "      <td>2000-01-03</td>\n",
       "      <td>93.591164</td>\n",
       "      <td>0.000000</td>\n",
       "      <td>0.000000</td>\n",
       "      <td>0.000000</td>\n",
       "      <td>0.000000</td>\n",
       "      <td>0.000000</td>\n",
       "      <td>0.000000</td>\n",
       "      <td>1.000000</td>\n",
       "      <td>0.000000</td>\n",
       "      <td>0.000000</td>\n",
       "    </tr>\n",
       "    <tr>\n",
       "      <th>0</th>\n",
       "      <td>2000-01-03</td>\n",
       "      <td>93.591164</td>\n",
       "      <td>0.000000</td>\n",
       "      <td>0.000000</td>\n",
       "      <td>0.000000</td>\n",
       "      <td>0.000000</td>\n",
       "      <td>0.000000</td>\n",
       "      <td>1.000000</td>\n",
       "      <td>0.000000</td>\n",
       "      <td>0.000000</td>\n",
       "      <td>0.000000</td>\n",
       "    </tr>\n",
       "    <tr>\n",
       "      <th>0</th>\n",
       "      <td>2000-01-03</td>\n",
       "      <td>93.591164</td>\n",
       "      <td>0.000000</td>\n",
       "      <td>0.000000</td>\n",
       "      <td>0.000000</td>\n",
       "      <td>1.000000</td>\n",
       "      <td>0.000000</td>\n",
       "      <td>0.000000</td>\n",
       "      <td>0.000000</td>\n",
       "      <td>0.000000</td>\n",
       "      <td>0.000000</td>\n",
       "    </tr>\n",
       "    <tr>\n",
       "      <th>0</th>\n",
       "      <td>2000-01-03</td>\n",
       "      <td>93.591164</td>\n",
       "      <td>0.000000</td>\n",
       "      <td>0.000000</td>\n",
       "      <td>0.000000</td>\n",
       "      <td>0.000000</td>\n",
       "      <td>0.000000</td>\n",
       "      <td>0.000000</td>\n",
       "      <td>0.000000</td>\n",
       "      <td>0.000000</td>\n",
       "      <td>1.000000</td>\n",
       "    </tr>\n",
       "  </tbody>\n",
       "</table>\n",
       "</div>"
      ],
      "text/plain": [
       "       dates  actual_close  actual_log_close  predicted_log_close   market  \\\n",
       "0 2000-01-03     93.591164          0.000000             0.000000 1.000000   \n",
       "0 2000-01-03     93.591164          0.000000             0.000000 0.000000   \n",
       "0 2000-01-03     93.591164          0.000000             0.000000 0.000000   \n",
       "0 2000-01-03     93.591164          0.000000             0.000000 0.000000   \n",
       "0 2000-01-03     93.591164          0.000000             0.000000 0.000000   \n",
       "\n",
       "   sentiment  negative_sentiment      gec      vix  small_bus  all_features  \n",
       "0   0.000000            0.000000 0.000000 0.000000   0.000000      0.000000  \n",
       "0   0.000000            0.000000 0.000000 1.000000   0.000000      0.000000  \n",
       "0   0.000000            0.000000 1.000000 0.000000   0.000000      0.000000  \n",
       "0   1.000000            0.000000 0.000000 0.000000   0.000000      0.000000  \n",
       "0   0.000000            0.000000 0.000000 0.000000   0.000000      1.000000  "
      ]
     },
     "execution_count": 92,
     "metadata": {},
     "output_type": "execute_result"
    }
   ],
   "source": [
    "predicted_df.head()"
   ]
  },
  {
   "cell_type": "markdown",
   "id": "d22092d8-ef42-46d8-909c-c26627d2c939",
   "metadata": {},
   "source": [
    "# Add success column"
   ]
  },
  {
   "cell_type": "code",
   "execution_count": 93,
   "id": "63a38322-579f-4435-8025-71c5efc8ed5b",
   "metadata": {},
   "outputs": [],
   "source": [
    "# Create a new column 'success'\n",
    "predicted_df['success'] = np.where((predicted_df['actual_log_close'] > 0) & (predicted_df['predicted_log_close'] > 0), 1,\n",
    "                           np.where((predicted_df['actual_log_close'] < 0) & (predicted_df['predicted_log_close'] < 0), 1, 0))"
   ]
  },
  {
   "cell_type": "code",
   "execution_count": 94,
   "id": "4c42e864-1794-4337-acaa-2700f4a5ac79",
   "metadata": {},
   "outputs": [
    {
     "name": "stdout",
     "output_type": "stream",
     "text": [
      "Success rate for Model Top 20 (market): 50.01633986928105%\n",
      "Success rate for Model Top 20 (sentiment): 50.37581699346405%\n",
      "Success rate for Model Top 20 (negative_sentiment): 4.705882352941177%\n",
      "Success rate for Model Top 20 (gec): 4.754901960784314%\n",
      "Success rate for Model Top 20 (vix): 50.89869281045751%\n",
      "Success rate for Model Top 20 (small_bus): 51.24183006535947%\n",
      "Success rate for Model Top 20 (all_features): 49.19934640522875%\n"
     ]
    }
   ],
   "source": [
    "# Iterate over all values in extras\n",
    "for extra in extras:\n",
    "    # Filter DataFrame for the current extra value\n",
    "    df_source = predicted_df[predicted_df[extra] == 1]\n",
    "\n",
    "    # Calculate the success rate for the current extra value\n",
    "    success_rate = (df_source['success'] == 1).sum() / len(df_source) * 100\n",
    "    print(f\"Success rate for Model Top 20 ({extra}): {success_rate}%\")"
   ]
  },
  {
   "cell_type": "code",
   "execution_count": 95,
   "id": "280b23ae-dc0e-4ca6-8f34-5366d168c557",
   "metadata": {
    "scrolled": true
   },
   "outputs": [
    {
     "data": {
      "text/html": [
       "<div>\n",
       "<style scoped>\n",
       "    .dataframe tbody tr th:only-of-type {\n",
       "        vertical-align: middle;\n",
       "    }\n",
       "\n",
       "    .dataframe tbody tr th {\n",
       "        vertical-align: top;\n",
       "    }\n",
       "\n",
       "    .dataframe thead th {\n",
       "        text-align: right;\n",
       "    }\n",
       "</style>\n",
       "<table border=\"1\" class=\"dataframe\">\n",
       "  <thead>\n",
       "    <tr style=\"text-align: right;\">\n",
       "      <th></th>\n",
       "      <th>dates</th>\n",
       "      <th>actual_close</th>\n",
       "      <th>actual_log_close</th>\n",
       "      <th>predicted_log_close</th>\n",
       "      <th>market</th>\n",
       "      <th>sentiment</th>\n",
       "      <th>negative_sentiment</th>\n",
       "      <th>gec</th>\n",
       "      <th>vix</th>\n",
       "      <th>small_bus</th>\n",
       "      <th>all_features</th>\n",
       "      <th>success</th>\n",
       "    </tr>\n",
       "  </thead>\n",
       "  <tbody>\n",
       "    <tr>\n",
       "      <th>6119</th>\n",
       "      <td>2024-04-29</td>\n",
       "      <td>510.059998</td>\n",
       "      <td>0.003535</td>\n",
       "      <td>0.001712</td>\n",
       "      <td>0.000000</td>\n",
       "      <td>0.000000</td>\n",
       "      <td>0.000000</td>\n",
       "      <td>1.000000</td>\n",
       "      <td>0.000000</td>\n",
       "      <td>0.000000</td>\n",
       "      <td>0.000000</td>\n",
       "      <td>1</td>\n",
       "    </tr>\n",
       "    <tr>\n",
       "      <th>6119</th>\n",
       "      <td>2024-04-29</td>\n",
       "      <td>510.059998</td>\n",
       "      <td>0.003535</td>\n",
       "      <td>-0.009916</td>\n",
       "      <td>1.000000</td>\n",
       "      <td>0.000000</td>\n",
       "      <td>0.000000</td>\n",
       "      <td>0.000000</td>\n",
       "      <td>0.000000</td>\n",
       "      <td>0.000000</td>\n",
       "      <td>0.000000</td>\n",
       "      <td>0</td>\n",
       "    </tr>\n",
       "    <tr>\n",
       "      <th>6119</th>\n",
       "      <td>2024-04-29</td>\n",
       "      <td>510.059998</td>\n",
       "      <td>0.003535</td>\n",
       "      <td>-0.026660</td>\n",
       "      <td>0.000000</td>\n",
       "      <td>0.000000</td>\n",
       "      <td>0.000000</td>\n",
       "      <td>0.000000</td>\n",
       "      <td>0.000000</td>\n",
       "      <td>1.000000</td>\n",
       "      <td>0.000000</td>\n",
       "      <td>0</td>\n",
       "    </tr>\n",
       "    <tr>\n",
       "      <th>6119</th>\n",
       "      <td>2024-04-29</td>\n",
       "      <td>510.059998</td>\n",
       "      <td>0.003535</td>\n",
       "      <td>-0.004534</td>\n",
       "      <td>0.000000</td>\n",
       "      <td>0.000000</td>\n",
       "      <td>0.000000</td>\n",
       "      <td>0.000000</td>\n",
       "      <td>1.000000</td>\n",
       "      <td>0.000000</td>\n",
       "      <td>0.000000</td>\n",
       "      <td>0</td>\n",
       "    </tr>\n",
       "    <tr>\n",
       "      <th>6119</th>\n",
       "      <td>2024-04-29</td>\n",
       "      <td>510.059998</td>\n",
       "      <td>0.003535</td>\n",
       "      <td>-0.009067</td>\n",
       "      <td>0.000000</td>\n",
       "      <td>0.000000</td>\n",
       "      <td>0.000000</td>\n",
       "      <td>0.000000</td>\n",
       "      <td>0.000000</td>\n",
       "      <td>0.000000</td>\n",
       "      <td>1.000000</td>\n",
       "      <td>0</td>\n",
       "    </tr>\n",
       "  </tbody>\n",
       "</table>\n",
       "</div>"
      ],
      "text/plain": [
       "          dates  actual_close  actual_log_close  predicted_log_close   market  \\\n",
       "6119 2024-04-29    510.059998          0.003535             0.001712 0.000000   \n",
       "6119 2024-04-29    510.059998          0.003535            -0.009916 1.000000   \n",
       "6119 2024-04-29    510.059998          0.003535            -0.026660 0.000000   \n",
       "6119 2024-04-29    510.059998          0.003535            -0.004534 0.000000   \n",
       "6119 2024-04-29    510.059998          0.003535            -0.009067 0.000000   \n",
       "\n",
       "      sentiment  negative_sentiment      gec      vix  small_bus  \\\n",
       "6119   0.000000            0.000000 1.000000 0.000000   0.000000   \n",
       "6119   0.000000            0.000000 0.000000 0.000000   0.000000   \n",
       "6119   0.000000            0.000000 0.000000 0.000000   1.000000   \n",
       "6119   0.000000            0.000000 0.000000 1.000000   0.000000   \n",
       "6119   0.000000            0.000000 0.000000 0.000000   0.000000   \n",
       "\n",
       "      all_features  success  \n",
       "6119      0.000000        1  \n",
       "6119      0.000000        0  \n",
       "6119      0.000000        0  \n",
       "6119      0.000000        0  \n",
       "6119      1.000000        0  "
      ]
     },
     "execution_count": 95,
     "metadata": {},
     "output_type": "execute_result"
    }
   ],
   "source": [
    "predicted_df.tail()"
   ]
  },
  {
   "cell_type": "markdown",
   "id": "9e149083-f418-40cc-b094-31e8a4ce6678",
   "metadata": {},
   "source": [
    "# Append results to predicted_df"
   ]
  },
  {
   "cell_type": "code",
   "execution_count": 96,
   "id": "8fbdd692-dbd3-4fef-94ab-d5c4f0904a1e",
   "metadata": {
    "scrolled": true
   },
   "outputs": [
    {
     "data": {
      "text/html": [
       "<div>\n",
       "<style scoped>\n",
       "    .dataframe tbody tr th:only-of-type {\n",
       "        vertical-align: middle;\n",
       "    }\n",
       "\n",
       "    .dataframe tbody tr th {\n",
       "        vertical-align: top;\n",
       "    }\n",
       "\n",
       "    .dataframe thead th {\n",
       "        text-align: right;\n",
       "    }\n",
       "</style>\n",
       "<table border=\"1\" class=\"dataframe\">\n",
       "  <thead>\n",
       "    <tr style=\"text-align: right;\">\n",
       "      <th></th>\n",
       "      <th>dates</th>\n",
       "      <th>actual_close</th>\n",
       "      <th>actual_log_close</th>\n",
       "      <th>predicted_log_close</th>\n",
       "      <th>market</th>\n",
       "      <th>sentiment</th>\n",
       "      <th>negative_sentiment</th>\n",
       "      <th>gec</th>\n",
       "      <th>vix</th>\n",
       "      <th>small_bus</th>\n",
       "      <th>all_features</th>\n",
       "      <th>success</th>\n",
       "      <th>predicted_cumulative_log_returns</th>\n",
       "      <th>predicted_cumulative_log_returns_prices</th>\n",
       "    </tr>\n",
       "  </thead>\n",
       "  <tbody>\n",
       "    <tr>\n",
       "      <th>6115</th>\n",
       "      <td>2024-04-24</td>\n",
       "      <td>505.410004</td>\n",
       "      <td>-0.000475</td>\n",
       "      <td>-0.010193</td>\n",
       "      <td>0.000000</td>\n",
       "      <td>0.000000</td>\n",
       "      <td>0.000000</td>\n",
       "      <td>0.000000</td>\n",
       "      <td>0.000000</td>\n",
       "      <td>0.000000</td>\n",
       "      <td>1.000000</td>\n",
       "      <td>1</td>\n",
       "      <td>-10.617036</td>\n",
       "      <td>0.002293</td>\n",
       "    </tr>\n",
       "    <tr>\n",
       "      <th>6116</th>\n",
       "      <td>2024-04-25</td>\n",
       "      <td>503.489990</td>\n",
       "      <td>-0.003806</td>\n",
       "      <td>-0.000810</td>\n",
       "      <td>0.000000</td>\n",
       "      <td>0.000000</td>\n",
       "      <td>0.000000</td>\n",
       "      <td>0.000000</td>\n",
       "      <td>0.000000</td>\n",
       "      <td>0.000000</td>\n",
       "      <td>1.000000</td>\n",
       "      <td>1</td>\n",
       "      <td>-10.617846</td>\n",
       "      <td>0.002291</td>\n",
       "    </tr>\n",
       "    <tr>\n",
       "      <th>6117</th>\n",
       "      <td>2024-04-26</td>\n",
       "      <td>508.260010</td>\n",
       "      <td>0.009429</td>\n",
       "      <td>-0.006819</td>\n",
       "      <td>0.000000</td>\n",
       "      <td>0.000000</td>\n",
       "      <td>0.000000</td>\n",
       "      <td>0.000000</td>\n",
       "      <td>0.000000</td>\n",
       "      <td>0.000000</td>\n",
       "      <td>1.000000</td>\n",
       "      <td>0</td>\n",
       "      <td>-10.624665</td>\n",
       "      <td>0.002275</td>\n",
       "    </tr>\n",
       "    <tr>\n",
       "      <th>6118</th>\n",
       "      <td>2024-04-26</td>\n",
       "      <td>508.260010</td>\n",
       "      <td>0.000000</td>\n",
       "      <td>-0.006819</td>\n",
       "      <td>0.000000</td>\n",
       "      <td>0.000000</td>\n",
       "      <td>0.000000</td>\n",
       "      <td>0.000000</td>\n",
       "      <td>0.000000</td>\n",
       "      <td>0.000000</td>\n",
       "      <td>1.000000</td>\n",
       "      <td>0</td>\n",
       "      <td>-10.631483</td>\n",
       "      <td>0.002260</td>\n",
       "    </tr>\n",
       "    <tr>\n",
       "      <th>6119</th>\n",
       "      <td>2024-04-29</td>\n",
       "      <td>510.059998</td>\n",
       "      <td>0.003535</td>\n",
       "      <td>-0.009067</td>\n",
       "      <td>0.000000</td>\n",
       "      <td>0.000000</td>\n",
       "      <td>0.000000</td>\n",
       "      <td>0.000000</td>\n",
       "      <td>0.000000</td>\n",
       "      <td>0.000000</td>\n",
       "      <td>1.000000</td>\n",
       "      <td>0</td>\n",
       "      <td>-10.640550</td>\n",
       "      <td>0.002239</td>\n",
       "    </tr>\n",
       "  </tbody>\n",
       "</table>\n",
       "</div>"
      ],
      "text/plain": [
       "          dates  actual_close  actual_log_close  predicted_log_close   market  \\\n",
       "6115 2024-04-24    505.410004         -0.000475            -0.010193 0.000000   \n",
       "6116 2024-04-25    503.489990         -0.003806            -0.000810 0.000000   \n",
       "6117 2024-04-26    508.260010          0.009429            -0.006819 0.000000   \n",
       "6118 2024-04-26    508.260010          0.000000            -0.006819 0.000000   \n",
       "6119 2024-04-29    510.059998          0.003535            -0.009067 0.000000   \n",
       "\n",
       "      sentiment  negative_sentiment      gec      vix  small_bus  \\\n",
       "6115   0.000000            0.000000 0.000000 0.000000   0.000000   \n",
       "6116   0.000000            0.000000 0.000000 0.000000   0.000000   \n",
       "6117   0.000000            0.000000 0.000000 0.000000   0.000000   \n",
       "6118   0.000000            0.000000 0.000000 0.000000   0.000000   \n",
       "6119   0.000000            0.000000 0.000000 0.000000   0.000000   \n",
       "\n",
       "      all_features  success  predicted_cumulative_log_returns  \\\n",
       "6115      1.000000        1                        -10.617036   \n",
       "6116      1.000000        1                        -10.617846   \n",
       "6117      1.000000        0                        -10.624665   \n",
       "6118      1.000000        0                        -10.631483   \n",
       "6119      1.000000        0                        -10.640550   \n",
       "\n",
       "      predicted_cumulative_log_returns_prices  \n",
       "6115                                 0.002293  \n",
       "6116                                 0.002291  \n",
       "6117                                 0.002275  \n",
       "6118                                 0.002260  \n",
       "6119                                 0.002239  "
      ]
     },
     "execution_count": 96,
     "metadata": {},
     "output_type": "execute_result"
    }
   ],
   "source": [
    "# Create a copy of the original DataFrame\n",
    "predicted_df_copy = predicted_df.copy()\n",
    "\n",
    "# Create an empty DataFrame to store the results\n",
    "results_df = pd.DataFrame()\n",
    "\n",
    "# Iterate over all values in extras\n",
    "for extra in extras:\n",
    "    # Filter DataFrame for the current extra value\n",
    "    df_source = predicted_df_copy[predicted_df_copy[extra] == 1].copy()\n",
    "\n",
    "    # Calculate cumulative log returns for the current extra value\n",
    "    df_source['predicted_cumulative_log_returns'] = df_source['predicted_log_close'].cumsum()\n",
    "    df_source['predicted_cumulative_log_returns_prices'] = np.exp(df_source['predicted_cumulative_log_returns'])\n",
    "    df_source['predicted_cumulative_log_returns_prices'] = df_source['actual_close'].iloc[0] * df_source['predicted_cumulative_log_returns_prices']\n",
    "\n",
    "    # Append the results to the results DataFrame\n",
    "    results_df = pd.concat([results_df, df_source])\n",
    "\n",
    "results_df.tail()"
   ]
  },
  {
   "cell_type": "code",
   "execution_count": 97,
   "id": "d435b80c-40e0-4692-a044-1e2126a2a2a9",
   "metadata": {},
   "outputs": [],
   "source": [
    "# Replace the original DataFrame with the results DataFrame\n",
    "predicted_df = results_df"
   ]
  },
  {
   "cell_type": "code",
   "execution_count": 98,
   "id": "22002c25-7100-4d52-8b7c-c19ae43b36b4",
   "metadata": {},
   "outputs": [],
   "source": [
    "# Calculate 'predicted_behaviour' and 'actual_behaviour'\n",
    "predicted_df['predicted_behaviour'] = np.where(predicted_df['predicted_log_close'] > 0, 'up', 'down')\n",
    "predicted_df['actual_behaviour'] = np.where(predicted_df['actual_log_close'] > 0, 'up', 'down')"
   ]
  },
  {
   "cell_type": "code",
   "execution_count": 76,
   "id": "838246fb-44ae-4e43-8ea7-b06443e55e76",
   "metadata": {},
   "outputs": [
    {
     "data": {
      "text/html": [
       "<div>\n",
       "<style scoped>\n",
       "    .dataframe tbody tr th:only-of-type {\n",
       "        vertical-align: middle;\n",
       "    }\n",
       "\n",
       "    .dataframe tbody tr th {\n",
       "        vertical-align: top;\n",
       "    }\n",
       "\n",
       "    .dataframe thead th {\n",
       "        text-align: right;\n",
       "    }\n",
       "</style>\n",
       "<table border=\"1\" class=\"dataframe\">\n",
       "  <thead>\n",
       "    <tr style=\"text-align: right;\">\n",
       "      <th></th>\n",
       "      <th>dates</th>\n",
       "      <th>actual_close</th>\n",
       "      <th>actual_log_close</th>\n",
       "      <th>predicted_log_close</th>\n",
       "      <th>market</th>\n",
       "      <th>sentiment</th>\n",
       "      <th>negative_sentiment</th>\n",
       "      <th>gec</th>\n",
       "      <th>vix</th>\n",
       "      <th>small_bus</th>\n",
       "      <th>all_features</th>\n",
       "      <th>success</th>\n",
       "      <th>predicted_cumulative_log_returns</th>\n",
       "      <th>predicted_cumulative_log_returns_prices</th>\n",
       "      <th>predicted_behaviour</th>\n",
       "      <th>actual_behaviour</th>\n",
       "    </tr>\n",
       "  </thead>\n",
       "  <tbody>\n",
       "    <tr>\n",
       "      <th>6115</th>\n",
       "      <td>2024-04-24</td>\n",
       "      <td>505.410004</td>\n",
       "      <td>-0.000475</td>\n",
       "      <td>-0.010193</td>\n",
       "      <td>0.0</td>\n",
       "      <td>0.0</td>\n",
       "      <td>0.0</td>\n",
       "      <td>0.0</td>\n",
       "      <td>0.0</td>\n",
       "      <td>0.0</td>\n",
       "      <td>1.0</td>\n",
       "      <td>1</td>\n",
       "      <td>-10.617036</td>\n",
       "      <td>0.002317</td>\n",
       "      <td>down</td>\n",
       "      <td>down</td>\n",
       "    </tr>\n",
       "    <tr>\n",
       "      <th>6116</th>\n",
       "      <td>2024-04-25</td>\n",
       "      <td>503.489990</td>\n",
       "      <td>-0.003806</td>\n",
       "      <td>-0.000810</td>\n",
       "      <td>0.0</td>\n",
       "      <td>0.0</td>\n",
       "      <td>0.0</td>\n",
       "      <td>0.0</td>\n",
       "      <td>0.0</td>\n",
       "      <td>0.0</td>\n",
       "      <td>1.0</td>\n",
       "      <td>1</td>\n",
       "      <td>-10.617846</td>\n",
       "      <td>0.002315</td>\n",
       "      <td>down</td>\n",
       "      <td>down</td>\n",
       "    </tr>\n",
       "    <tr>\n",
       "      <th>6117</th>\n",
       "      <td>2024-04-26</td>\n",
       "      <td>508.260010</td>\n",
       "      <td>0.009429</td>\n",
       "      <td>-0.006819</td>\n",
       "      <td>0.0</td>\n",
       "      <td>0.0</td>\n",
       "      <td>0.0</td>\n",
       "      <td>0.0</td>\n",
       "      <td>0.0</td>\n",
       "      <td>0.0</td>\n",
       "      <td>1.0</td>\n",
       "      <td>0</td>\n",
       "      <td>-10.624665</td>\n",
       "      <td>0.002300</td>\n",
       "      <td>down</td>\n",
       "      <td>up</td>\n",
       "    </tr>\n",
       "    <tr>\n",
       "      <th>6118</th>\n",
       "      <td>2024-04-26</td>\n",
       "      <td>508.260010</td>\n",
       "      <td>0.000000</td>\n",
       "      <td>-0.006819</td>\n",
       "      <td>0.0</td>\n",
       "      <td>0.0</td>\n",
       "      <td>0.0</td>\n",
       "      <td>0.0</td>\n",
       "      <td>0.0</td>\n",
       "      <td>0.0</td>\n",
       "      <td>1.0</td>\n",
       "      <td>0</td>\n",
       "      <td>-10.631483</td>\n",
       "      <td>0.002284</td>\n",
       "      <td>down</td>\n",
       "      <td>down</td>\n",
       "    </tr>\n",
       "    <tr>\n",
       "      <th>6119</th>\n",
       "      <td>2024-04-29</td>\n",
       "      <td>510.059998</td>\n",
       "      <td>0.003535</td>\n",
       "      <td>-0.009067</td>\n",
       "      <td>0.0</td>\n",
       "      <td>0.0</td>\n",
       "      <td>0.0</td>\n",
       "      <td>0.0</td>\n",
       "      <td>0.0</td>\n",
       "      <td>0.0</td>\n",
       "      <td>1.0</td>\n",
       "      <td>0</td>\n",
       "      <td>-10.640550</td>\n",
       "      <td>0.002263</td>\n",
       "      <td>down</td>\n",
       "      <td>up</td>\n",
       "    </tr>\n",
       "  </tbody>\n",
       "</table>\n",
       "</div>"
      ],
      "text/plain": [
       "          dates  actual_close  actual_log_close  predicted_log_close  market  \\\n",
       "6115 2024-04-24    505.410004         -0.000475            -0.010193     0.0   \n",
       "6116 2024-04-25    503.489990         -0.003806            -0.000810     0.0   \n",
       "6117 2024-04-26    508.260010          0.009429            -0.006819     0.0   \n",
       "6118 2024-04-26    508.260010          0.000000            -0.006819     0.0   \n",
       "6119 2024-04-29    510.059998          0.003535            -0.009067     0.0   \n",
       "\n",
       "      sentiment  negative_sentiment  gec  vix  small_bus  all_features  \\\n",
       "6115        0.0                 0.0  0.0  0.0        0.0           1.0   \n",
       "6116        0.0                 0.0  0.0  0.0        0.0           1.0   \n",
       "6117        0.0                 0.0  0.0  0.0        0.0           1.0   \n",
       "6118        0.0                 0.0  0.0  0.0        0.0           1.0   \n",
       "6119        0.0                 0.0  0.0  0.0        0.0           1.0   \n",
       "\n",
       "      success  predicted_cumulative_log_returns  \\\n",
       "6115        1                        -10.617036   \n",
       "6116        1                        -10.617846   \n",
       "6117        0                        -10.624665   \n",
       "6118        0                        -10.631483   \n",
       "6119        0                        -10.640550   \n",
       "\n",
       "      predicted_cumulative_log_returns_prices predicted_behaviour  \\\n",
       "6115                                 0.002317                down   \n",
       "6116                                 0.002315                down   \n",
       "6117                                 0.002300                down   \n",
       "6118                                 0.002284                down   \n",
       "6119                                 0.002263                down   \n",
       "\n",
       "     actual_behaviour  \n",
       "6115             down  \n",
       "6116             down  \n",
       "6117               up  \n",
       "6118             down  \n",
       "6119               up  "
      ]
     },
     "execution_count": 76,
     "metadata": {},
     "output_type": "execute_result"
    }
   ],
   "source": [
    "predicted_df.tail()"
   ]
  },
  {
   "cell_type": "code",
   "execution_count": 99,
   "id": "9931b56f-bc8a-4df7-81c9-cacfab20977e",
   "metadata": {},
   "outputs": [],
   "source": [
    "# Define the new order of columns\n",
    "new_column_order = []\n",
    "new_column_order = ['dates', 'actual_close', 'actual_log_close', 'predicted_log_close', \n",
    "                    'predicted_cumulative_log_returns', 'predicted_cumulative_log_returns_prices', \n",
    "                    'predicted_behaviour', 'actual_behaviour']\n",
    "new_column_order = new_column_order + extras + ['success']\n",
    "\n",
    "# Reorder the columns\n",
    "predicted_df = predicted_df[new_column_order]"
   ]
  },
  {
   "cell_type": "code",
   "execution_count": 78,
   "id": "1a4c8d66-1366-485c-9e0e-4915f024057a",
   "metadata": {},
   "outputs": [
    {
     "data": {
      "text/html": [
       "<div>\n",
       "<style scoped>\n",
       "    .dataframe tbody tr th:only-of-type {\n",
       "        vertical-align: middle;\n",
       "    }\n",
       "\n",
       "    .dataframe tbody tr th {\n",
       "        vertical-align: top;\n",
       "    }\n",
       "\n",
       "    .dataframe thead th {\n",
       "        text-align: right;\n",
       "    }\n",
       "</style>\n",
       "<table border=\"1\" class=\"dataframe\">\n",
       "  <thead>\n",
       "    <tr style=\"text-align: right;\">\n",
       "      <th></th>\n",
       "      <th>dates</th>\n",
       "      <th>actual_close</th>\n",
       "      <th>actual_log_close</th>\n",
       "      <th>predicted_log_close</th>\n",
       "      <th>predicted_cumulative_log_returns</th>\n",
       "      <th>predicted_cumulative_log_returns_prices</th>\n",
       "      <th>predicted_behaviour</th>\n",
       "      <th>actual_behaviour</th>\n",
       "      <th>market</th>\n",
       "      <th>sentiment</th>\n",
       "      <th>negative_sentiment</th>\n",
       "      <th>gec</th>\n",
       "      <th>vix</th>\n",
       "      <th>small_bus</th>\n",
       "      <th>all_features</th>\n",
       "      <th>success</th>\n",
       "    </tr>\n",
       "  </thead>\n",
       "  <tbody>\n",
       "    <tr>\n",
       "      <th>6115</th>\n",
       "      <td>2024-04-24</td>\n",
       "      <td>505.410004</td>\n",
       "      <td>-0.000475</td>\n",
       "      <td>-0.010193</td>\n",
       "      <td>-10.617036</td>\n",
       "      <td>0.002317</td>\n",
       "      <td>down</td>\n",
       "      <td>down</td>\n",
       "      <td>0.0</td>\n",
       "      <td>0.0</td>\n",
       "      <td>0.0</td>\n",
       "      <td>0.0</td>\n",
       "      <td>0.0</td>\n",
       "      <td>0.0</td>\n",
       "      <td>1.0</td>\n",
       "      <td>1</td>\n",
       "    </tr>\n",
       "    <tr>\n",
       "      <th>6116</th>\n",
       "      <td>2024-04-25</td>\n",
       "      <td>503.489990</td>\n",
       "      <td>-0.003806</td>\n",
       "      <td>-0.000810</td>\n",
       "      <td>-10.617846</td>\n",
       "      <td>0.002315</td>\n",
       "      <td>down</td>\n",
       "      <td>down</td>\n",
       "      <td>0.0</td>\n",
       "      <td>0.0</td>\n",
       "      <td>0.0</td>\n",
       "      <td>0.0</td>\n",
       "      <td>0.0</td>\n",
       "      <td>0.0</td>\n",
       "      <td>1.0</td>\n",
       "      <td>1</td>\n",
       "    </tr>\n",
       "    <tr>\n",
       "      <th>6117</th>\n",
       "      <td>2024-04-26</td>\n",
       "      <td>508.260010</td>\n",
       "      <td>0.009429</td>\n",
       "      <td>-0.006819</td>\n",
       "      <td>-10.624665</td>\n",
       "      <td>0.002300</td>\n",
       "      <td>down</td>\n",
       "      <td>up</td>\n",
       "      <td>0.0</td>\n",
       "      <td>0.0</td>\n",
       "      <td>0.0</td>\n",
       "      <td>0.0</td>\n",
       "      <td>0.0</td>\n",
       "      <td>0.0</td>\n",
       "      <td>1.0</td>\n",
       "      <td>0</td>\n",
       "    </tr>\n",
       "    <tr>\n",
       "      <th>6118</th>\n",
       "      <td>2024-04-26</td>\n",
       "      <td>508.260010</td>\n",
       "      <td>0.000000</td>\n",
       "      <td>-0.006819</td>\n",
       "      <td>-10.631483</td>\n",
       "      <td>0.002284</td>\n",
       "      <td>down</td>\n",
       "      <td>down</td>\n",
       "      <td>0.0</td>\n",
       "      <td>0.0</td>\n",
       "      <td>0.0</td>\n",
       "      <td>0.0</td>\n",
       "      <td>0.0</td>\n",
       "      <td>0.0</td>\n",
       "      <td>1.0</td>\n",
       "      <td>0</td>\n",
       "    </tr>\n",
       "    <tr>\n",
       "      <th>6119</th>\n",
       "      <td>2024-04-29</td>\n",
       "      <td>510.059998</td>\n",
       "      <td>0.003535</td>\n",
       "      <td>-0.009067</td>\n",
       "      <td>-10.640550</td>\n",
       "      <td>0.002263</td>\n",
       "      <td>down</td>\n",
       "      <td>up</td>\n",
       "      <td>0.0</td>\n",
       "      <td>0.0</td>\n",
       "      <td>0.0</td>\n",
       "      <td>0.0</td>\n",
       "      <td>0.0</td>\n",
       "      <td>0.0</td>\n",
       "      <td>1.0</td>\n",
       "      <td>0</td>\n",
       "    </tr>\n",
       "  </tbody>\n",
       "</table>\n",
       "</div>"
      ],
      "text/plain": [
       "          dates  actual_close  actual_log_close  predicted_log_close  \\\n",
       "6115 2024-04-24    505.410004         -0.000475            -0.010193   \n",
       "6116 2024-04-25    503.489990         -0.003806            -0.000810   \n",
       "6117 2024-04-26    508.260010          0.009429            -0.006819   \n",
       "6118 2024-04-26    508.260010          0.000000            -0.006819   \n",
       "6119 2024-04-29    510.059998          0.003535            -0.009067   \n",
       "\n",
       "      predicted_cumulative_log_returns  \\\n",
       "6115                        -10.617036   \n",
       "6116                        -10.617846   \n",
       "6117                        -10.624665   \n",
       "6118                        -10.631483   \n",
       "6119                        -10.640550   \n",
       "\n",
       "      predicted_cumulative_log_returns_prices predicted_behaviour  \\\n",
       "6115                                 0.002317                down   \n",
       "6116                                 0.002315                down   \n",
       "6117                                 0.002300                down   \n",
       "6118                                 0.002284                down   \n",
       "6119                                 0.002263                down   \n",
       "\n",
       "     actual_behaviour  market  sentiment  negative_sentiment  gec  vix  \\\n",
       "6115             down     0.0        0.0                 0.0  0.0  0.0   \n",
       "6116             down     0.0        0.0                 0.0  0.0  0.0   \n",
       "6117               up     0.0        0.0                 0.0  0.0  0.0   \n",
       "6118             down     0.0        0.0                 0.0  0.0  0.0   \n",
       "6119               up     0.0        0.0                 0.0  0.0  0.0   \n",
       "\n",
       "      small_bus  all_features  success  \n",
       "6115        0.0           1.0        1  \n",
       "6116        0.0           1.0        1  \n",
       "6117        0.0           1.0        0  \n",
       "6118        0.0           1.0        0  \n",
       "6119        0.0           1.0        0  "
      ]
     },
     "execution_count": 78,
     "metadata": {},
     "output_type": "execute_result"
    }
   ],
   "source": [
    "predicted_df.tail()"
   ]
  },
  {
   "cell_type": "code",
   "execution_count": 100,
   "id": "097d3d8f-bee6-4316-b88c-7d7f6ad7399b",
   "metadata": {},
   "outputs": [],
   "source": [
    "mapping_dict = {\n",
    "    extras[0]: 'Market data only',\n",
    "    extras[1]: 'With news sentiment',\n",
    "    extras[2]: 'With news sentiment (Inverted)',\n",
    "    extras[3]: 'With Global Economic Conditions',\n",
    "    extras[4]: 'With Options and Volatility Index',\n",
    "    extras[5]: 'With Small Business Optimism Index',\n",
    "    extras[6]: 'With All Features',\n",
    "}"
   ]
  },
  {
   "cell_type": "code",
   "execution_count": 101,
   "id": "ba19d50a-b6a1-41ad-a231-0e53f413a40e",
   "metadata": {},
   "outputs": [
    {
     "name": "stderr",
     "output_type": "stream",
     "text": [
      "/tmp/ipykernel_143/2450501689.py:3: SettingWithCopyWarning: \n",
      "A value is trying to be set on a copy of a slice from a DataFrame.\n",
      "Try using .loc[row_indexer,col_indexer] = value instead\n",
      "\n",
      "See the caveats in the documentation: https://pandas.pydata.org/pandas-docs/stable/user_guide/indexing.html#returning-a-view-versus-a-copy\n",
      "  predicted_df.loc[predicted_df[extra] == 1, 'model'] = mapping_dict[extra]\n"
     ]
    }
   ],
   "source": [
    "# Create the new 'model' column\n",
    "for extra in extras:\n",
    "    predicted_df.loc[predicted_df[extra] == 1, 'model'] = mapping_dict[extra]\n",
    "\n",
    "# Drop the extras columns\n",
    "predicted_df = predicted_df.drop(columns=extras)"
   ]
  },
  {
   "cell_type": "code",
   "execution_count": 81,
   "id": "5826e943-242a-4031-b693-b190252772b0",
   "metadata": {},
   "outputs": [
    {
     "data": {
      "text/html": [
       "<div>\n",
       "<style scoped>\n",
       "    .dataframe tbody tr th:only-of-type {\n",
       "        vertical-align: middle;\n",
       "    }\n",
       "\n",
       "    .dataframe tbody tr th {\n",
       "        vertical-align: top;\n",
       "    }\n",
       "\n",
       "    .dataframe thead th {\n",
       "        text-align: right;\n",
       "    }\n",
       "</style>\n",
       "<table border=\"1\" class=\"dataframe\">\n",
       "  <thead>\n",
       "    <tr style=\"text-align: right;\">\n",
       "      <th></th>\n",
       "      <th>dates</th>\n",
       "      <th>actual_close</th>\n",
       "      <th>actual_log_close</th>\n",
       "      <th>predicted_log_close</th>\n",
       "      <th>predicted_cumulative_log_returns</th>\n",
       "      <th>predicted_cumulative_log_returns_prices</th>\n",
       "      <th>predicted_behaviour</th>\n",
       "      <th>actual_behaviour</th>\n",
       "      <th>success</th>\n",
       "      <th>model</th>\n",
       "    </tr>\n",
       "  </thead>\n",
       "  <tbody>\n",
       "    <tr>\n",
       "      <th>6115</th>\n",
       "      <td>2024-04-24</td>\n",
       "      <td>505.410004</td>\n",
       "      <td>-0.000475</td>\n",
       "      <td>-0.010193</td>\n",
       "      <td>-10.617036</td>\n",
       "      <td>0.002317</td>\n",
       "      <td>down</td>\n",
       "      <td>down</td>\n",
       "      <td>1</td>\n",
       "      <td>With All Features</td>\n",
       "    </tr>\n",
       "    <tr>\n",
       "      <th>6116</th>\n",
       "      <td>2024-04-25</td>\n",
       "      <td>503.489990</td>\n",
       "      <td>-0.003806</td>\n",
       "      <td>-0.000810</td>\n",
       "      <td>-10.617846</td>\n",
       "      <td>0.002315</td>\n",
       "      <td>down</td>\n",
       "      <td>down</td>\n",
       "      <td>1</td>\n",
       "      <td>With All Features</td>\n",
       "    </tr>\n",
       "    <tr>\n",
       "      <th>6117</th>\n",
       "      <td>2024-04-26</td>\n",
       "      <td>508.260010</td>\n",
       "      <td>0.009429</td>\n",
       "      <td>-0.006819</td>\n",
       "      <td>-10.624665</td>\n",
       "      <td>0.002300</td>\n",
       "      <td>down</td>\n",
       "      <td>up</td>\n",
       "      <td>0</td>\n",
       "      <td>With All Features</td>\n",
       "    </tr>\n",
       "    <tr>\n",
       "      <th>6118</th>\n",
       "      <td>2024-04-26</td>\n",
       "      <td>508.260010</td>\n",
       "      <td>0.000000</td>\n",
       "      <td>-0.006819</td>\n",
       "      <td>-10.631483</td>\n",
       "      <td>0.002284</td>\n",
       "      <td>down</td>\n",
       "      <td>down</td>\n",
       "      <td>0</td>\n",
       "      <td>With All Features</td>\n",
       "    </tr>\n",
       "    <tr>\n",
       "      <th>6119</th>\n",
       "      <td>2024-04-29</td>\n",
       "      <td>510.059998</td>\n",
       "      <td>0.003535</td>\n",
       "      <td>-0.009067</td>\n",
       "      <td>-10.640550</td>\n",
       "      <td>0.002263</td>\n",
       "      <td>down</td>\n",
       "      <td>up</td>\n",
       "      <td>0</td>\n",
       "      <td>With All Features</td>\n",
       "    </tr>\n",
       "  </tbody>\n",
       "</table>\n",
       "</div>"
      ],
      "text/plain": [
       "          dates  actual_close  actual_log_close  predicted_log_close  \\\n",
       "6115 2024-04-24    505.410004         -0.000475            -0.010193   \n",
       "6116 2024-04-25    503.489990         -0.003806            -0.000810   \n",
       "6117 2024-04-26    508.260010          0.009429            -0.006819   \n",
       "6118 2024-04-26    508.260010          0.000000            -0.006819   \n",
       "6119 2024-04-29    510.059998          0.003535            -0.009067   \n",
       "\n",
       "      predicted_cumulative_log_returns  \\\n",
       "6115                        -10.617036   \n",
       "6116                        -10.617846   \n",
       "6117                        -10.624665   \n",
       "6118                        -10.631483   \n",
       "6119                        -10.640550   \n",
       "\n",
       "      predicted_cumulative_log_returns_prices predicted_behaviour  \\\n",
       "6115                                 0.002317                down   \n",
       "6116                                 0.002315                down   \n",
       "6117                                 0.002300                down   \n",
       "6118                                 0.002284                down   \n",
       "6119                                 0.002263                down   \n",
       "\n",
       "     actual_behaviour  success              model  \n",
       "6115             down        1  With All Features  \n",
       "6116             down        1  With All Features  \n",
       "6117               up        0  With All Features  \n",
       "6118             down        0  With All Features  \n",
       "6119               up        0  With All Features  "
      ]
     },
     "execution_count": 81,
     "metadata": {},
     "output_type": "execute_result"
    }
   ],
   "source": [
    "predicted_df.tail()"
   ]
  },
  {
   "cell_type": "markdown",
   "id": "30aa8524-3606-4cfa-b779-a1f73eb73ff7",
   "metadata": {},
   "source": [
    "# Format decimals to avoid cientific notation"
   ]
  },
  {
   "cell_type": "code",
   "execution_count": 102,
   "id": "ed8f01fc-9630-4b20-8c62-c0900884d871",
   "metadata": {},
   "outputs": [],
   "source": [
    "cols_to_round = ['actual_close', 'actual_log_close', 'predicted_log_close', \n",
    "                 'predicted_cumulative_log_returns', 'predicted_cumulative_log_returns_prices']\n",
    "\n",
    "# Set the float format option in pandas\n",
    "pd.options.display.float_format = '{:.6f}'.format\n",
    "\n",
    "# Round the specified columns to 6 decimal places\n",
    "predicted_df[cols_to_round] = predicted_df[cols_to_round].astype(float)"
   ]
  },
  {
   "cell_type": "code",
   "execution_count": 103,
   "id": "0390e7b5-a92f-4120-aa5a-e735cf175d07",
   "metadata": {},
   "outputs": [
    {
     "data": {
      "text/html": [
       "<div>\n",
       "<style scoped>\n",
       "    .dataframe tbody tr th:only-of-type {\n",
       "        vertical-align: middle;\n",
       "    }\n",
       "\n",
       "    .dataframe tbody tr th {\n",
       "        vertical-align: top;\n",
       "    }\n",
       "\n",
       "    .dataframe thead th {\n",
       "        text-align: right;\n",
       "    }\n",
       "</style>\n",
       "<table border=\"1\" class=\"dataframe\">\n",
       "  <thead>\n",
       "    <tr style=\"text-align: right;\">\n",
       "      <th></th>\n",
       "      <th>dates</th>\n",
       "      <th>actual_close</th>\n",
       "      <th>actual_log_close</th>\n",
       "      <th>predicted_log_close</th>\n",
       "      <th>predicted_cumulative_log_returns</th>\n",
       "      <th>predicted_cumulative_log_returns_prices</th>\n",
       "      <th>predicted_behaviour</th>\n",
       "      <th>actual_behaviour</th>\n",
       "      <th>success</th>\n",
       "      <th>model</th>\n",
       "    </tr>\n",
       "  </thead>\n",
       "  <tbody>\n",
       "    <tr>\n",
       "      <th>0</th>\n",
       "      <td>2000-01-03</td>\n",
       "      <td>93.591164</td>\n",
       "      <td>0.000000</td>\n",
       "      <td>0.000000</td>\n",
       "      <td>0.000000</td>\n",
       "      <td>93.591164</td>\n",
       "      <td>down</td>\n",
       "      <td>down</td>\n",
       "      <td>0</td>\n",
       "      <td>Market data only</td>\n",
       "    </tr>\n",
       "    <tr>\n",
       "      <th>1</th>\n",
       "      <td>2000-01-04</td>\n",
       "      <td>89.931152</td>\n",
       "      <td>-0.039892</td>\n",
       "      <td>0.000000</td>\n",
       "      <td>0.000000</td>\n",
       "      <td>93.591164</td>\n",
       "      <td>down</td>\n",
       "      <td>down</td>\n",
       "      <td>0</td>\n",
       "      <td>Market data only</td>\n",
       "    </tr>\n",
       "    <tr>\n",
       "      <th>2</th>\n",
       "      <td>2000-01-05</td>\n",
       "      <td>90.092049</td>\n",
       "      <td>0.001788</td>\n",
       "      <td>0.000000</td>\n",
       "      <td>0.000000</td>\n",
       "      <td>93.591164</td>\n",
       "      <td>down</td>\n",
       "      <td>up</td>\n",
       "      <td>0</td>\n",
       "      <td>Market data only</td>\n",
       "    </tr>\n",
       "    <tr>\n",
       "      <th>3</th>\n",
       "      <td>2000-01-06</td>\n",
       "      <td>88.644089</td>\n",
       "      <td>-0.016203</td>\n",
       "      <td>0.000000</td>\n",
       "      <td>0.000000</td>\n",
       "      <td>93.591164</td>\n",
       "      <td>down</td>\n",
       "      <td>down</td>\n",
       "      <td>0</td>\n",
       "      <td>Market data only</td>\n",
       "    </tr>\n",
       "    <tr>\n",
       "      <th>4</th>\n",
       "      <td>2000-01-07</td>\n",
       "      <td>93.792213</td>\n",
       "      <td>0.056452</td>\n",
       "      <td>0.000000</td>\n",
       "      <td>0.000000</td>\n",
       "      <td>93.591164</td>\n",
       "      <td>down</td>\n",
       "      <td>up</td>\n",
       "      <td>0</td>\n",
       "      <td>Market data only</td>\n",
       "    </tr>\n",
       "    <tr>\n",
       "      <th>5</th>\n",
       "      <td>2000-01-10</td>\n",
       "      <td>94.113983</td>\n",
       "      <td>0.003425</td>\n",
       "      <td>0.000000</td>\n",
       "      <td>0.000000</td>\n",
       "      <td>93.591164</td>\n",
       "      <td>down</td>\n",
       "      <td>up</td>\n",
       "      <td>0</td>\n",
       "      <td>Market data only</td>\n",
       "    </tr>\n",
       "    <tr>\n",
       "      <th>6</th>\n",
       "      <td>2000-01-11</td>\n",
       "      <td>92.987846</td>\n",
       "      <td>-0.012038</td>\n",
       "      <td>0.000000</td>\n",
       "      <td>0.000000</td>\n",
       "      <td>93.591164</td>\n",
       "      <td>down</td>\n",
       "      <td>down</td>\n",
       "      <td>0</td>\n",
       "      <td>Market data only</td>\n",
       "    </tr>\n",
       "    <tr>\n",
       "      <th>7</th>\n",
       "      <td>2000-01-12</td>\n",
       "      <td>92.062798</td>\n",
       "      <td>-0.009998</td>\n",
       "      <td>0.000000</td>\n",
       "      <td>0.000000</td>\n",
       "      <td>93.591164</td>\n",
       "      <td>down</td>\n",
       "      <td>down</td>\n",
       "      <td>0</td>\n",
       "      <td>Market data only</td>\n",
       "    </tr>\n",
       "    <tr>\n",
       "      <th>8</th>\n",
       "      <td>2000-01-13</td>\n",
       "      <td>93.309586</td>\n",
       "      <td>0.013452</td>\n",
       "      <td>0.000000</td>\n",
       "      <td>0.000000</td>\n",
       "      <td>93.591164</td>\n",
       "      <td>down</td>\n",
       "      <td>up</td>\n",
       "      <td>0</td>\n",
       "      <td>Market data only</td>\n",
       "    </tr>\n",
       "    <tr>\n",
       "      <th>9</th>\n",
       "      <td>2000-01-14</td>\n",
       "      <td>94.576469</td>\n",
       "      <td>0.013486</td>\n",
       "      <td>0.000000</td>\n",
       "      <td>0.000000</td>\n",
       "      <td>93.591164</td>\n",
       "      <td>down</td>\n",
       "      <td>up</td>\n",
       "      <td>0</td>\n",
       "      <td>Market data only</td>\n",
       "    </tr>\n",
       "  </tbody>\n",
       "</table>\n",
       "</div>"
      ],
      "text/plain": [
       "       dates  actual_close  actual_log_close  predicted_log_close  \\\n",
       "0 2000-01-03     93.591164          0.000000             0.000000   \n",
       "1 2000-01-04     89.931152         -0.039892             0.000000   \n",
       "2 2000-01-05     90.092049          0.001788             0.000000   \n",
       "3 2000-01-06     88.644089         -0.016203             0.000000   \n",
       "4 2000-01-07     93.792213          0.056452             0.000000   \n",
       "5 2000-01-10     94.113983          0.003425             0.000000   \n",
       "6 2000-01-11     92.987846         -0.012038             0.000000   \n",
       "7 2000-01-12     92.062798         -0.009998             0.000000   \n",
       "8 2000-01-13     93.309586          0.013452             0.000000   \n",
       "9 2000-01-14     94.576469          0.013486             0.000000   \n",
       "\n",
       "   predicted_cumulative_log_returns  predicted_cumulative_log_returns_prices  \\\n",
       "0                          0.000000                                93.591164   \n",
       "1                          0.000000                                93.591164   \n",
       "2                          0.000000                                93.591164   \n",
       "3                          0.000000                                93.591164   \n",
       "4                          0.000000                                93.591164   \n",
       "5                          0.000000                                93.591164   \n",
       "6                          0.000000                                93.591164   \n",
       "7                          0.000000                                93.591164   \n",
       "8                          0.000000                                93.591164   \n",
       "9                          0.000000                                93.591164   \n",
       "\n",
       "  predicted_behaviour actual_behaviour  success             model  \n",
       "0                down             down        0  Market data only  \n",
       "1                down             down        0  Market data only  \n",
       "2                down               up        0  Market data only  \n",
       "3                down             down        0  Market data only  \n",
       "4                down               up        0  Market data only  \n",
       "5                down               up        0  Market data only  \n",
       "6                down             down        0  Market data only  \n",
       "7                down             down        0  Market data only  \n",
       "8                down               up        0  Market data only  \n",
       "9                down               up        0  Market data only  "
      ]
     },
     "execution_count": 103,
     "metadata": {},
     "output_type": "execute_result"
    }
   ],
   "source": [
    "predicted_df.head(10)"
   ]
  },
  {
   "cell_type": "markdown",
   "id": "d2f1ab7f-824a-485c-96ce-77be1c3f382b",
   "metadata": {},
   "source": [
    "# Export the results in csv to S3"
   ]
  },
  {
   "cell_type": "code",
   "execution_count": 104,
   "id": "9a181681-2ff2-4867-8153-f9e3c62ffb29",
   "metadata": {},
   "outputs": [
    {
     "data": {
      "text/plain": [
       "{'ResponseMetadata': {'RequestId': 'METQH28QTAZVD7DC',\n",
       "  'HostId': 'QnTHuf/1ByPFJkKQ72NXiteWqowe82EQc1ag2wfa+RneOuf4NDW3XXBQO0wV9yI38J0FQaaXRYfQQACaQ4l3qYVL91u2l+gtY7sdV+pWEPY=',\n",
       "  'HTTPStatusCode': 200,\n",
       "  'HTTPHeaders': {'x-amz-id-2': 'QnTHuf/1ByPFJkKQ72NXiteWqowe82EQc1ag2wfa+RneOuf4NDW3XXBQO0wV9yI38J0FQaaXRYfQQACaQ4l3qYVL91u2l+gtY7sdV+pWEPY=',\n",
       "   'x-amz-request-id': 'METQH28QTAZVD7DC',\n",
       "   'date': 'Tue, 30 Jul 2024 17:07:56 GMT',\n",
       "   'x-amz-version-id': 'F__N.hzeoX.lSdlfoR.olgUraZtCkDq.',\n",
       "   'x-amz-server-side-encryption': 'AES256',\n",
       "   'etag': '\"1a212d82752a7dc4c855aae448024b0b\"',\n",
       "   'server': 'AmazonS3',\n",
       "   'content-length': '0'},\n",
       "  'RetryAttempts': 0},\n",
       " 'ETag': '\"1a212d82752a7dc4c855aae448024b0b\"',\n",
       " 'ServerSideEncryption': 'AES256',\n",
       " 'VersionId': 'F__N.hzeoX.lSdlfoR.olgUraZtCkDq.'}"
      ]
     },
     "execution_count": 104,
     "metadata": {},
     "output_type": "execute_result"
    }
   ],
   "source": [
    "import boto3\n",
    "from io import StringIO\n",
    "\n",
    "bucket_name = 'bpv-dl-qa-analytics-s3'\n",
    "prefix = 'time_series/results'\n",
    "file_name = 'prediction_deepar_new_models_final.csv'\n",
    "\n",
    "# Convert DataFrame to CSV\n",
    "csv_buffer = StringIO()\n",
    "predicted_df.to_csv(csv_buffer, index=False, float_format='%.6f')\n",
    "\n",
    "# Create S3 resource\n",
    "s3_resource = boto3.resource('s3')\n",
    "\n",
    "# Upload CSV to S3\n",
    "s3_resource.Object(bucket_name, f\"{prefix}/{file_name}\").put(Body=csv_buffer.getvalue())"
   ]
  },
  {
   "cell_type": "code",
   "execution_count": null,
   "id": "2689f91e-cd86-4d57-b02f-8f4ecc926737",
   "metadata": {},
   "outputs": [],
   "source": []
  }
 ],
 "metadata": {
  "kernelspec": {
   "display_name": "Python 3 (ipykernel)",
   "language": "python",
   "name": "python3"
  },
  "language_info": {
   "codemirror_mode": {
    "name": "ipython",
    "version": 3
   },
   "file_extension": ".py",
   "mimetype": "text/x-python",
   "name": "python",
   "nbconvert_exporter": "python",
   "pygments_lexer": "ipython3",
   "version": "3.10.14"
  }
 },
 "nbformat": 4,
 "nbformat_minor": 5
}
